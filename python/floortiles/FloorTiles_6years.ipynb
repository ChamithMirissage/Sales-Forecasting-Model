{
 "cells": [
  {
   "cell_type": "code",
   "execution_count": 1,
   "metadata": {},
   "outputs": [],
   "source": [
    "import numpy as np\n",
    "import pandas as pd\n",
    "from datetime import datetime\n",
    "import matplotlib.pylab as plt\n",
    "%matplotlib inline\n",
    "from matplotlib.pylab import rcParams\n",
    "from sklearn.ensemble import RandomForestRegressor\n",
    "from sklearn.preprocessing import LabelEncoder\n",
    "from sklearn.preprocessing import OneHotEncoder"
   ]
  },
  {
   "cell_type": "code",
   "execution_count": 2,
   "metadata": {},
   "outputs": [],
   "source": [
    "dataset = pd.read_pickle(\"./6years.pkl\")"
   ]
  },
  {
   "cell_type": "code",
   "execution_count": 3,
   "metadata": {},
   "outputs": [
    {
     "name": "stdout",
     "output_type": "stream",
     "text": [
      "         CDateTime SalesPoint  SalesChannelKey         GroupCat ItemSize  \\\n",
      "0       2013-01-01      FDHOR                5      FLOOR TILES        A   \n",
      "1       2013-01-01      FDKEG                5       WALL TILES        G   \n",
      "2       2013-01-01      FDKEG                5       WALL TILES        G   \n",
      "3       2013-01-01      FDNIT                5      FLOOR TILES        M   \n",
      "4       2013-01-01      FDNIT                5      FLOOR TILES        P   \n",
      "5       2013-01-01      FDPND                5       WALL TILES        D   \n",
      "6       2013-01-01      FDPND                5       WALL TILES        S   \n",
      "7       2013-01-01      LWSR                 4       WALL TILES        T   \n",
      "8       2013-01-01      LWSR                 4       WALL TILES        D   \n",
      "9       2013-01-01      FDHOR                5       WALL TILES        D   \n",
      "10      2013-01-01      KDSR                 5       WALL TILES        D   \n",
      "11      2013-01-01      KDSR                 5      FLOOR TILES        A   \n",
      "12      2013-01-01      LWSR                 4      FLOOR TILES        P   \n",
      "13      2013-01-01      LWSR                 4      FLOOR TILES        U   \n",
      "14      2013-01-01      LWSR                 4      FLOOR TILES        V   \n",
      "15      2013-01-01      FDMTU                5      FLOOR TILES        U   \n",
      "16      2013-01-01      CAPEL                1       WALL TILES        D   \n",
      "17      2013-01-01      FDGAP                5            GROUT        Q   \n",
      "18      2013-01-01      FDGAP                5            GROUT        Q   \n",
      "19      2013-01-01      FDALU                5            GROUT        Q   \n",
      "20      2013-01-01      DELUN                3       WALL TILES        D   \n",
      "21      2013-01-01      FDJAF                5      FLOOR TILES        M   \n",
      "22      2013-01-01      DELUN                2      FLOOR TILES        U   \n",
      "23      2013-01-01      FDPND                5            GROUT        Q   \n",
      "24      2013-01-01      FDPND                5            GROUT        Q   \n",
      "25      2013-01-01      FDJAF                5       WALL TILES        D   \n",
      "26      2013-01-01      FDJAF                5       WALL TILES        V   \n",
      "27      2013-01-01      FDJAF                5       WALL TILES        D   \n",
      "28      2013-01-01      CAMAT                4      FLOOR TILES        U   \n",
      "29      2013-01-01      CABLM                1           MORTAR        P   \n",
      "...            ...        ...              ...              ...      ...   \n",
      "3970031 2018-12-31      LWSR                 4      FLOOR TILES        X   \n",
      "3970032 2018-12-31      LWSR                 4           MORTAR        P   \n",
      "3970033 2018-12-31      LWSR                 4      FLOOR TILES        Y   \n",
      "3970034 2018-12-31      FDAVS                5      FLOOR TILES        T   \n",
      "3970035 2018-12-31      FDAVS                5      FLOOR TILES        X   \n",
      "3970036 2018-12-31      FDAVS                5     INDIAN TILES        D   \n",
      "3970037 2018-12-31      FDJAF                5       WALL TILES        D   \n",
      "3970038 2018-12-31      FDJAF                5       WALL TILES        F   \n",
      "3970039 2018-12-31      FDKAD                5      FLOOR TILES        Y   \n",
      "3970040 2018-12-31      FDAMB                5      FLOOR TILES        A   \n",
      "3970041 2018-12-31      FDAMB                5      FLOOR TILES        X   \n",
      "3970042 2018-12-31      FDAMB                5      FLOOR TILES        X   \n",
      "3970043 2018-12-31      FDAMB                5      FLOOR TILES        A   \n",
      "3970044 2018-12-31      FDAMB                5      FLOOR TILES        T   \n",
      "3970045 2018-12-31      DBNUG                2       WALL TILES        P   \n",
      "3970046 2018-12-31      FDJEL                5      FLOOR TILES        X   \n",
      "3970047 2018-12-31      FDJEL                5     INDIAN TILES        R   \n",
      "3970048 2018-12-31      FDJEL                5  SWISSTEK ALUMIN        T   \n",
      "3970049 2018-12-31      FDJEL                5            GROUT        Q   \n",
      "3970050 2018-12-31      DELUN                3     INDIAN TILES        F   \n",
      "3970051 2018-12-31      DELUN                3       WALL TILES        P   \n",
      "3970052 2018-12-31      DELUN                2       WALL TILES        R   \n",
      "3970053 2018-12-31      DELUN                3       WALL TILES        P   \n",
      "3970054 2018-12-31      DELUN                3       WALL TILES        P   \n",
      "3970055 2018-12-31      DELUN                3       WALL TILES        P   \n",
      "3970056 2018-12-31      DELUN                3       WALL TILES        P   \n",
      "3970057 2018-12-31      DELUN                3       WALL TILES        P   \n",
      "3970058 2018-12-31      FDBA1                5      FLOOR TILES        T   \n",
      "3970059 2018-12-31      FDBA1                5      FLOOR TILES        T   \n",
      "3970060 2018-12-31      FDJEL                5            GROUT        Q   \n",
      "\n",
      "         DiscountPcnt     QTY  \n",
      "0                10.0    14.0  \n",
      "1                25.0     1.0  \n",
      "2                25.0     6.0  \n",
      "3                25.0     1.0  \n",
      "4                25.0     2.0  \n",
      "5                10.0    10.0  \n",
      "6                15.0    25.0  \n",
      "7                15.0    10.0  \n",
      "8                 0.0    12.0  \n",
      "9                10.0    40.0  \n",
      "10               15.0     3.0  \n",
      "11               10.0    60.0  \n",
      "12               25.0    50.0  \n",
      "13               10.0    15.0  \n",
      "14               15.0    60.0  \n",
      "15               10.0   111.0  \n",
      "16                0.0    28.0  \n",
      "17                0.0     1.0  \n",
      "18                0.0     1.0  \n",
      "19                0.0     1.0  \n",
      "20               18.5  1920.0  \n",
      "21               25.0    57.0  \n",
      "22               81.0    37.0  \n",
      "23                0.0     1.0  \n",
      "24                0.0     1.0  \n",
      "25               15.0   140.0  \n",
      "26               15.0    70.0  \n",
      "27               15.0   125.0  \n",
      "28                0.0     5.0  \n",
      "29                0.0    10.0  \n",
      "...               ...     ...  \n",
      "3970031           0.0    10.0  \n",
      "3970032           7.5    14.0  \n",
      "3970033          67.5     1.0  \n",
      "3970034           0.0   177.0  \n",
      "3970035           0.0    47.0  \n",
      "3970036           0.0   169.0  \n",
      "3970037           1.0  2200.0  \n",
      "3970038           0.0    38.0  \n",
      "3970039           0.0    12.0  \n",
      "3970040           0.0    16.0  \n",
      "3970041           1.0   215.0  \n",
      "3970042           0.0   200.0  \n",
      "3970043           1.0    50.0  \n",
      "3970044           1.0   595.0  \n",
      "3970045           0.0    22.0  \n",
      "3970046           1.0   250.0  \n",
      "3970047           0.0    39.0  \n",
      "3970048           0.0    22.0  \n",
      "3970049           0.0     1.0  \n",
      "3970050           0.0    27.0  \n",
      "3970051           1.0   384.0  \n",
      "3970052           0.0   960.0  \n",
      "3970053           0.0  1100.0  \n",
      "3970054           0.0  2200.0  \n",
      "3970055           0.0   384.0  \n",
      "3970056           0.0   384.0  \n",
      "3970057           0.0   384.0  \n",
      "3970058           1.0    92.0  \n",
      "3970059           1.0   312.0  \n",
      "3970060           0.0     1.0  \n",
      "\n",
      "[3970061 rows x 7 columns]\n"
     ]
    }
   ],
   "source": [
    "dataset = dataset.reset_index(drop=True)\n",
    "print (dataset)"
   ]
  },
  {
   "cell_type": "code",
   "execution_count": null,
   "metadata": {},
   "outputs": [],
   "source": []
  },
  {
   "cell_type": "code",
   "execution_count": 4,
   "metadata": {},
   "outputs": [
    {
     "name": "stdout",
     "output_type": "stream",
     "text": [
      "         CDateTime SalesPoint  SalesChannelKey     GroupCat ItemSize  \\\n",
      "0       2013-01-01      FDHOR                5  FLOOR TILES        A   \n",
      "1       2013-01-01      FDNIT                5  FLOOR TILES        M   \n",
      "2       2013-01-01      FDNIT                5  FLOOR TILES        P   \n",
      "3       2013-01-01      KDSR                 5  FLOOR TILES        A   \n",
      "4       2013-01-01      LWSR                 4  FLOOR TILES        P   \n",
      "...            ...        ...              ...          ...      ...   \n",
      "1401505 2018-12-31      FDAMB                5  FLOOR TILES        A   \n",
      "1401506 2018-12-31      FDAMB                5  FLOOR TILES        T   \n",
      "1401507 2018-12-31      FDJEL                5  FLOOR TILES        X   \n",
      "1401508 2018-12-31      FDBA1                5  FLOOR TILES        T   \n",
      "1401509 2018-12-31      FDBA1                5  FLOOR TILES        T   \n",
      "\n",
      "         DiscountPcnt    QTY  \n",
      "0                10.0   14.0  \n",
      "1                25.0    1.0  \n",
      "2                25.0    2.0  \n",
      "3                10.0   60.0  \n",
      "4                25.0   50.0  \n",
      "...               ...    ...  \n",
      "1401505           1.0   50.0  \n",
      "1401506           1.0  595.0  \n",
      "1401507           1.0  250.0  \n",
      "1401508           1.0   92.0  \n",
      "1401509           1.0  312.0  \n",
      "\n",
      "[1401510 rows x 7 columns]\n"
     ]
    }
   ],
   "source": [
    "FloorTiles_data = dataset.loc[dataset.GroupCat=='FLOOR TILES'].reset_index(drop=True)\n",
    "print (FloorTiles_data)"
   ]
  },
  {
   "cell_type": "code",
   "execution_count": 5,
   "metadata": {},
   "outputs": [],
   "source": [
    "FloorTiles_data.to_pickle(\"./Floortiles.pkl\")"
   ]
  },
  {
   "cell_type": "code",
   "execution_count": 2,
   "metadata": {},
   "outputs": [
    {
     "name": "stdout",
     "output_type": "stream",
     "text": [
      "         CDateTime SalesPoint  SalesChannelKey     GroupCat ItemSize  \\\n",
      "0       2013-01-01      FDHOR                5  FLOOR TILES        A   \n",
      "1       2013-01-01      FDNIT                5  FLOOR TILES        M   \n",
      "2       2013-01-01      FDNIT                5  FLOOR TILES        P   \n",
      "3       2013-01-01      KDSR                 5  FLOOR TILES        A   \n",
      "4       2013-01-01      LWSR                 4  FLOOR TILES        P   \n",
      "5       2013-01-01      LWSR                 4  FLOOR TILES        U   \n",
      "6       2013-01-01      LWSR                 4  FLOOR TILES        V   \n",
      "7       2013-01-01      FDMTU                5  FLOOR TILES        U   \n",
      "8       2013-01-01      FDJAF                5  FLOOR TILES        M   \n",
      "9       2013-01-01      DELUN                2  FLOOR TILES        U   \n",
      "10      2013-01-01      CAMAT                4  FLOOR TILES        U   \n",
      "11      2013-01-01      DELUN                3  FLOOR TILES        X   \n",
      "12      2013-01-01      DELUN                3  FLOOR TILES        X   \n",
      "13      2013-01-01      KDSR                 5  FLOOR TILES        P   \n",
      "14      2013-01-01      LWSR                 4  FLOOR TILES        V   \n",
      "15      2013-01-01      FDWAP                5  FLOOR TILES        X   \n",
      "16      2013-01-01      KDSR                 5  FLOOR TILES        U   \n",
      "17      2013-01-01      KDSR                 5  FLOOR TILES        U   \n",
      "18      2013-01-01      LWSR                 4  FLOOR TILES        L   \n",
      "19      2013-01-01      DELUN                2  FLOOR TILES        U   \n",
      "20      2013-01-01      FDNIT                5  FLOOR TILES        X   \n",
      "21      2013-01-01      FDAMB                5  FLOOR TILES        A   \n",
      "22      2013-01-01      FDMOT                5  FLOOR TILES        U   \n",
      "23      2013-01-01      LWSR                 4  FLOOR TILES        A   \n",
      "24      2013-01-01      DELUN                3  FLOOR TILES        U   \n",
      "25      2013-01-01      DELUN                2  FLOOR TILES        U   \n",
      "26      2013-01-01      LWSR                 4  FLOOR TILES        P   \n",
      "27      2013-01-01      LWSR                 4  FLOOR TILES        P   \n",
      "28      2013-01-01      LWSR                 4  FLOOR TILES        X   \n",
      "29      2013-01-01      LWSR                 4  FLOOR TILES        X   \n",
      "...            ...        ...              ...          ...      ...   \n",
      "1401480 2018-12-31      DELUN                2  FLOOR TILES        T   \n",
      "1401481 2018-12-31      DELUN                3  FLOOR TILES        A   \n",
      "1401482 2018-12-31      DELUN                3  FLOOR TILES        T   \n",
      "1401483 2018-12-31      DELUN                3  FLOOR TILES        T   \n",
      "1401484 2018-12-31      FDAMB                5  FLOOR TILES        Y   \n",
      "1401485 2018-12-31      FDAMB                5  FLOOR TILES        A   \n",
      "1401486 2018-12-31      FDAMB                5  FLOOR TILES        X   \n",
      "1401487 2018-12-31      DBNUG                2  FLOOR TILES        A   \n",
      "1401488 2018-12-31      FDJEL                5  FLOOR TILES        X   \n",
      "1401489 2018-12-31      FDJEL                5  FLOOR TILES        X   \n",
      "1401490 2018-12-31      FDAVS                5  FLOOR TILES        T   \n",
      "1401491 2018-12-31      FDJAF                5  FLOOR TILES        A   \n",
      "1401492 2018-12-31      FDKEG                5  FLOOR TILES        T   \n",
      "1401493 2018-12-31      FDKEG                5  FLOOR TILES        X   \n",
      "1401494 2018-12-31      FDWAT                5  FLOOR TILES        L   \n",
      "1401495 2018-12-31      FDWAT                5  FLOOR TILES        Y   \n",
      "1401496 2018-12-31      LWSR                 4  FLOOR TILES        X   \n",
      "1401497 2018-12-31      LWSR                 4  FLOOR TILES        X   \n",
      "1401498 2018-12-31      LWSR                 4  FLOOR TILES        Y   \n",
      "1401499 2018-12-31      FDAVS                5  FLOOR TILES        T   \n",
      "1401500 2018-12-31      FDAVS                5  FLOOR TILES        X   \n",
      "1401501 2018-12-31      FDKAD                5  FLOOR TILES        Y   \n",
      "1401502 2018-12-31      FDAMB                5  FLOOR TILES        A   \n",
      "1401503 2018-12-31      FDAMB                5  FLOOR TILES        X   \n",
      "1401504 2018-12-31      FDAMB                5  FLOOR TILES        X   \n",
      "1401505 2018-12-31      FDAMB                5  FLOOR TILES        A   \n",
      "1401506 2018-12-31      FDAMB                5  FLOOR TILES        T   \n",
      "1401507 2018-12-31      FDJEL                5  FLOOR TILES        X   \n",
      "1401508 2018-12-31      FDBA1                5  FLOOR TILES        T   \n",
      "1401509 2018-12-31      FDBA1                5  FLOOR TILES        T   \n",
      "\n",
      "         DiscountPcnt    QTY  \n",
      "0                10.0   14.0  \n",
      "1                25.0    1.0  \n",
      "2                25.0    2.0  \n",
      "3                10.0   60.0  \n",
      "4                25.0   50.0  \n",
      "5                10.0   15.0  \n",
      "6                15.0   60.0  \n",
      "7                10.0  111.0  \n",
      "8                25.0   57.0  \n",
      "9                81.0   37.0  \n",
      "10                0.0    5.0  \n",
      "11                0.0  173.0  \n",
      "12                0.0  173.0  \n",
      "13               25.0   48.0  \n",
      "14                0.0    5.0  \n",
      "15               25.0   84.0  \n",
      "16               10.0    1.0  \n",
      "17               10.0    1.0  \n",
      "18               25.0  242.0  \n",
      "19               81.0   37.0  \n",
      "20               25.0   35.0  \n",
      "21                7.5    6.0  \n",
      "22               15.0  106.0  \n",
      "23               10.0   45.0  \n",
      "24                0.0  491.0  \n",
      "25                0.0  491.0  \n",
      "26               25.0  440.0  \n",
      "27               15.0   13.0  \n",
      "28               15.0    3.0  \n",
      "29               15.0    3.0  \n",
      "...               ...    ...  \n",
      "1401480           0.0  161.0  \n",
      "1401481           0.0  840.0  \n",
      "1401482           0.0  528.0  \n",
      "1401483           0.0  528.0  \n",
      "1401484           0.0   50.0  \n",
      "1401485           0.0   60.0  \n",
      "1401486           0.0  150.0  \n",
      "1401487           0.0   44.0  \n",
      "1401488           1.0  165.0  \n",
      "1401489           1.0  180.0  \n",
      "1401490           0.0    6.0  \n",
      "1401491           0.0   55.0  \n",
      "1401492           0.0  140.0  \n",
      "1401493           0.0   90.0  \n",
      "1401494           1.0   50.0  \n",
      "1401495           1.0   17.0  \n",
      "1401496           0.0   40.0  \n",
      "1401497           0.0   10.0  \n",
      "1401498          67.5    1.0  \n",
      "1401499           0.0  177.0  \n",
      "1401500           0.0   47.0  \n",
      "1401501           0.0   12.0  \n",
      "1401502           0.0   16.0  \n",
      "1401503           1.0  215.0  \n",
      "1401504           0.0  200.0  \n",
      "1401505           1.0   50.0  \n",
      "1401506           1.0  595.0  \n",
      "1401507           1.0  250.0  \n",
      "1401508           1.0   92.0  \n",
      "1401509           1.0  312.0  \n",
      "\n",
      "[1401510 rows x 7 columns]\n"
     ]
    }
   ],
   "source": [
    "FloorTiles_data = pd.read_pickle(\"./Floortiles.pkl\")\n",
    "print (FloorTiles_data)"
   ]
  },
  {
   "cell_type": "code",
   "execution_count": 10,
   "metadata": {},
   "outputs": [
    {
     "data": {
      "text/plain": [
       "count    1401510.000000\n",
       "mean         178.106731\n",
       "std          474.166049\n",
       "min            1.000000\n",
       "25%           15.000000\n",
       "50%           58.000000\n",
       "75%          170.000000\n",
       "max        77760.000000\n",
       "Name: QTY, dtype: object"
      ]
     },
     "execution_count": 10,
     "metadata": {},
     "output_type": "execute_result"
    }
   ],
   "source": [
    "FloorTiles_data['QTY'].describe().apply(lambda x: format(x, 'f'))"
   ]
  },
  {
   "cell_type": "code",
   "execution_count": 3,
   "metadata": {},
   "outputs": [
    {
     "name": "stdout",
     "output_type": "stream",
     "text": [
      "         CDateTime SalesPoint  SalesChannelKey ItemSize  DiscountPcnt    QTY\n",
      "0       2013-01-01      FDHOR                5        A          10.0   14.0\n",
      "1       2013-01-01      FDNIT                5        M          25.0    1.0\n",
      "2       2013-01-01      FDNIT                5        P          25.0    2.0\n",
      "3       2013-01-01      KDSR                 5        A          10.0   60.0\n",
      "4       2013-01-01      LWSR                 4        P          25.0   50.0\n",
      "5       2013-01-01      LWSR                 4        U          10.0   15.0\n",
      "6       2013-01-01      LWSR                 4        V          15.0   60.0\n",
      "7       2013-01-01      FDMTU                5        U          10.0  111.0\n",
      "8       2013-01-01      FDJAF                5        M          25.0   57.0\n",
      "9       2013-01-01      DELUN                2        U          81.0   37.0\n",
      "10      2013-01-01      CAMAT                4        U           0.0    5.0\n",
      "11      2013-01-01      DELUN                3        X           0.0  173.0\n",
      "12      2013-01-01      DELUN                3        X           0.0  173.0\n",
      "13      2013-01-01      KDSR                 5        P          25.0   48.0\n",
      "14      2013-01-01      LWSR                 4        V           0.0    5.0\n",
      "15      2013-01-01      FDWAP                5        X          25.0   84.0\n",
      "16      2013-01-01      KDSR                 5        U          10.0    1.0\n",
      "17      2013-01-01      KDSR                 5        U          10.0    1.0\n",
      "18      2013-01-01      LWSR                 4        L          25.0  242.0\n",
      "19      2013-01-01      DELUN                2        U          81.0   37.0\n",
      "20      2013-01-01      FDNIT                5        X          25.0   35.0\n",
      "21      2013-01-01      FDAMB                5        A           7.5    6.0\n",
      "22      2013-01-01      FDMOT                5        U          15.0  106.0\n",
      "23      2013-01-01      LWSR                 4        A          10.0   45.0\n",
      "24      2013-01-01      DELUN                3        U           0.0  491.0\n",
      "25      2013-01-01      DELUN                2        U           0.0  491.0\n",
      "26      2013-01-01      LWSR                 4        P          25.0  440.0\n",
      "27      2013-01-01      LWSR                 4        P          15.0   13.0\n",
      "28      2013-01-01      LWSR                 4        X          15.0    3.0\n",
      "29      2013-01-01      LWSR                 4        X          15.0    3.0\n",
      "...            ...        ...              ...      ...           ...    ...\n",
      "1401480 2018-12-31      DELUN                2        T           0.0  161.0\n",
      "1401481 2018-12-31      DELUN                3        A           0.0  840.0\n",
      "1401482 2018-12-31      DELUN                3        T           0.0  528.0\n",
      "1401483 2018-12-31      DELUN                3        T           0.0  528.0\n",
      "1401484 2018-12-31      FDAMB                5        Y           0.0   50.0\n",
      "1401485 2018-12-31      FDAMB                5        A           0.0   60.0\n",
      "1401486 2018-12-31      FDAMB                5        X           0.0  150.0\n",
      "1401487 2018-12-31      DBNUG                2        A           0.0   44.0\n",
      "1401488 2018-12-31      FDJEL                5        X           1.0  165.0\n",
      "1401489 2018-12-31      FDJEL                5        X           1.0  180.0\n",
      "1401490 2018-12-31      FDAVS                5        T           0.0    6.0\n",
      "1401491 2018-12-31      FDJAF                5        A           0.0   55.0\n",
      "1401492 2018-12-31      FDKEG                5        T           0.0  140.0\n",
      "1401493 2018-12-31      FDKEG                5        X           0.0   90.0\n",
      "1401494 2018-12-31      FDWAT                5        L           1.0   50.0\n",
      "1401495 2018-12-31      FDWAT                5        Y           1.0   17.0\n",
      "1401496 2018-12-31      LWSR                 4        X           0.0   40.0\n",
      "1401497 2018-12-31      LWSR                 4        X           0.0   10.0\n",
      "1401498 2018-12-31      LWSR                 4        Y          67.5    1.0\n",
      "1401499 2018-12-31      FDAVS                5        T           0.0  177.0\n",
      "1401500 2018-12-31      FDAVS                5        X           0.0   47.0\n",
      "1401501 2018-12-31      FDKAD                5        Y           0.0   12.0\n",
      "1401502 2018-12-31      FDAMB                5        A           0.0   16.0\n",
      "1401503 2018-12-31      FDAMB                5        X           1.0  215.0\n",
      "1401504 2018-12-31      FDAMB                5        X           0.0  200.0\n",
      "1401505 2018-12-31      FDAMB                5        A           1.0   50.0\n",
      "1401506 2018-12-31      FDAMB                5        T           1.0  595.0\n",
      "1401507 2018-12-31      FDJEL                5        X           1.0  250.0\n",
      "1401508 2018-12-31      FDBA1                5        T           1.0   92.0\n",
      "1401509 2018-12-31      FDBA1                5        T           1.0  312.0\n",
      "\n",
      "[1401510 rows x 6 columns]\n"
     ]
    }
   ],
   "source": [
    "del (FloorTiles_data['GroupCat'])\n",
    "print (FloorTiles_data)"
   ]
  },
  {
   "cell_type": "code",
   "execution_count": 6,
   "metadata": {},
   "outputs": [
    {
     "data": {
      "text/plain": [
       "count    1399203.000000\n",
       "mean           8.990914\n",
       "std           17.861999\n",
       "min          -30.500000\n",
       "25%            0.000000\n",
       "50%            0.000000\n",
       "75%           10.000000\n",
       "max          100.000000\n",
       "Name: DiscountPcnt, dtype: object"
      ]
     },
     "execution_count": 6,
     "metadata": {},
     "output_type": "execute_result"
    }
   ],
   "source": [
    "FloorTiles_data['DiscountPcnt'].describe().apply(lambda x: format(x, 'f'))"
   ]
  },
  {
   "cell_type": "code",
   "execution_count": 7,
   "metadata": {},
   "outputs": [
    {
     "data": {
      "text/plain": [
       "count    1401510.000000\n",
       "mean         178.106731\n",
       "std          474.166049\n",
       "min            1.000000\n",
       "25%           15.000000\n",
       "50%           58.000000\n",
       "75%          170.000000\n",
       "max        77760.000000\n",
       "Name: QTY, dtype: object"
      ]
     },
     "execution_count": 7,
     "metadata": {},
     "output_type": "execute_result"
    }
   ],
   "source": [
    "FloorTiles_data['QTY'].describe().apply(lambda x: format(x, 'f'))"
   ]
  },
  {
   "cell_type": "code",
   "execution_count": 4,
   "metadata": {},
   "outputs": [],
   "source": [
    "FloorTiles_data = FloorTiles_data[(FloorTiles_data.SalesPoint != 'DELUN')]\n",
    "FloorTiles_data = FloorTiles_data[(FloorTiles_data.SalesPoint != 'LWSR ')]"
   ]
  },
  {
   "cell_type": "code",
   "execution_count": 25,
   "metadata": {},
   "outputs": [
    {
     "name": "stdout",
     "output_type": "stream",
     "text": [
      "['A', 'B', 'C', 'G', 'H', 'J', 'K', 'L', 'M', 'N', 'P', 'Q', 'S', 'T', 'U', 'V', 'W', 'X', 'Y']\n"
     ]
    },
    {
     "data": {
      "text/plain": [
       "19"
      ]
     },
     "execution_count": 25,
     "metadata": {},
     "output_type": "execute_result"
    }
   ],
   "source": [
    "x=sorted(FloorTiles_data.ItemSize.unique())\n",
    "print (x)\n",
    "len(x)"
   ]
  },
  {
   "cell_type": "code",
   "execution_count": 26,
   "metadata": {},
   "outputs": [
    {
     "name": "stdout",
     "output_type": "stream",
     "text": [
      "[-1, 1, 2, 4, 5, 7]\n"
     ]
    },
    {
     "data": {
      "text/plain": [
       "6"
      ]
     },
     "execution_count": 26,
     "metadata": {},
     "output_type": "execute_result"
    }
   ],
   "source": [
    "y=sorted(FloorTiles_data.SalesChannelKey.unique())\n",
    "print (y)\n",
    "len(y)"
   ]
  },
  {
   "cell_type": "code",
   "execution_count": 5,
   "metadata": {},
   "outputs": [
    {
     "name": "stdout",
     "output_type": "stream",
     "text": [
      "143\n"
     ]
    }
   ],
   "source": [
    "floor_names = FloorTiles_data['SalesPoint'].unique().tolist()\n",
    "print (len(floor_names))"
   ]
  },
  {
   "cell_type": "code",
   "execution_count": 6,
   "metadata": {},
   "outputs": [
    {
     "name": "stdout",
     "output_type": "stream",
     "text": [
      "['FDHOR', 'FDNIT', 'KDSR ', 'FDMTU', 'FDJAF', 'CAMAT', 'FDWAP', 'FDAMB', 'FDMOT', 'CABLM', 'CARAP', 'FDPND', 'FDGAP', 'FDWAT', 'FDPER', 'FDWAR', 'FDKEG', 'CAKAN', 'FDMTL', 'CAGOG', 'FDAVI', 'FDMON', 'FDJFN', 'FDMAG', 'FDCHI', 'FDDAM', 'FDALU', 'FDKAD', 'FDVAV', 'CAPEL', 'CADAM', 'FDMAL', 'FDGAM', 'FDKUR', 'FDAMT', 'FDWEL', 'FDEMB', 'FDBA1', 'FDBA2', 'RS001', 'FDMIN', 'FDBAD', 'JWSR ', 'FDNEG', 'FDGAL', 'RS002', 'FDWEN', 'FDKDW', 'FDJEL', 'FDRAT', 'FDBAL', 'LPTEC', 'FDMHI', 'LPALL', 'LPMEG', 'FDKOT', 'LPSAH', 'FDAMP', 'DBRAT', 'LPLAS', 'DBNAW', 'LPSAM', 'LPSAD', 'LPWES', 'LPWLH', 'LPROY', 'LPAKF', 'LPCOS', 'DBPIL', 'LPSNF', 'LPABE', 'LPBAT', 'LPSTA', 'LPSWA', 'LPMAH', 'LPWCF', 'LPSRF', 'LPNAF', 'LPMTF', 'LPUMA', 'LPPH1', 'DBGAL', 'LPTC2', 'LPMH3', 'LPWH1', 'FDBDU', 'DBKIR', 'DBJF1', 'DBJF2', 'LPAS1', 'LPCH1', 'LPJAH', 'LPSC4', 'LPRL1', 'DBANU', 'LPAH3', 'DBNEG', 'DBALU', 'DBKEG', 'DBDIG', 'LPGL1', 'DBHOR', 'LPHB1', 'LPIG1', 'LPCB2', 'DBANG', 'LPWE9', 'LPLE1', 'LPSH9', 'LPWIC', 'DBCOL', 'DBSAM', 'DBPER', 'DBKUR', 'DBMHI', 'DBTHI', 'LPVP1', 'LPVP2', 'LPKLF', 'DBHAN', 'LPVC1', 'DBMTU', 'FDCHW', 'DBMAT', 'LPCC3', 'DBWEN', 'DBDAM', 'FDKAL', 'FDMAT', 'DBVAV', 'DBRAP', 'DBNAR', 'FDKAN', 'DBBAN', 'DBCO2', 'CAMTG', 'FDHRN', 'CAEHE', 'FDAVS', 'DBNUG', 'FDKLT', 'DBCO3', 'DBVAU']\n"
     ]
    }
   ],
   "source": [
    "print (floor_names)"
   ]
  },
  {
   "cell_type": "code",
   "execution_count": 7,
   "metadata": {},
   "outputs": [
    {
     "name": "stdout",
     "output_type": "stream",
     "text": [
      "['CABLM', 'CADAM', 'CAEHE', 'CAGOG', 'CAKAN', 'CAMAT', 'CAMTG', 'CAPEL', 'CARAP', 'DBALU', 'DBANG', 'DBANU', 'DBBAN', 'DBCO2', 'DBCO3', 'DBCOL', 'DBDAM', 'DBDIG', 'DBGAL', 'DBHAN', 'DBHOR', 'DBJF1', 'DBJF2', 'DBKEG', 'DBKIR', 'DBKUR', 'DBMAT', 'DBMHI', 'DBMTU', 'DBNAR', 'DBNAW', 'DBNEG', 'DBNUG', 'DBPER', 'DBPIL', 'DBRAP', 'DBRAT', 'DBSAM', 'DBTHI', 'DBVAU', 'DBVAV', 'DBWEN', 'FDALU', 'FDAMB', 'FDAMP', 'FDAMT', 'FDAVI', 'FDAVS', 'FDBA1', 'FDBA2', 'FDBAD', 'FDBAL', 'FDBDU', 'FDCHI', 'FDCHW', 'FDDAM', 'FDEMB', 'FDGAL', 'FDGAM', 'FDGAP', 'FDHOR', 'FDHRN', 'FDJAF', 'FDJEL', 'FDJFN', 'FDKAD', 'FDKAL', 'FDKAN', 'FDKDW', 'FDKEG', 'FDKLT', 'FDKOT', 'FDKUR', 'FDMAG', 'FDMAL', 'FDMAT', 'FDMHI', 'FDMIN', 'FDMON', 'FDMOT', 'FDMTL', 'FDMTU', 'FDNEG', 'FDNIT', 'FDPER', 'FDPND', 'FDRAT', 'FDVAV', 'FDWAP', 'FDWAR', 'FDWAT', 'FDWEL', 'FDWEN', 'JWSR ', 'KDSR ', 'LPABE', 'LPAH3', 'LPAKF', 'LPALL', 'LPAS1', 'LPBAT', 'LPCB2', 'LPCC3', 'LPCH1', 'LPCOS', 'LPGL1', 'LPHB1', 'LPIG1', 'LPJAH', 'LPKLF', 'LPLAS', 'LPLE1', 'LPMAH', 'LPMEG', 'LPMH3', 'LPMTF', 'LPNAF', 'LPPH1', 'LPRL1', 'LPROY', 'LPSAD', 'LPSAH', 'LPSAM', 'LPSC4', 'LPSH9', 'LPSNF', 'LPSRF', 'LPSTA', 'LPSWA', 'LPTC2', 'LPTEC', 'LPUMA', 'LPVC1', 'LPVP1', 'LPVP2', 'LPWCF', 'LPWE9', 'LPWES', 'LPWH1', 'LPWIC', 'LPWLH', 'RS001', 'RS002']\n"
     ]
    }
   ],
   "source": [
    "floor_names = sorted(floor_names)\n",
    "print (floor_names)"
   ]
  },
  {
   "cell_type": "code",
   "execution_count": 8,
   "metadata": {},
   "outputs": [
    {
     "name": "stdout",
     "output_type": "stream",
     "text": [
      "end\n"
     ]
    }
   ],
   "source": [
    "floor_datas = {}\n",
    "for i, g in FloorTiles_data.groupby('SalesPoint'):\n",
    "    floor_datas.update({'floor_' + str(i) : g.reset_index(drop=True)})\n",
    "print ('end')"
   ]
  },
  {
   "cell_type": "code",
   "execution_count": 31,
   "metadata": {},
   "outputs": [
    {
     "name": "stdout",
     "output_type": "stream",
     "text": [
      "        CDateTime SalesPoint  SalesChannelKey ItemSize  DiscountPcnt    QTY\n",
      "0      2013-01-01      CABLM                1        M           0.0   72.0\n",
      "1      2013-01-01      CABLM                1        U           0.0    4.0\n",
      "2      2013-01-01      CABLM                1        U           5.0  145.0\n",
      "3      2013-01-01      CABLM                1        U           0.0  130.0\n",
      "4      2013-01-01      CABLM                1        A           0.0  190.0\n",
      "...           ...        ...              ...      ...           ...    ...\n",
      "138512 2018-12-31      CABLM                1        Y           0.0  200.0\n",
      "138513 2018-12-31      CABLM                1        A          30.0  510.0\n",
      "138514 2018-12-31      CABLM                1        Y           0.0  384.0\n",
      "138515 2018-12-31      CABLM                1        Y           0.0   22.0\n",
      "138516 2018-12-31      CABLM                1        Y           0.0   13.0\n",
      "\n",
      "[138517 rows x 6 columns]\n"
     ]
    }
   ],
   "source": [
    "print (floor_datas['floor_CABLM'])"
   ]
  },
  {
   "cell_type": "code",
   "execution_count": 9,
   "metadata": {},
   "outputs": [
    {
     "name": "stdout",
     "output_type": "stream",
     "text": [
      "143\n"
     ]
    }
   ],
   "source": [
    "print (len(floor_datas.keys()))"
   ]
  },
  {
   "cell_type": "code",
   "execution_count": 33,
   "metadata": {},
   "outputs": [
    {
     "name": "stdout",
     "output_type": "stream",
     "text": [
      "12329\n"
     ]
    }
   ],
   "source": [
    "print (len(floor_datas['floor_FDHOR']))"
   ]
  },
  {
   "cell_type": "code",
   "execution_count": 14,
   "metadata": {},
   "outputs": [
    {
     "name": "stdout",
     "output_type": "stream",
     "text": [
      "1 floor_CABLM 1\n",
      "2 floor_CADAM 1\n",
      "3 floor_CAEHE 270\n",
      "4 floor_CAGOG 1\n",
      "5 floor_CAKAN 1\n",
      "6 floor_CAMAT 1\n",
      "7 floor_CAMTG 258\n",
      "8 floor_CAPEL 1\n",
      "9 floor_CARAP 1\n",
      "10 floor_DBALU 141\n",
      "11 floor_DBANG 143\n",
      "12 floor_DBANU 137\n",
      "13 floor_DBBAN 240\n",
      "14 floor_DBCO2 249\n",
      "15 floor_DBCOL 146\n",
      "16 floor_DBDAM 170\n",
      "17 floor_DBDIG 142\n",
      "18 floor_DBGAL 130\n",
      "19 floor_DBHAN 153\n",
      "20 floor_DBHOR 142\n",
      "21 floor_DBJF1 133\n",
      "22 floor_DBJF2 133\n",
      "23 floor_DBKEG 141\n",
      "24 floor_DBKIR 133\n",
      "25 floor_DBKUR 147\n",
      "26 floor_DBMAT 162\n",
      "27 floor_DBMHI 148\n",
      "28 floor_DBMTU 159\n",
      "29 floor_DBNAR 194\n",
      "30 floor_DBNAW 114\n",
      "31 floor_DBNEG 140\n",
      "32 floor_DBPER 146\n",
      "33 floor_DBPIL 116\n",
      "34 floor_DBRAP 185\n",
      "35 floor_DBSAM 146\n",
      "36 floor_DBTHI 150\n",
      "37 floor_DBWEN 167\n",
      "38 floor_FDALU 1\n",
      "39 floor_FDAMB 1\n",
      "40 floor_FDAMP 106\n",
      "41 floor_FDAMT 9\n",
      "42 floor_FDAVI 1\n",
      "43 floor_FDAVS 274\n",
      "44 floor_FDBA1 15\n",
      "45 floor_FDBA2 15\n",
      "46 floor_FDBAD 23\n",
      "47 floor_FDBAL 66\n",
      "48 floor_FDBDU 131\n",
      "49 floor_FDCHI 1\n",
      "50 floor_FDCHW 162\n",
      "51 floor_FDDAM 1\n",
      "52 floor_FDEMB 15\n",
      "53 floor_FDGAL 32\n",
      "54 floor_FDGAM 5\n",
      "55 floor_FDGAP 1\n",
      "56 floor_FDHOR 1\n",
      "57 floor_FDHRN 265\n",
      "58 floor_FDJAF 1\n",
      "59 floor_FDJEL 45\n",
      "60 floor_FDJFN 1\n",
      "61 floor_FDKAD 1\n",
      "62 floor_FDKAL 170\n",
      "63 floor_FDKAN 236\n",
      "64 floor_FDKDW 37\n",
      "65 floor_FDKEG 1\n",
      "66 floor_FDKOT 94\n",
      "67 floor_FDKUR 8\n",
      "68 floor_FDMAG 1\n",
      "69 floor_FDMAL 2\n",
      "70 floor_FDMAT 178\n",
      "71 floor_FDMHI 84\n",
      "72 floor_FDMIN 20\n",
      "73 floor_FDMON 1\n",
      "74 floor_FDMOT 1\n",
      "75 floor_FDMTL 1\n",
      "76 floor_FDMTU 1\n",
      "77 floor_FDNEG 31\n",
      "78 floor_FDNIT 1\n",
      "79 floor_FDPER 1\n",
      "80 floor_FDPND 1\n",
      "81 floor_FDRAT 51\n",
      "82 floor_FDVAV 1\n",
      "83 floor_FDWAP 1\n",
      "84 floor_FDWAR 1\n",
      "85 floor_FDWAT 1\n",
      "86 floor_FDWEL 12\n",
      "87 floor_FDWEN 36\n",
      "88 floor_JWSR  28\n",
      "89 floor_KDSR  1\n",
      "90 floor_LPSAH 96\n"
     ]
    },
    {
     "data": {
      "text/plain": [
       "<Figure size 864x648 with 0 Axes>"
      ]
     },
     "metadata": {},
     "output_type": "display_data"
    }
   ],
   "source": [
    "from matplotlib.pylab import rcParams\n",
    "rcParams['figure.figsize'] = 10, 7\n",
    "from sklearn.ensemble import RandomForestRegressor\n",
    "plt.figure(figsize = (12, 9))\n",
    "import warnings\n",
    "warnings.filterwarnings('ignore')\n",
    "import seaborn as sns\n",
    "import numpy as np\n",
    "import datetime\n",
    "\n",
    "floorFeature_matrix = pd.DataFrame()\n",
    "floorLabel_matrix = pd.DataFrame()\n",
    "floor_sp_num = 0\n",
    "year_dic = {2013:0, 2014:1, 2015:2, 2016:3, 2017:4, 2018:5, 2019:6}\n",
    "rem_list = list()\n",
    "add_list = list()\n",
    "\n",
    "arr = list()\n",
    "floor_l = ['A','B','C','G','H','J','K','L','M','N','P','Q','S','T','U','V','W','X','Y']\n",
    "\n",
    "for sp in floor_datas.keys():\n",
    "    \n",
    "    ######### Total sales #########\n",
    "    sales = floor_datas[sp].filter(['CDateTime','QTY'], axis=1)   # extract QTYAbsolute column\n",
    "    sales_aggre = sales.groupby('CDateTime').agg({'QTY':'sum'})\n",
    "    #print (sales_aggre)\n",
    "\n",
    "    t_index = pd.DatetimeIndex(start='2013-01-01', end='2018-12-31', freq='1D')\n",
    "    sales_aggre = sales_aggre.reindex(t_index).fillna(0)\n",
    "    #print (sales_aggre)\n",
    "\n",
    "    sales_aggre = sales_aggre.QTY.resample('W').sum()       # convert daily to weekly\n",
    "    sales_aggre = pd.DataFrame(sales_aggre)\n",
    "\n",
    "    nonzero_weeks = (sales_aggre['QTY'] != 0).sum()\n",
    "    if (nonzero_weeks < 24):\n",
    "        rem_list.append(sp)\n",
    "        continue\n",
    "    add_list.append('Is'+sp[5:])\n",
    "    \n",
    "    ###############################\n",
    "    \n",
    "    ###### Weeks to New year ######\n",
    "    f1 = sales_aggre.index.week\n",
    "    f2 = list()\n",
    "    yearNow=2013\n",
    "    weeks_per_year=52\n",
    "    newyear_week = datetime.date(2013, 4, 14).isocalendar()[1]  # Find the new year week\n",
    "    con = True\n",
    "    \n",
    "    for i in range(len(f1)):\n",
    "        if (con):\n",
    "            x = newyear_week - f1[i]\n",
    "        else:\n",
    "            x = newyear_week + (weeks_per_year-f1[i])\n",
    "            if (f1[i]==weeks_per_year):\n",
    "                con=True\n",
    "        if (x==0):\n",
    "            weeks_per_year = datetime.date(yearNow, 12, 28).isocalendar()[1]\n",
    "            newyear_week = datetime.date(yearNow+1, 4, 14).isocalendar()[1]\n",
    "            yearNow += 1\n",
    "            con=False\n",
    "        f2.append(x)\n",
    "    ################################\n",
    "    \n",
    "    ###### Weeks to Christmas ######\n",
    "    f3 = list()\n",
    "    yearNow=2013\n",
    "    christmas_week = datetime.date(2013, 12, 25).isocalendar()[1]  # Find the Christmas week\n",
    "    con = True\n",
    "    \n",
    "    for i in range(len(f1)):\n",
    "        if (con==True):\n",
    "            y = christmas_week - f1[i]\n",
    "        else:\n",
    "            y = christmas_week\n",
    "            con=True\n",
    "        if (y==0):\n",
    "            if (f1[i]<datetime.date(yearNow+1, 1, 1).isocalendar()[1]):\n",
    "                con=False\n",
    "            christmas_week = datetime.date(yearNow+1, 12, 25).isocalendar()[1]\n",
    "            yearNow += 1\n",
    "        f3.append(y)\n",
    "    ################################\n",
    "    \n",
    "    ############## Feature matrix, Label matrix & Heat Map ###############\n",
    "    \n",
    "    ################### Year, Month, Week ####################\n",
    "    \n",
    "    floor_features = pd.DataFrame(index=sales_aggre.index)     # store all features for one salespoint\n",
    "    \n",
    "    #features['WeeksToNewyear'] = w2\n",
    "    \n",
    "    floor_features['Year'] = pd.Series(sales_aggre.index.year, index=floor_features.index)     # Year\n",
    "    labelencoder = LabelEncoder()\n",
    "    floor_features.iloc[:, 0] = labelencoder.fit_transform(floor_features.iloc[:, 0])\n",
    "     \n",
    "    df_month = pd.DataFrame(sales_aggre.index.month)                                 # Month\n",
    "    onehotencoder = OneHotEncoder(categorical_features = [0])\n",
    "    array_month = onehotencoder.fit_transform(df_month).toarray() \n",
    "    df_month = pd.DataFrame(array_month, columns=['IsJan','IsFeb','IsMar','IsApr','IsMay','IsJun','IsJul','IsAug','IsSep','IsOct','IsNov','IsDec']).astype('int')\n",
    "    df_month.index = floor_features.index\n",
    "    floor_features = pd.concat([floor_features, df_month], axis=1)\n",
    "        \n",
    "    df_week = pd.DataFrame(sales_aggre.index.week)                                 # Week\n",
    "    onehotencoder1 = OneHotEncoder(categorical_features = [0])\n",
    "    array_week = onehotencoder.fit_transform(df_week).toarray() \n",
    "    df_week = pd.DataFrame(array_week, columns=[('Isweek '+str(i)) for i in range(1,54)]).astype('int')\n",
    "    df_week.index = floor_features.index\n",
    "    floor_features = pd.concat([floor_features, df_week], axis=1)\n",
    "    \n",
    "    ##########################################################\n",
    "    \n",
    "    floor_features['WeeksToNewyear'] = f2\n",
    "    floor_features['WeeksToChristmas'] = f3\n",
    "    \n",
    "    ################ Customer behavior & QTYs ################\n",
    "    \n",
    "    subFrame = floor_datas[sp].filter(['CDateTime','SalesChannelKey','ItemSize','QTY'], axis=1)    # extract channel and 2 other columns\n",
    "    weeks = [g for n, g in subFrame.set_index('CDateTime').groupby(pd.Grouper(freq='W'))]    # weekly dataframes\n",
    "    start_year = (subFrame['CDateTime'].dt.year).iloc[0]\n",
    "    start_week_of_year = (subFrame['CDateTime'].dt.week).iloc[0]\n",
    "    weeks_of_before_years = 0\n",
    "    \n",
    "    for i in range(0, year_dic[start_year]):\n",
    "        weeks_per_year = datetime.date(list(year_dic.keys())[list(year_dic.values()).index(i)], 12, 28).isocalendar()[1]  #list(year_dic.keys())[list(year_dic.values()).index(0)]\n",
    "        weeks_of_before_years = weeks_of_before_years + weeks_per_year\n",
    "    start_week = weeks_of_before_years + start_week_of_year\n",
    "    print (floor_sp_num+1, sp, start_week)\n",
    "        \n",
    "    #counts = [[weeks[i]['SalesChannelKey'].value_counts(normalize=True)] for i in range(len(weeks))]     # customer cat. percents for each week\n",
    "    \n",
    "    floor_chan = np.zeros((sales_aggre.shape[0], 11))       # matrix for store channel percents for each week (one salespoint)\n",
    "    \n",
    "    floor_keys = ['FloorTiles A','FloorTiles B','FloorTiles C','FloorTiles G','FloorTiles H','FloorTiles J','FloorTiles K','FloorTiles L','FloorTiles M',\n",
    "                'FloorTiles N','FloorTiles P','FloorTiles Q','FloorTiles S','FloorTiles T','FloorTiles U','FloorTiles V',\n",
    "                'FloorTiles W','FloorTiles X','FloorTiles Y']\n",
    "    \n",
    "    floor_dic = dict.fromkeys(floor_keys, None)      # dic for store QTY of group categories(labels) for each week (one salespoint)\n",
    "    for key in floor_keys:\n",
    "        floor_dic[key] = [0]*len(sales_aggre)    \n",
    "        \n",
    "    ############# Customer behavior ##############\n",
    "    \n",
    "    for week in range(len(weeks)):\n",
    "        \n",
    "        counts = [weeks[week]['SalesChannelKey'].value_counts(normalize=True)]\n",
    "        countPcnt = counts[0].tolist()\n",
    "        cusCat = counts[0].index\n",
    "        \n",
    "        for i in range(len(cusCat)):\n",
    "            floor_chan[start_week-1][int(cusCat[i])+1] = countPcnt[i]      # add percents to a matrix\n",
    "            \n",
    "    ##############################################\n",
    "            \n",
    "    ###### QTY for group categories(labels) ######\n",
    "        \n",
    "        floor_table = pd.pivot_table(weeks[week], values='QTY', index=['ItemSize'], aggfunc=sum)\n",
    "\n",
    "        for floor in floor_table.index:\n",
    "            floor_dic['FloorTiles '+floor.upper()][start_week-1] = floor_dic['FloorTiles '+floor.upper()][start_week-1] + floor_table.xs((floor))[0]\n",
    "        \n",
    "        start_week += 1\n",
    "    \n",
    "    #features['WeeksToNewyear'] = newyear\n",
    "    \n",
    "    floor_labels = pd.DataFrame.from_dict(floor_dic)\n",
    "    '''\n",
    "    ############\n",
    "    dfstd=pd.DataFrame(floor_labels.std())\n",
    "    for i in range(19):\n",
    "        arr.append(dfstd.values.tolist()[i][0])\n",
    "    \n",
    "    plt.plot(floor_l, arr)\n",
    "    plt.title('Salespoint '+sp[6:])\n",
    "    plt.xlabel('Floor tile type')\n",
    "    plt.ylabel('Standard deviation')\n",
    "    plt.show()\n",
    "    arr = list()\n",
    "    #fullArr.append(arr)\n",
    "    ############\n",
    "    '''\n",
    "    floorLabel_matrix = pd.concat([floorLabel_matrix, floor_labels])     # matrix for store labels of all salespoints\n",
    "    \n",
    "    ##############################################\n",
    "    \n",
    "    Sales_channels = ['Other','Other1','Consignment Agent','Distributors','Direct Dealers/Colombo Dealers','Direct Sales','Franchise Dealers',\n",
    "                      'Lanka Tiles Plus','Projects','Royal Sales','Regional Sales']\n",
    "    \n",
    "    for i in range(11):\n",
    "        floor_features[Sales_channels[i]] = floor_chan[:, i] \n",
    "        \n",
    "    del floor_features[Sales_channels[1]]\n",
    "    del floor_features[Sales_channels[4]]\n",
    "    del floor_features[Sales_channels[7]]\n",
    "    del floor_features[Sales_channels[9]]\n",
    "    del floor_features[Sales_channels[10]]\n",
    "    \n",
    "    ########################################################\n",
    "    \n",
    "    ################### Invoice discount ###################\n",
    "    \n",
    "    floor_invDiscount = floor_datas[sp].filter(['CDateTime','DiscountPcnt'], axis=1)   # extract invoice discount column\n",
    "    floor_invDiscount_aggre = floor_invDiscount.groupby('CDateTime').agg({'DiscountPcnt':'mean'})\n",
    "    \n",
    "    floor_invDiscount_aggre = floor_invDiscount_aggre.reindex(t_index).fillna(0)\n",
    "    floor_invDiscount_aggre = floor_invDiscount_aggre.DiscountPcnt.resample('W').mean()       # convert daily to weekly\n",
    "    \n",
    "    floor_features['Invoice Discount'] = floor_invDiscount_aggre     # invoice discount\n",
    "    \n",
    "    ########################################################\n",
    "\n",
    "    floor_sales_p = [floor_sp_num] * len(sales_aggre)\n",
    "    floor_features['Salespoint'] = floor_sales_p\n",
    "    \n",
    "    floor_features['QTY_sum'] = sales_aggre['QTY']\n",
    "\n",
    "    floorFeature_matrix = pd.concat([floorFeature_matrix, floor_features])    # matrix for store features of all salespoints\n",
    "    \n",
    "    floor_sp_num += 1\n",
    "\n",
    "#del (floorFeature_matrix['Isweek 53'])\n",
    "#print (floorFeature_matrix)\n",
    "#print (floorFeature_matrix.columns)\n",
    "#print (floorLabel_matrix)\n",
    "#print (floorLabel_matrix.columns)"
   ]
  },
  {
   "cell_type": "code",
   "execution_count": 75,
   "metadata": {},
   "outputs": [
    {
     "name": "stdout",
     "output_type": "stream",
     "text": [
      "['CABLM', 'CADAM', 'CAEHE', 'CAGOG', 'CAKAN', 'CAMAT', 'CAMTG', 'CAPEL', 'CARAP', 'DBALU', 'DBANG', 'DBANU', 'DBBAN', 'DBCO2', 'DBCOL', 'DBDAM', 'DBDIG', 'DBGAL', 'DBHAN', 'DBHOR', 'DBJF1', 'DBJF2', 'DBKEG', 'DBKIR', 'DBKUR', 'DBMAT', 'DBMHI', 'DBMTU', 'DBNAR', 'DBNAW', 'DBNEG', 'DBPER', 'DBPIL', 'DBRAP', 'DBSAM', 'DBTHI', 'DBWEN', 'FDALU', 'FDAMB', 'FDAMP', 'FDAMT', 'FDAVI', 'FDAVS', 'FDBA1', 'FDBA2', 'FDBAD', 'FDBAL', 'FDBDU', 'FDCHI', 'FDCHW', 'FDDAM', 'FDEMB', 'FDGAL', 'FDGAM', 'FDGAP', 'FDHOR', 'FDHRN', 'FDJAF', 'FDJEL', 'FDJFN', 'FDKAD', 'FDKAL', 'FDKAN', 'FDKDW', 'FDKEG', 'FDKOT', 'FDKUR', 'FDMAG', 'FDMAL', 'FDMAT', 'FDMHI', 'FDMIN', 'FDMON', 'FDMOT', 'FDMTL', 'FDMTU', 'FDNEG', 'FDNIT', 'FDPER', 'FDPND', 'FDRAT', 'FDVAV', 'FDWAP', 'FDWAR', 'FDWAT', 'FDWEL', 'FDWEN', 'JWSR ', 'KDSR ', 'LPSAH']\n",
      "90\n"
     ]
    }
   ],
   "source": [
    "print ([x[3:] for x in add_list])\n",
    "print (len(add_list))"
   ]
  },
  {
   "cell_type": "code",
   "execution_count": null,
   "metadata": {},
   "outputs": [],
   "source": [
    "'''\n",
    "numpy_fullArr = np.array(fullArr)\n",
    "print (numpy_fullArr)\n",
    "\n",
    "from sklearn import metrics\n",
    "from matplotlib.pylab import rcParams\n",
    "rcParams['figure.figsize'] = 14, 8\n",
    "l = [i for i in range(1,93)]\n",
    "for i in range(21):\n",
    "    plt.plot(l, numpy_fullArr[:,i])\n",
    "    plt.show()\n",
    "'''"
   ]
  },
  {
   "cell_type": "code",
   "execution_count": 15,
   "metadata": {},
   "outputs": [
    {
     "name": "stdout",
     "output_type": "stream",
     "text": [
      "28260\n"
     ]
    }
   ],
   "source": [
    "############### Salespoint columns ###############\n",
    "\n",
    "floordf_sp = pd.DataFrame(floorFeature_matrix['Salespoint'].values)\n",
    "onehotencoder2 = OneHotEncoder(categorical_features = [0])\n",
    "floorarray_sp = onehotencoder2.fit_transform(floordf_sp).toarray() \n",
    "floordf_sp = pd.DataFrame(floorarray_sp, columns=add_list).astype('int')\n",
    "floordf_sp.index = floorFeature_matrix.index\n",
    "floorFeature_matrix = pd.concat([floorFeature_matrix, floordf_sp], axis=1)\n",
    "del floorFeature_matrix['Salespoint']\n",
    "print (len(floorFeature_matrix))\n",
    "\n",
    "##################################################\n",
    "\n",
    "floorLabel_matrix.index = floorFeature_matrix.index\n",
    "#print (floorFeature_matrix)\n",
    "#print (floorLabel_matrix)\n",
    "#print (label_matrix.loc[:, 'ACCESSORIES':'TIMBER - PARQUE'])\n",
    "#print (label_matrix.loc[:, 'FloorTiles A':'FloorTiles Y'])\n",
    "#print (label_matrix.loc[:, 'WallTiles A':'WallTiles Y'])"
   ]
  },
  {
   "cell_type": "code",
   "execution_count": 57,
   "metadata": {},
   "outputs": [
    {
     "data": {
      "text/plain": [
       "Text(0, 0.5, 'Count')"
      ]
     },
     "execution_count": 57,
     "metadata": {},
     "output_type": "execute_result"
    },
    {
     "data": {
      "image/png": "[encoded data removed]",
      "text/plain": [
       "<Figure size 720x504 with 1 Axes>"
      ]
     },
     "metadata": {
      "needs_background": "light"
     },
     "output_type": "display_data"
    }
   ],
   "source": [
    "dj=pd.DataFrame()\n",
    "dj['discount'] = floorFeature_matrix['Invoice Discount']\n",
    "y1 = dj[dj.discount != 0]\n",
    "x1 = y1['discount']\n",
    "plt.hist(x1, range=[0, 53], bins=53) \n",
    "plt.title(\"Invoice Discount\") \n",
    "plt.xlabel(\"Invoice Discount\") \n",
    "plt.ylabel(\"Count\")"
   ]
  },
  {
   "cell_type": "code",
   "execution_count": 16,
   "metadata": {},
   "outputs": [],
   "source": [
    "floor_df_old = pd.concat([floorFeature_matrix, floorLabel_matrix], axis=1)\n",
    "floor_df0 = floor_df_old[floor_df_old.QTY_sum != 0]\n",
    "del (floor_df0['QTY_sum'])\n",
    "floor_df0 = floor_df0.reset_index(drop=True)\n",
    "floor_df = floor_df0.sample(frac=1).reset_index(drop=True)     # shuffled\n",
    "#print (floor_df)"
   ]
  },
  {
   "cell_type": "code",
   "execution_count": 59,
   "metadata": {},
   "outputs": [
    {
     "name": "stdout",
     "output_type": "stream",
     "text": [
      "[24.97998613009696, 2197.817795216875, 4080.020013869903, 250.54870158166426, 12053.060120391476, 46.5733828099857]\n",
      "0.9999999999999998\n",
      "[0.0013391940240227822, 0.11782650486339326, 0.21873264428616856, 0.013432086076323605, 0.6461727400628035, 0.002496830687288141]\n"
     ]
    },
    {
     "data": {
      "image/png": "[encoded data removed]",
      "text/plain": [
       "<Figure size 936x432 with 1 Axes>"
      ]
     },
     "metadata": {
      "needs_background": "light"
     },
     "output_type": "display_data"
    },
    {
     "data": {
      "text/plain": [
       "Text(0, 0.5, 'Distribution')"
      ]
     },
     "execution_count": 59,
     "metadata": {},
     "output_type": "execute_result"
    },
    {
     "data": {
      "image/png": "[encoded data removed]",
      "text/plain": [
       "<Figure size 936x432 with 1 Axes>"
      ]
     },
     "metadata": {
      "needs_background": "light"
     },
     "output_type": "display_data"
    }
   ],
   "source": [
    "from matplotlib.pylab import rcParams\n",
    "rcParams['figure.figsize'] = 13, 6\n",
    "\n",
    "sales_channels = ['Other','Consignment Agent','Distributors','Direct Sales','Franchise Dealers','Projects']\n",
    "\n",
    "total = list()\n",
    "for i in sales_channels:\n",
    "    total.append(floor_df[i].sum())\n",
    "    \n",
    "print (total)\n",
    "distribution = [x/sum(total) for x in total]\n",
    "print (sum(distribution))\n",
    "print (distribution)\n",
    "plt.bar(sales_channels, distribution)\n",
    "plt.xlabel('Channels')\n",
    "plt.ylabel('Distribution')\n",
    "\n",
    "plt.bar(sales_channels, total)\n",
    "plt.show()\n",
    "\n",
    "plt.bar(sales_channels, distribution)\n",
    "plt.xlabel('Channels')\n",
    "plt.ylabel('Distribution')"
   ]
  },
  {
   "cell_type": "code",
   "execution_count": 17,
   "metadata": {},
   "outputs": [],
   "source": [
    "from sklearn.model_selection import train_test_split \n",
    "\n",
    "array1 = floor_df.values\n",
    "X = array1[:,0:165]\n",
    "y = array1[:,165:]\n",
    "\n",
    "X_train, X_val, y_train, y_val = train_test_split(X, y, test_size=0.1, random_state=0)        "
   ]
  },
  {
   "cell_type": "code",
   "execution_count": 75,
   "metadata": {},
   "outputs": [],
   "source": [
    "#floor_df.to_pickle(\"./Floortiles_df.pkl\")"
   ]
  },
  {
   "cell_type": "code",
   "execution_count": 66,
   "metadata": {},
   "outputs": [
    {
     "name": "stdout",
     "output_type": "stream",
     "text": [
      "max_depth: 50\n",
      "Root Mean Squared Error: 419.35982946075046\n",
      "Root Mean Squared Error: 797.1922748082588\n",
      "\n",
      "\n",
      "max_depth: 60\n",
      "Root Mean Squared Error: 423.86193805596633\n",
      "Root Mean Squared Error: 818.4802884000934\n",
      "\n",
      "\n",
      "max_depth: 70\n",
      "Root Mean Squared Error: 416.7868244464144\n",
      "Root Mean Squared Error: 807.4650232628245\n",
      "\n",
      "\n",
      "max_depth: 80\n",
      "Root Mean Squared Error: 419.8807379053734\n",
      "Root Mean Squared Error: 810.2294696326369\n",
      "\n",
      "\n",
      "max_depth: 90\n",
      "Root Mean Squared Error: 414.00903692209414\n",
      "Root Mean Squared Error: 795.8380103032948\n",
      "\n",
      "\n"
     ]
    },
    {
     "data": {
      "text/plain": [
       "\"\\ndf_RF = pd.DataFrame({'No of trees':num_of_trees, 'RMSE_train':rmse_train, 'RMSE_val':rmse_val})\\ndf_RF = df_RF.set_index('No of trees')\\nplt.plot(df_RF['RMSE_train'], label='RMSE_train')\\nplt.plot(df_RF['RMSE_val'], color='red', label='RMSE_val')\\nplt.title('RMSE')\\nplt.xlabel('No. of trees')\\nplt.ylabel('RMSE')\\nplt.legend()\\nplt.show()\\n\""
      ]
     },
     "execution_count": 66,
     "metadata": {},
     "output_type": "execute_result"
    }
   ],
   "source": [
    "################# Random Forest #################\n",
    "\n",
    "from sklearn import metrics\n",
    "from matplotlib.pylab import rcParams\n",
    "rcParams['figure.figsize'] = 14, 8\n",
    "from sklearn.ensemble import RandomForestRegressor\n",
    "\n",
    "rmse_train = list()\n",
    "rmse_val = list()\n",
    "#num_of_trees = [10, 20, 50, 75, 100, 150, 200, 250, 300, 400, 500, 750, 1000]\n",
    "#max_features = ['auto', 'sqrt'] \n",
    "#max_depth = [int(x) for x in np.linspace(10, 110, num = 11)]         # Maximum number of levels in tree   \n",
    "#max_depth.append(None)\n",
    "max_depth = [50,60,70,80,90]\n",
    "#min_samples_split = [2, 5, 10]\n",
    "#min_samples_leaf = [1, 2, 4] \n",
    "#bootstrap = [True, False]\n",
    "\n",
    "for x in max_depth:\n",
    "    reg = RandomForestRegressor(n_estimators=150, max_depth=90)\n",
    "    reg.fit(X_train, y_train)\n",
    "\n",
    "    y_pred_train = reg.predict(X_train)\n",
    "    y_pred_val = reg.predict(X_val)\n",
    "\n",
    "    print ('max_depth: '+str(x))\n",
    "\n",
    "    print('Root Mean Squared Error:', np.sqrt(metrics.mean_squared_error(y_train, y_pred_train)))\n",
    "    #rmse_train.append(np.sqrt(metrics.mean_squared_error(y_train, y_pred_train)))\n",
    "\n",
    "    print('Root Mean Squared Error:', np.sqrt(metrics.mean_squared_error(y_val, y_pred_val)))\n",
    "    print ('\\n')\n",
    "    #rmse_val.append(np.sqrt(metrics.mean_squared_error(y_val, y_pred_val)))\n",
    "    #print (rmse_train)\n",
    "    #print (rmse_val)\n",
    "    '''\n",
    "    dic_train = {'Actual':y_train[800:901,0], 'Predicted':y_pred_train[800:901,0]}\n",
    "    dic_val = {'Actual':y_val[600:701,0], 'Predicted':y_pred_val[600:701,0]}\n",
    "\n",
    "    df_train = pd.DataFrame(dic_train)\n",
    "    df_val = pd.DataFrame(dic_val)\n",
    "    df_train = df_train.drop([90])\n",
    "    df_val = df_val.drop([73])\n",
    "    df_val = df_val.drop([77])\n",
    "    print (df_train)\n",
    "    print (df_val)\n",
    "    #df_val = df_val.drop([31])\n",
    "\n",
    "    plt.plot(df_train['Actual'], label='Actual')\n",
    "    plt.plot(df_train['Predicted'], color='red', label='Predicted')\n",
    "    plt.title('Training Set')\n",
    "    plt.xlabel('data points')\n",
    "    plt.ylabel('Actual and Predicted')\n",
    "    plt.legend()\n",
    "    plt.show()\n",
    "\n",
    "    plt.plot(df_val['Actual'], label='Actual')\n",
    "    plt.plot(df_val['Predicted'], color='red', label='Predicted')\n",
    "    plt.title('Validation Set')\n",
    "    plt.xlabel('data points')\n",
    "    plt.ylabel('Actual and Predicted')\n",
    "    plt.legend()\n",
    "    plt.show()\n",
    "'''\n",
    "'''\n",
    "df_RF = pd.DataFrame({'No of trees':num_of_trees, 'RMSE_train':rmse_train, 'RMSE_val':rmse_val})\n",
    "df_RF = df_RF.set_index('No of trees')\n",
    "plt.plot(df_RF['RMSE_train'], label='RMSE_train')\n",
    "plt.plot(df_RF['RMSE_val'], color='red', label='RMSE_val')\n",
    "plt.title('RMSE')\n",
    "plt.xlabel('No. of trees')\n",
    "plt.ylabel('RMSE')\n",
    "plt.legend()\n",
    "plt.show()\n",
    "'''\n",
    "#################################################"
   ]
  },
  {
   "cell_type": "code",
   "execution_count": 18,
   "metadata": {},
   "outputs": [
    {
     "name": "stdout",
     "output_type": "stream",
     "text": [
      "Training RMSE: 461.5394621348088\n",
      "Validation RMSE: 490.6855036418162\n"
     ]
    },
    {
     "data": {
      "image/png": "[encoded data removed]",
      "text/plain": [
       "<Figure size 1008x576 with 1 Axes>"
      ]
     },
     "metadata": {
      "needs_background": "light"
     },
     "output_type": "display_data"
    }
   ],
   "source": [
    "from sklearn import metrics\n",
    "from matplotlib.pylab import rcParams\n",
    "rcParams['figure.figsize'] = 14, 8\n",
    "from sklearn.ensemble import RandomForestRegressor\n",
    "from sklearn.externals import joblib \n",
    "\n",
    "#regft = RandomForestRegressor(n_estimators=150, max_depth=90)\n",
    "#regft.fit(X_train, y_train)\n",
    "   \n",
    "#joblib.dump(regft, 'C:/Users/ChamithM/Desktop/Bestmodels/Floortiles_RFmodelNew.pkl') \n",
    "  \n",
    "Floor_RF = joblib.load('C:/Users/ChamithM/Desktop/Bestmodels/Floortiles_RFmodelNew.pkl')  \n",
    "  \n",
    "y_pred_train = Floor_RF.predict(X_train) \n",
    "y_pred_val = Floor_RF.predict(X_val) \n",
    "                        \n",
    "print('Training RMSE:', np.sqrt(metrics.mean_squared_error(y_train, y_pred_train)))\n",
    "print('Validation RMSE:', np.sqrt(metrics.mean_squared_error(y_val, y_pred_val))) \n",
    "\n",
    "#dic_train = {'Actual':y_train[1000:1101,0], 'Predicted':y_pred_train[1000:1101,0]}\n",
    "dic_val = {'Actual':y_val[400:501,0], 'Predicted':y_pred_val[400:501,0]}\n",
    "\n",
    "#df_train = pd.DataFrame(dic_train)\n",
    "df_val = pd.DataFrame(dic_val)\n",
    "\n",
    "#df_val = df_val.drop([31])\n",
    "#df_val = df_val.drop([95])\n",
    "\n",
    "plt.plot(df_val['Actual'], label='Actual')\n",
    "plt.plot(df_val['Predicted'], color='red', label='Predicted')\n",
    "plt.title('Validation Set')\n",
    "plt.xlabel('data points')\n",
    "plt.ylabel('Actual and Predicted')\n",
    "plt.legend()\n",
    "plt.show()"
   ]
  },
  {
   "cell_type": "code",
   "execution_count": 34,
   "metadata": {},
   "outputs": [
    {
     "name": "stdout",
     "output_type": "stream",
     "text": [
      "Root Mean Squared Error: 1768.8941790957283\n",
      "     Actual     Predicted\n",
      "0     650.0    695.142857\n",
      "1    8089.0  22068.600000\n",
      "2     672.0    561.885714\n",
      "3     608.0    514.900000\n",
      "4     214.0    168.264286\n",
      "5    3702.0   2350.700000\n",
      "6    1218.0    912.478571\n",
      "7    2438.0   2708.321429\n",
      "8     996.0    829.164286\n",
      "9     403.0   1196.585714\n",
      "10     31.0    162.832143\n",
      "11    626.0    504.835714\n",
      "12   1285.0   1859.314286\n",
      "13  21889.0  22405.292857\n",
      "14    207.0    223.496194\n",
      "15   2196.0   1766.242857\n",
      "16    489.0    459.818615\n",
      "17    180.0    243.493019\n",
      "18     66.0     78.957143\n",
      "19    286.0    440.635714\n",
      "20     77.0    128.400000\n",
      "21   3916.0   2958.807143\n",
      "22   1020.0    763.700000\n",
      "23    226.0    512.714286\n",
      "24    178.0    225.428571\n",
      "25    528.0    670.792857\n",
      "26    435.0   1274.192857\n",
      "27   3025.0   2415.721429\n",
      "28   8248.0   6188.057143\n",
      "29    876.0    643.039286\n",
      "30      0.0    144.307143\n",
      "31   1009.0    713.593318\n",
      "32     92.0     80.492857\n",
      "33    356.0    364.088571\n",
      "34     86.0    125.207143\n",
      "35    265.0    230.188095\n",
      "36    952.0   1604.885714\n",
      "37   1075.0   1329.542857\n",
      "38     75.0    106.071429\n",
      "39   1223.0   1387.371429\n",
      "40     23.0    280.405357\n",
      "41    475.0    409.113440\n",
      "42    572.0    636.335714\n",
      "43    655.0   1072.642857\n",
      "44    324.0    290.792857\n",
      "45     50.0    131.435714\n",
      "46    364.0    387.635714\n",
      "47    108.0    132.597779\n",
      "48    461.0    725.157143\n",
      "49    204.0    229.443571\n",
      "      Actual      Predicted\n",
      "50    1430.0    1264.790476\n",
      "51     463.0     409.264286\n",
      "52    2000.0    2340.928571\n",
      "53    1036.0    1043.492857\n",
      "54     719.0     638.121429\n",
      "55       0.0     123.121429\n",
      "56    1188.0    1984.528571\n",
      "57     725.0     712.021429\n",
      "58     552.0     473.190756\n",
      "59    3019.0    2457.800000\n",
      "60     798.0     530.651020\n",
      "61     501.0    1192.221429\n",
      "62     123.0     166.682143\n",
      "63    1230.0    1352.371429\n",
      "64    4549.0    3774.850000\n",
      "65     254.0     343.135714\n",
      "66     568.0     502.643827\n",
      "67  105496.0  117577.350000\n",
      "68     534.0     543.085714\n",
      "69    1454.0    1038.135714\n",
      "70     590.0    1100.021429\n",
      "71    2616.0    1280.528571\n",
      "72     409.0     448.471429\n",
      "73    1075.0     879.907143\n",
      "74     124.0     193.250000\n",
      "75     258.0     593.664286\n",
      "76     166.0     627.335714\n",
      "77     753.0     801.671429\n",
      "78    2243.0    2253.864286\n",
      "79    1237.0    1185.057143\n",
      "80     983.0     684.164286\n",
      "81     382.0     362.814286\n",
      "82     567.0     579.550000\n",
      "83    2713.0    2215.728571\n",
      "84    1199.0     768.585714\n",
      "85     691.0     616.078571\n",
      "86      74.0     165.684138\n",
      "87    8408.0    7248.707143\n",
      "88     729.0     977.085714\n",
      "89     700.0     547.507143\n",
      "90     766.0     572.014286\n",
      "91       0.0      53.896429\n",
      "92      59.0     420.778571\n",
      "93     140.0     233.884219\n",
      "94       0.0      31.210714\n",
      "95       0.0     344.385714\n",
      "96      72.0      76.428571\n",
      "97     930.0     487.328571\n",
      "98     291.0     296.637662\n",
      "99     615.0     748.292857\n"
     ]
    },
    {
     "data": {
      "image/png": "[encoded data removed]",
      "text/plain": [
       "<Figure size 1008x576 with 1 Axes>"
      ]
     },
     "metadata": {
      "needs_background": "light"
     },
     "output_type": "display_data"
    }
   ],
   "source": [
    "from sklearn.externals import joblib \n",
    "from sklearn import metrics\n",
    "from matplotlib.pylab import rcParams\n",
    "rcParams['figure.figsize'] = 14, 8\n",
    "\n",
    "RF = joblib.load('C:/Users/ChamithM/Desktop/Bestmodels/Floortiles_RFmodel.pkl')  \n",
    "\n",
    "#X_test = X_val[1].reshape(1, -1)\n",
    "y_pred_val = RF.predict(X_val)\n",
    "print('Root Mean Squared Error:', np.sqrt(metrics.mean_squared_error(y_val, y_pred_val)))\n",
    "#print (y_pred)\n",
    "#y_pred_arr = y_pred.tolist()\n",
    "\n",
    "dic_val = {'Actual':y_val[500:601,0], 'Predicted':y_pred_val[500:601,0]}\n",
    "\n",
    "df_val = pd.DataFrame(dic_val)\n",
    "\n",
    "#df_val.drop([91])\n",
    "print (df_val[0:50])\n",
    "print (df_val[50:100])\n",
    "#print (df_val)\n",
    "#df_val = df_val.drop([65])\n",
    "#df_val.drop([70])\n",
    "#df_val = df_val.drop([95])\n",
    "\n",
    "plt.plot(df_val['Actual'], label='Actual')\n",
    "plt.plot(df_val['Predicted'], color='red', label='Predicted')\n",
    "plt.title('Validation Set')\n",
    "plt.xlabel('data points')\n",
    "plt.ylabel('Actual and Predicted')\n",
    "plt.legend()\n",
    "plt.show()"
   ]
  },
  {
   "cell_type": "code",
   "execution_count": 62,
   "metadata": {},
   "outputs": [
    {
     "name": "stdout",
     "output_type": "stream",
     "text": [
      "num of trees: 10\n",
      "Root Mean Squared Error: 1149.301274677676\n",
      "Root Mean Squared Error: 1037.273733208637\n",
      "\n",
      "\n",
      "[1037.273733208637]\n",
      "[1149.301274677676]\n",
      "num of trees: 20\n",
      "Root Mean Squared Error: 990.8180528078831\n",
      "Root Mean Squared Error: 921.6482271143516\n",
      "\n",
      "\n",
      "[1037.273733208637, 921.6482271143516]\n",
      "[1149.301274677676, 990.8180528078831]\n",
      "num of trees: 50\n",
      "Root Mean Squared Error: 860.3824112050354\n",
      "Root Mean Squared Error: 846.8269374599485\n",
      "\n",
      "\n",
      "[1037.273733208637, 921.6482271143516, 846.8269374599485]\n",
      "[1149.301274677676, 990.8180528078831, 860.3824112050354]\n",
      "num of trees: 75\n",
      "Root Mean Squared Error: 819.2731847274728\n",
      "Root Mean Squared Error: 841.9363970387215\n",
      "\n",
      "\n",
      "[1037.273733208637, 921.6482271143516, 846.8269374599485, 841.9363970387215]\n",
      "[1149.301274677676, 990.8180528078831, 860.3824112050354, 819.2731847274728]\n",
      "num of trees: 100\n",
      "Root Mean Squared Error: 789.945681029926\n",
      "Root Mean Squared Error: 844.4728367625507\n",
      "\n",
      "\n",
      "[1037.273733208637, 921.6482271143516, 846.8269374599485, 841.9363970387215, 844.4728367625507]\n",
      "[1149.301274677676, 990.8180528078831, 860.3824112050354, 819.2731847274728, 789.945681029926]\n",
      "num of trees: 150\n",
      "Root Mean Squared Error: 755.4073391640168\n",
      "Root Mean Squared Error: 843.2258196747698\n",
      "\n",
      "\n",
      "[1037.273733208637, 921.6482271143516, 846.8269374599485, 841.9363970387215, 844.4728367625507, 843.2258196747698]\n",
      "[1149.301274677676, 990.8180528078831, 860.3824112050354, 819.2731847274728, 789.945681029926, 755.4073391640168]\n"
     ]
    },
    {
     "ename": "KeyboardInterrupt",
     "evalue": "",
     "output_type": "error",
     "traceback": [
      "\u001b[1;31m---------------------------------------------------------------------------\u001b[0m",
      "\u001b[1;31mKeyboardInterrupt\u001b[0m                         Traceback (most recent call last)",
      "\u001b[1;32m<ipython-input-62-c3739d1f379b>\u001b[0m in \u001b[0;36m<module>\u001b[1;34m\u001b[0m\n\u001b[0;32m     15\u001b[0m     \u001b[1;31m#gbr = MultiOutputRegressor(GradientBoostingRegressor(n_estimators=trees, max_depth=4,  min_samples_split=2, min_samples_leaf=2))\u001b[0m\u001b[1;33m\u001b[0m\u001b[1;33m\u001b[0m\u001b[1;33m\u001b[0m\u001b[0m\n\u001b[0;32m     16\u001b[0m     \u001b[0mgbr\u001b[0m \u001b[1;33m=\u001b[0m \u001b[0mMultiOutputRegressor\u001b[0m\u001b[1;33m(\u001b[0m\u001b[0mGradientBoostingRegressor\u001b[0m\u001b[1;33m(\u001b[0m\u001b[0mn_estimators\u001b[0m\u001b[1;33m=\u001b[0m\u001b[0mtrees\u001b[0m\u001b[1;33m)\u001b[0m\u001b[1;33m)\u001b[0m\u001b[1;33m\u001b[0m\u001b[1;33m\u001b[0m\u001b[0m\n\u001b[1;32m---> 17\u001b[1;33m     \u001b[0mgbr\u001b[0m\u001b[1;33m.\u001b[0m\u001b[0mfit\u001b[0m\u001b[1;33m(\u001b[0m\u001b[0mX_train\u001b[0m\u001b[1;33m,\u001b[0m \u001b[0my_train\u001b[0m\u001b[1;33m)\u001b[0m\u001b[1;33m\u001b[0m\u001b[1;33m\u001b[0m\u001b[0m\n\u001b[0m\u001b[0;32m     18\u001b[0m \u001b[1;33m\u001b[0m\u001b[0m\n\u001b[0;32m     19\u001b[0m     \u001b[0my_pred_train\u001b[0m \u001b[1;33m=\u001b[0m \u001b[0mgbr\u001b[0m\u001b[1;33m.\u001b[0m\u001b[0mpredict\u001b[0m\u001b[1;33m(\u001b[0m\u001b[0mX_train\u001b[0m\u001b[1;33m)\u001b[0m\u001b[1;33m\u001b[0m\u001b[1;33m\u001b[0m\u001b[0m\n",
      "\u001b[1;32m~\\.conda\\envs\\opencv\\lib\\site-packages\\sklearn\\multioutput.py\u001b[0m in \u001b[0;36mfit\u001b[1;34m(self, X, y, sample_weight)\u001b[0m\n\u001b[0;32m    167\u001b[0m             delayed(_fit_estimator)(\n\u001b[0;32m    168\u001b[0m                 self.estimator, X, y[:, i], sample_weight)\n\u001b[1;32m--> 169\u001b[1;33m             for i in range(y.shape[1]))\n\u001b[0m\u001b[0;32m    170\u001b[0m         \u001b[1;32mreturn\u001b[0m \u001b[0mself\u001b[0m\u001b[1;33m\u001b[0m\u001b[1;33m\u001b[0m\u001b[0m\n\u001b[0;32m    171\u001b[0m \u001b[1;33m\u001b[0m\u001b[0m\n",
      "\u001b[1;32m~\\.conda\\envs\\opencv\\lib\\site-packages\\joblib\\parallel.py\u001b[0m in \u001b[0;36m__call__\u001b[1;34m(self, iterable)\u001b[0m\n\u001b[0;32m    922\u001b[0m                 \u001b[0mself\u001b[0m\u001b[1;33m.\u001b[0m\u001b[0m_iterating\u001b[0m \u001b[1;33m=\u001b[0m \u001b[0mself\u001b[0m\u001b[1;33m.\u001b[0m\u001b[0m_original_iterator\u001b[0m \u001b[1;32mis\u001b[0m \u001b[1;32mnot\u001b[0m \u001b[1;32mNone\u001b[0m\u001b[1;33m\u001b[0m\u001b[1;33m\u001b[0m\u001b[0m\n\u001b[0;32m    923\u001b[0m \u001b[1;33m\u001b[0m\u001b[0m\n\u001b[1;32m--> 924\u001b[1;33m             \u001b[1;32mwhile\u001b[0m \u001b[0mself\u001b[0m\u001b[1;33m.\u001b[0m\u001b[0mdispatch_one_batch\u001b[0m\u001b[1;33m(\u001b[0m\u001b[0miterator\u001b[0m\u001b[1;33m)\u001b[0m\u001b[1;33m:\u001b[0m\u001b[1;33m\u001b[0m\u001b[1;33m\u001b[0m\u001b[0m\n\u001b[0m\u001b[0;32m    925\u001b[0m                 \u001b[1;32mpass\u001b[0m\u001b[1;33m\u001b[0m\u001b[1;33m\u001b[0m\u001b[0m\n\u001b[0;32m    926\u001b[0m \u001b[1;33m\u001b[0m\u001b[0m\n",
      "\u001b[1;32m~\\.conda\\envs\\opencv\\lib\\site-packages\\joblib\\parallel.py\u001b[0m in \u001b[0;36mdispatch_one_batch\u001b[1;34m(self, iterator)\u001b[0m\n\u001b[0;32m    757\u001b[0m                 \u001b[1;32mreturn\u001b[0m \u001b[1;32mFalse\u001b[0m\u001b[1;33m\u001b[0m\u001b[1;33m\u001b[0m\u001b[0m\n\u001b[0;32m    758\u001b[0m             \u001b[1;32melse\u001b[0m\u001b[1;33m:\u001b[0m\u001b[1;33m\u001b[0m\u001b[1;33m\u001b[0m\u001b[0m\n\u001b[1;32m--> 759\u001b[1;33m                 \u001b[0mself\u001b[0m\u001b[1;33m.\u001b[0m\u001b[0m_dispatch\u001b[0m\u001b[1;33m(\u001b[0m\u001b[0mtasks\u001b[0m\u001b[1;33m)\u001b[0m\u001b[1;33m\u001b[0m\u001b[1;33m\u001b[0m\u001b[0m\n\u001b[0m\u001b[0;32m    760\u001b[0m                 \u001b[1;32mreturn\u001b[0m \u001b[1;32mTrue\u001b[0m\u001b[1;33m\u001b[0m\u001b[1;33m\u001b[0m\u001b[0m\n\u001b[0;32m    761\u001b[0m \u001b[1;33m\u001b[0m\u001b[0m\n",
      "\u001b[1;32m~\\.conda\\envs\\opencv\\lib\\site-packages\\joblib\\parallel.py\u001b[0m in \u001b[0;36m_dispatch\u001b[1;34m(self, batch)\u001b[0m\n\u001b[0;32m    714\u001b[0m         \u001b[1;32mwith\u001b[0m \u001b[0mself\u001b[0m\u001b[1;33m.\u001b[0m\u001b[0m_lock\u001b[0m\u001b[1;33m:\u001b[0m\u001b[1;33m\u001b[0m\u001b[1;33m\u001b[0m\u001b[0m\n\u001b[0;32m    715\u001b[0m             \u001b[0mjob_idx\u001b[0m \u001b[1;33m=\u001b[0m \u001b[0mlen\u001b[0m\u001b[1;33m(\u001b[0m\u001b[0mself\u001b[0m\u001b[1;33m.\u001b[0m\u001b[0m_jobs\u001b[0m\u001b[1;33m)\u001b[0m\u001b[1;33m\u001b[0m\u001b[1;33m\u001b[0m\u001b[0m\n\u001b[1;32m--> 716\u001b[1;33m             \u001b[0mjob\u001b[0m \u001b[1;33m=\u001b[0m \u001b[0mself\u001b[0m\u001b[1;33m.\u001b[0m\u001b[0m_backend\u001b[0m\u001b[1;33m.\u001b[0m\u001b[0mapply_async\u001b[0m\u001b[1;33m(\u001b[0m\u001b[0mbatch\u001b[0m\u001b[1;33m,\u001b[0m \u001b[0mcallback\u001b[0m\u001b[1;33m=\u001b[0m\u001b[0mcb\u001b[0m\u001b[1;33m)\u001b[0m\u001b[1;33m\u001b[0m\u001b[1;33m\u001b[0m\u001b[0m\n\u001b[0m\u001b[0;32m    717\u001b[0m             \u001b[1;31m# A job can complete so quickly than its callback is\u001b[0m\u001b[1;33m\u001b[0m\u001b[1;33m\u001b[0m\u001b[1;33m\u001b[0m\u001b[0m\n\u001b[0;32m    718\u001b[0m             \u001b[1;31m# called before we get here, causing self._jobs to\u001b[0m\u001b[1;33m\u001b[0m\u001b[1;33m\u001b[0m\u001b[1;33m\u001b[0m\u001b[0m\n",
      "\u001b[1;32m~\\.conda\\envs\\opencv\\lib\\site-packages\\joblib\\_parallel_backends.py\u001b[0m in \u001b[0;36mapply_async\u001b[1;34m(self, func, callback)\u001b[0m\n\u001b[0;32m    180\u001b[0m     \u001b[1;32mdef\u001b[0m \u001b[0mapply_async\u001b[0m\u001b[1;33m(\u001b[0m\u001b[0mself\u001b[0m\u001b[1;33m,\u001b[0m \u001b[0mfunc\u001b[0m\u001b[1;33m,\u001b[0m \u001b[0mcallback\u001b[0m\u001b[1;33m=\u001b[0m\u001b[1;32mNone\u001b[0m\u001b[1;33m)\u001b[0m\u001b[1;33m:\u001b[0m\u001b[1;33m\u001b[0m\u001b[1;33m\u001b[0m\u001b[0m\n\u001b[0;32m    181\u001b[0m         \u001b[1;34m\"\"\"Schedule a func to be run\"\"\"\u001b[0m\u001b[1;33m\u001b[0m\u001b[1;33m\u001b[0m\u001b[0m\n\u001b[1;32m--> 182\u001b[1;33m         \u001b[0mresult\u001b[0m \u001b[1;33m=\u001b[0m \u001b[0mImmediateResult\u001b[0m\u001b[1;33m(\u001b[0m\u001b[0mfunc\u001b[0m\u001b[1;33m)\u001b[0m\u001b[1;33m\u001b[0m\u001b[1;33m\u001b[0m\u001b[0m\n\u001b[0m\u001b[0;32m    183\u001b[0m         \u001b[1;32mif\u001b[0m \u001b[0mcallback\u001b[0m\u001b[1;33m:\u001b[0m\u001b[1;33m\u001b[0m\u001b[1;33m\u001b[0m\u001b[0m\n\u001b[0;32m    184\u001b[0m             \u001b[0mcallback\u001b[0m\u001b[1;33m(\u001b[0m\u001b[0mresult\u001b[0m\u001b[1;33m)\u001b[0m\u001b[1;33m\u001b[0m\u001b[1;33m\u001b[0m\u001b[0m\n",
      "\u001b[1;32m~\\.conda\\envs\\opencv\\lib\\site-packages\\joblib\\_parallel_backends.py\u001b[0m in \u001b[0;36m__init__\u001b[1;34m(self, batch)\u001b[0m\n\u001b[0;32m    547\u001b[0m         \u001b[1;31m# Don't delay the application, to avoid keeping the input\u001b[0m\u001b[1;33m\u001b[0m\u001b[1;33m\u001b[0m\u001b[1;33m\u001b[0m\u001b[0m\n\u001b[0;32m    548\u001b[0m         \u001b[1;31m# arguments in memory\u001b[0m\u001b[1;33m\u001b[0m\u001b[1;33m\u001b[0m\u001b[1;33m\u001b[0m\u001b[0m\n\u001b[1;32m--> 549\u001b[1;33m         \u001b[0mself\u001b[0m\u001b[1;33m.\u001b[0m\u001b[0mresults\u001b[0m \u001b[1;33m=\u001b[0m \u001b[0mbatch\u001b[0m\u001b[1;33m(\u001b[0m\u001b[1;33m)\u001b[0m\u001b[1;33m\u001b[0m\u001b[1;33m\u001b[0m\u001b[0m\n\u001b[0m\u001b[0;32m    550\u001b[0m \u001b[1;33m\u001b[0m\u001b[0m\n\u001b[0;32m    551\u001b[0m     \u001b[1;32mdef\u001b[0m \u001b[0mget\u001b[0m\u001b[1;33m(\u001b[0m\u001b[0mself\u001b[0m\u001b[1;33m)\u001b[0m\u001b[1;33m:\u001b[0m\u001b[1;33m\u001b[0m\u001b[1;33m\u001b[0m\u001b[0m\n",
      "\u001b[1;32m~\\.conda\\envs\\opencv\\lib\\site-packages\\joblib\\parallel.py\u001b[0m in \u001b[0;36m__call__\u001b[1;34m(self)\u001b[0m\n\u001b[0;32m    223\u001b[0m         \u001b[1;32mwith\u001b[0m \u001b[0mparallel_backend\u001b[0m\u001b[1;33m(\u001b[0m\u001b[0mself\u001b[0m\u001b[1;33m.\u001b[0m\u001b[0m_backend\u001b[0m\u001b[1;33m,\u001b[0m \u001b[0mn_jobs\u001b[0m\u001b[1;33m=\u001b[0m\u001b[0mself\u001b[0m\u001b[1;33m.\u001b[0m\u001b[0m_n_jobs\u001b[0m\u001b[1;33m)\u001b[0m\u001b[1;33m:\u001b[0m\u001b[1;33m\u001b[0m\u001b[1;33m\u001b[0m\u001b[0m\n\u001b[0;32m    224\u001b[0m             return [func(*args, **kwargs)\n\u001b[1;32m--> 225\u001b[1;33m                     for func, args, kwargs in self.items]\n\u001b[0m\u001b[0;32m    226\u001b[0m \u001b[1;33m\u001b[0m\u001b[0m\n\u001b[0;32m    227\u001b[0m     \u001b[1;32mdef\u001b[0m \u001b[0m__len__\u001b[0m\u001b[1;33m(\u001b[0m\u001b[0mself\u001b[0m\u001b[1;33m)\u001b[0m\u001b[1;33m:\u001b[0m\u001b[1;33m\u001b[0m\u001b[1;33m\u001b[0m\u001b[0m\n",
      "\u001b[1;32m~\\.conda\\envs\\opencv\\lib\\site-packages\\joblib\\parallel.py\u001b[0m in \u001b[0;36m<listcomp>\u001b[1;34m(.0)\u001b[0m\n\u001b[0;32m    223\u001b[0m         \u001b[1;32mwith\u001b[0m \u001b[0mparallel_backend\u001b[0m\u001b[1;33m(\u001b[0m\u001b[0mself\u001b[0m\u001b[1;33m.\u001b[0m\u001b[0m_backend\u001b[0m\u001b[1;33m,\u001b[0m \u001b[0mn_jobs\u001b[0m\u001b[1;33m=\u001b[0m\u001b[0mself\u001b[0m\u001b[1;33m.\u001b[0m\u001b[0m_n_jobs\u001b[0m\u001b[1;33m)\u001b[0m\u001b[1;33m:\u001b[0m\u001b[1;33m\u001b[0m\u001b[1;33m\u001b[0m\u001b[0m\n\u001b[0;32m    224\u001b[0m             return [func(*args, **kwargs)\n\u001b[1;32m--> 225\u001b[1;33m                     for func, args, kwargs in self.items]\n\u001b[0m\u001b[0;32m    226\u001b[0m \u001b[1;33m\u001b[0m\u001b[0m\n\u001b[0;32m    227\u001b[0m     \u001b[1;32mdef\u001b[0m \u001b[0m__len__\u001b[0m\u001b[1;33m(\u001b[0m\u001b[0mself\u001b[0m\u001b[1;33m)\u001b[0m\u001b[1;33m:\u001b[0m\u001b[1;33m\u001b[0m\u001b[1;33m\u001b[0m\u001b[0m\n",
      "\u001b[1;32m~\\.conda\\envs\\opencv\\lib\\site-packages\\sklearn\\multioutput.py\u001b[0m in \u001b[0;36m_fit_estimator\u001b[1;34m(estimator, X, y, sample_weight)\u001b[0m\n\u001b[0;32m     37\u001b[0m         \u001b[0mestimator\u001b[0m\u001b[1;33m.\u001b[0m\u001b[0mfit\u001b[0m\u001b[1;33m(\u001b[0m\u001b[0mX\u001b[0m\u001b[1;33m,\u001b[0m \u001b[0my\u001b[0m\u001b[1;33m,\u001b[0m \u001b[0msample_weight\u001b[0m\u001b[1;33m=\u001b[0m\u001b[0msample_weight\u001b[0m\u001b[1;33m)\u001b[0m\u001b[1;33m\u001b[0m\u001b[1;33m\u001b[0m\u001b[0m\n\u001b[0;32m     38\u001b[0m     \u001b[1;32melse\u001b[0m\u001b[1;33m:\u001b[0m\u001b[1;33m\u001b[0m\u001b[1;33m\u001b[0m\u001b[0m\n\u001b[1;32m---> 39\u001b[1;33m         \u001b[0mestimator\u001b[0m\u001b[1;33m.\u001b[0m\u001b[0mfit\u001b[0m\u001b[1;33m(\u001b[0m\u001b[0mX\u001b[0m\u001b[1;33m,\u001b[0m \u001b[0my\u001b[0m\u001b[1;33m)\u001b[0m\u001b[1;33m\u001b[0m\u001b[1;33m\u001b[0m\u001b[0m\n\u001b[0m\u001b[0;32m     40\u001b[0m     \u001b[1;32mreturn\u001b[0m \u001b[0mestimator\u001b[0m\u001b[1;33m\u001b[0m\u001b[1;33m\u001b[0m\u001b[0m\n\u001b[0;32m     41\u001b[0m \u001b[1;33m\u001b[0m\u001b[0m\n",
      "\u001b[1;32m~\\.conda\\envs\\opencv\\lib\\site-packages\\sklearn\\ensemble\\gradient_boosting.py\u001b[0m in \u001b[0;36mfit\u001b[1;34m(self, X, y, sample_weight, monitor)\u001b[0m\n\u001b[0;32m   1544\u001b[0m         n_stages = self._fit_stages(\n\u001b[0;32m   1545\u001b[0m             \u001b[0mX\u001b[0m\u001b[1;33m,\u001b[0m \u001b[0my\u001b[0m\u001b[1;33m,\u001b[0m \u001b[0mraw_predictions\u001b[0m\u001b[1;33m,\u001b[0m \u001b[0msample_weight\u001b[0m\u001b[1;33m,\u001b[0m \u001b[0mself\u001b[0m\u001b[1;33m.\u001b[0m\u001b[0m_rng\u001b[0m\u001b[1;33m,\u001b[0m \u001b[0mX_val\u001b[0m\u001b[1;33m,\u001b[0m \u001b[0my_val\u001b[0m\u001b[1;33m,\u001b[0m\u001b[1;33m\u001b[0m\u001b[1;33m\u001b[0m\u001b[0m\n\u001b[1;32m-> 1546\u001b[1;33m             sample_weight_val, begin_at_stage, monitor, X_idx_sorted)\n\u001b[0m\u001b[0;32m   1547\u001b[0m \u001b[1;33m\u001b[0m\u001b[0m\n\u001b[0;32m   1548\u001b[0m         \u001b[1;31m# change shape of arrays after fit (early-stopping or additional ests)\u001b[0m\u001b[1;33m\u001b[0m\u001b[1;33m\u001b[0m\u001b[1;33m\u001b[0m\u001b[0m\n",
      "\u001b[1;32m~\\.conda\\envs\\opencv\\lib\\site-packages\\sklearn\\ensemble\\gradient_boosting.py\u001b[0m in \u001b[0;36m_fit_stages\u001b[1;34m(self, X, y, raw_predictions, sample_weight, random_state, X_val, y_val, sample_weight_val, begin_at_stage, monitor, X_idx_sorted)\u001b[0m\n\u001b[0;32m   1608\u001b[0m             raw_predictions = self._fit_stage(\n\u001b[0;32m   1609\u001b[0m                 \u001b[0mi\u001b[0m\u001b[1;33m,\u001b[0m \u001b[0mX\u001b[0m\u001b[1;33m,\u001b[0m \u001b[0my\u001b[0m\u001b[1;33m,\u001b[0m \u001b[0mraw_predictions\u001b[0m\u001b[1;33m,\u001b[0m \u001b[0msample_weight\u001b[0m\u001b[1;33m,\u001b[0m \u001b[0msample_mask\u001b[0m\u001b[1;33m,\u001b[0m\u001b[1;33m\u001b[0m\u001b[1;33m\u001b[0m\u001b[0m\n\u001b[1;32m-> 1610\u001b[1;33m                 random_state, X_idx_sorted, X_csc, X_csr)\n\u001b[0m\u001b[0;32m   1611\u001b[0m \u001b[1;33m\u001b[0m\u001b[0m\n\u001b[0;32m   1612\u001b[0m             \u001b[1;31m# track deviance (= loss)\u001b[0m\u001b[1;33m\u001b[0m\u001b[1;33m\u001b[0m\u001b[1;33m\u001b[0m\u001b[0m\n",
      "\u001b[1;32m~\\.conda\\envs\\opencv\\lib\\site-packages\\sklearn\\ensemble\\gradient_boosting.py\u001b[0m in \u001b[0;36m_fit_stage\u001b[1;34m(self, i, X, y, raw_predictions, sample_weight, sample_mask, random_state, X_idx_sorted, X_csc, X_csr)\u001b[0m\n\u001b[0;32m   1242\u001b[0m             \u001b[0mX\u001b[0m \u001b[1;33m=\u001b[0m \u001b[0mX_csr\u001b[0m \u001b[1;32mif\u001b[0m \u001b[0mX_csr\u001b[0m \u001b[1;32mis\u001b[0m \u001b[1;32mnot\u001b[0m \u001b[1;32mNone\u001b[0m \u001b[1;32melse\u001b[0m \u001b[0mX\u001b[0m\u001b[1;33m\u001b[0m\u001b[1;33m\u001b[0m\u001b[0m\n\u001b[0;32m   1243\u001b[0m             tree.fit(X, residual, sample_weight=sample_weight,\n\u001b[1;32m-> 1244\u001b[1;33m                      check_input=False, X_idx_sorted=X_idx_sorted)\n\u001b[0m\u001b[0;32m   1245\u001b[0m \u001b[1;33m\u001b[0m\u001b[0m\n\u001b[0;32m   1246\u001b[0m             \u001b[1;31m# update tree leaves\u001b[0m\u001b[1;33m\u001b[0m\u001b[1;33m\u001b[0m\u001b[1;33m\u001b[0m\u001b[0m\n",
      "\u001b[1;32m~\\.conda\\envs\\opencv\\lib\\site-packages\\sklearn\\tree\\tree.py\u001b[0m in \u001b[0;36mfit\u001b[1;34m(self, X, y, sample_weight, check_input, X_idx_sorted)\u001b[0m\n\u001b[0;32m   1155\u001b[0m             \u001b[0msample_weight\u001b[0m\u001b[1;33m=\u001b[0m\u001b[0msample_weight\u001b[0m\u001b[1;33m,\u001b[0m\u001b[1;33m\u001b[0m\u001b[1;33m\u001b[0m\u001b[0m\n\u001b[0;32m   1156\u001b[0m             \u001b[0mcheck_input\u001b[0m\u001b[1;33m=\u001b[0m\u001b[0mcheck_input\u001b[0m\u001b[1;33m,\u001b[0m\u001b[1;33m\u001b[0m\u001b[1;33m\u001b[0m\u001b[0m\n\u001b[1;32m-> 1157\u001b[1;33m             X_idx_sorted=X_idx_sorted)\n\u001b[0m\u001b[0;32m   1158\u001b[0m         \u001b[1;32mreturn\u001b[0m \u001b[0mself\u001b[0m\u001b[1;33m\u001b[0m\u001b[1;33m\u001b[0m\u001b[0m\n\u001b[0;32m   1159\u001b[0m \u001b[1;33m\u001b[0m\u001b[0m\n",
      "\u001b[1;32m~\\.conda\\envs\\opencv\\lib\\site-packages\\sklearn\\tree\\tree.py\u001b[0m in \u001b[0;36mfit\u001b[1;34m(self, X, y, sample_weight, check_input, X_idx_sorted)\u001b[0m\n\u001b[0;32m    378\u001b[0m                                            min_impurity_split)\n\u001b[0;32m    379\u001b[0m \u001b[1;33m\u001b[0m\u001b[0m\n\u001b[1;32m--> 380\u001b[1;33m         \u001b[0mbuilder\u001b[0m\u001b[1;33m.\u001b[0m\u001b[0mbuild\u001b[0m\u001b[1;33m(\u001b[0m\u001b[0mself\u001b[0m\u001b[1;33m.\u001b[0m\u001b[0mtree_\u001b[0m\u001b[1;33m,\u001b[0m \u001b[0mX\u001b[0m\u001b[1;33m,\u001b[0m \u001b[0my\u001b[0m\u001b[1;33m,\u001b[0m \u001b[0msample_weight\u001b[0m\u001b[1;33m,\u001b[0m \u001b[0mX_idx_sorted\u001b[0m\u001b[1;33m)\u001b[0m\u001b[1;33m\u001b[0m\u001b[1;33m\u001b[0m\u001b[0m\n\u001b[0m\u001b[0;32m    381\u001b[0m \u001b[1;33m\u001b[0m\u001b[0m\n\u001b[0;32m    382\u001b[0m         \u001b[1;32mif\u001b[0m \u001b[0mself\u001b[0m\u001b[1;33m.\u001b[0m\u001b[0mn_outputs_\u001b[0m \u001b[1;33m==\u001b[0m \u001b[1;36m1\u001b[0m\u001b[1;33m:\u001b[0m\u001b[1;33m\u001b[0m\u001b[1;33m\u001b[0m\u001b[0m\n",
      "\u001b[1;31mKeyboardInterrupt\u001b[0m: "
     ]
    }
   ],
   "source": [
    "############## Gradient Boosting ################\n",
    "\n",
    "from sklearn.multioutput import MultiOutputRegressor\n",
    "from sklearn.ensemble import GradientBoostingRegressor\n",
    "from sklearn import metrics\n",
    "from matplotlib.pylab import rcParams\n",
    "rcParams['figure.figsize'] = 14, 8\n",
    "\n",
    "rmse_train = list()\n",
    "rmse_val = list()\n",
    "num_of_trees = [10, 20, 50, 75, 100, 150, 200, 250, 300, 400, 500, 750]\n",
    "\n",
    "for trees in num_of_trees:\n",
    "\n",
    "    #gbr = MultiOutputRegressor(GradientBoostingRegressor(n_estimators=trees, max_depth=4,  min_samples_split=2, min_samples_leaf=2))\n",
    "    gbr = MultiOutputRegressor(GradientBoostingRegressor(n_estimators=trees))\n",
    "    gbr.fit(X_train, y_train)\n",
    "\n",
    "    y_pred_train = gbr.predict(X_train)\n",
    "    y_pred_val = gbr.predict(X_val)\n",
    "\n",
    "    print ('num of trees: '+str(trees))\n",
    "\n",
    "    print('Root Mean Squared Error:', np.sqrt(metrics.mean_squared_error(y_train, y_pred_train)))\n",
    "    rmse_train.append(np.sqrt(metrics.mean_squared_error(y_train, y_pred_train)))\n",
    "\n",
    "    print('Root Mean Squared Error:', np.sqrt(metrics.mean_squared_error(y_val, y_pred_val)))\n",
    "    print ('\\n')\n",
    "    rmse_val.append(np.sqrt(metrics.mean_squared_error(y_val, y_pred_val)))\n",
    "    print (rmse_val)\n",
    "    print (rmse_train)\n",
    "    \n",
    "    '''\n",
    "    dic_train = {'Actual':y_train[800:901,0], 'Predicted':y_pred_train[800:901,0]}\n",
    "    dic_val = {'Actual':y_val[600:701,0], 'Predicted':y_pred_val[600:701,0]}\n",
    "    \n",
    "    df_train = pd.DataFrame(dic_train)\n",
    "    df_val = pd.DataFrame(dic_val)\n",
    "    df_train = df_train.drop([90])\n",
    "    df_val = df_val.drop([77])\n",
    "    df_val = df_val.drop([73])\n",
    "    #print (df_val)\n",
    "    #print (df_train)\n",
    "    \n",
    "    plt.plot(df_train['Actual'], label='Actual')\n",
    "    plt.plot(df_train['Predicted'], color='red', label='Predicted')\n",
    "    plt.title('Training Set')\n",
    "    plt.xlabel('data points')\n",
    "    plt.ylabel('Actual and Predicted')\n",
    "    plt.legend()\n",
    "    plt.show()\n",
    "\n",
    "    plt.plot(df_val['Actual'], label='Actual')\n",
    "    plt.plot(df_val['Predicted'], color='red', label='Predicted')\n",
    "    plt.title('Validation Set')\n",
    "    plt.xlabel('data points')\n",
    "    plt.ylabel('Actual and Predicted')\n",
    "    plt.legend()\n",
    "    plt.show()\n",
    "    '''\n",
    "'''\n",
    "df_RF = pd.DataFrame({'No of trees':num_of_trees, 'RMSE_train':rmse_train, 'RMSE_val':rmse_val})\n",
    "df_RF = df_RF.set_index('No of trees')\n",
    "plt.plot(df_RF['RMSE_train'], label='RMSE_train')\n",
    "plt.plot(df_RF['RMSE_val'], color='red', label='RMSE_val')\n",
    "plt.title('RMSE')\n",
    "plt.xlabel('No. of trees')\n",
    "plt.ylabel('RMSE')\n",
    "plt.legend()\n",
    "plt.show()\n",
    "'''\n",
    "##################################################"
   ]
  },
  {
   "cell_type": "code",
   "execution_count": 16,
   "metadata": {},
   "outputs": [
    {
     "name": "stderr",
     "output_type": "stream",
     "text": [
      "Using TensorFlow backend.\n"
     ]
    },
    {
     "name": "stdout",
     "output_type": "stream",
     "text": [
      "Epoch 1/40\n",
      "17352/17352 [==============================] - 4s 210us/step - loss: 53357978.0902 - mean_squared_error: 53357996.0000\n",
      "Epoch 2/40\n",
      "17352/17352 [==============================] - 4s 209us/step - loss: 35826110.5509 - mean_squared_error: 35826132.0000\n",
      "Epoch 3/40\n",
      "17352/17352 [==============================] - 4s 220us/step - loss: 28938697.1464 - mean_squared_error: 28938692.0000\n",
      "Epoch 4/40\n",
      "17352/17352 [==============================] - 4s 226us/step - loss: 28003948.2011 - mean_squared_error: 28003952.0000\n",
      "Epoch 5/40\n",
      "17352/17352 [==============================] - 3s 196us/step - loss: 27154859.9958 - mean_squared_error: 27154866.0000\n",
      "Epoch 6/40\n",
      "17352/17352 [==============================] - 3s 172us/step - loss: 26453803.5332 - mean_squared_error: 26453814.0000\n",
      "Epoch 7/40\n",
      "17352/17352 [==============================] - 3s 166us/step - loss: 25403880.0408 - mean_squared_error: 25403882.0000\n",
      "Epoch 8/40\n",
      "17352/17352 [==============================] - 4s 205us/step - loss: 23867947.2476 - mean_squared_error: 23867942.0000\n",
      "Epoch 9/40\n",
      "17352/17352 [==============================] - 3s 163us/step - loss: 20953573.3938 - mean_squared_error: 20953562.0000\n",
      "Epoch 10/40\n",
      "17352/17352 [==============================] - 3s 163us/step - loss: 18588299.3407 - mean_squared_error: 18588306.0000\n",
      "Epoch 11/40\n",
      "17352/17352 [==============================] - 3s 159us/step - loss: 17228416.7009 - mean_squared_error: 17228414.0000\n",
      "Epoch 12/40\n",
      "17352/17352 [==============================] - 3s 158us/step - loss: 16095396.6554 - mean_squared_error: 16095388.0000\n",
      "Epoch 13/40\n",
      "17352/17352 [==============================] - 3s 195us/step - loss: 16121049.9180 - mean_squared_error: 16121055.0000\n",
      "Epoch 14/40\n",
      "17352/17352 [==============================] - 3s 195us/step - loss: 15428030.7905 - mean_squared_error: 15428032.0000\n",
      "Epoch 15/40\n",
      "17352/17352 [==============================] - 3s 199us/step - loss: 14594043.7501 - mean_squared_error: 14594040.0000\n",
      "Epoch 16/40\n",
      "17352/17352 [==============================] - 3s 171us/step - loss: 14886508.2960 - mean_squared_error: 14886503.0000\n",
      "Epoch 17/40\n",
      "17352/17352 [==============================] - 3s 180us/step - loss: 14697782.3711 - mean_squared_error: 14697777.0000\n",
      "Epoch 18/40\n",
      "17352/17352 [==============================] - 3s 169us/step - loss: 14234420.0209 - mean_squared_error: 14234423.0000\n",
      "Epoch 19/40\n",
      "17352/17352 [==============================] - 3s 183us/step - loss: 13830327.0777 - mean_squared_error: 13830321.0000\n",
      "Epoch 20/40\n",
      "17352/17352 [==============================] - 3s 164us/step - loss: 13631117.8288 - mean_squared_error: 13631118.0000\n",
      "Epoch 21/40\n",
      "17352/17352 [==============================] - 3s 177us/step - loss: 13623409.3392 - mean_squared_error: 13623413.0000\n",
      "Epoch 22/40\n",
      "17352/17352 [==============================] - 3s 196us/step - loss: 13462650.0145 - mean_squared_error: 13462653.0000\n",
      "Epoch 23/40\n",
      "17352/17352 [==============================] - 3s 174us/step - loss: 12998292.6672 - mean_squared_error: 12998293.0000\n",
      "Epoch 24/40\n",
      "17352/17352 [==============================] - 4s 206us/step - loss: 13130572.9134 - mean_squared_error: 13130569.0000\n",
      "Epoch 25/40\n",
      "17352/17352 [==============================] - 3s 188us/step - loss: 13149061.5298 - mean_squared_error: 13149065.0000\n",
      "Epoch 26/40\n",
      "17352/17352 [==============================] - 3s 187us/step - loss: 12752242.6970 - mean_squared_error: 12752248.0000\n",
      "Epoch 27/40\n",
      "17352/17352 [==============================] - 3s 177us/step - loss: 12915234.3602 - mean_squared_error: 12915236.0000\n",
      "Epoch 28/40\n",
      "17352/17352 [==============================] - 3s 171us/step - loss: 12652176.5526 - mean_squared_error: 12652184.0000\n",
      "Epoch 29/40\n",
      "17352/17352 [==============================] - 3s 182us/step - loss: 12681984.8686 - mean_squared_error: 12681986.0000\n",
      "Epoch 30/40\n",
      "17352/17352 [==============================] - 3s 155us/step - loss: 12345793.4403 - mean_squared_error: 12345793.0000\n",
      "Epoch 31/40\n",
      "17352/17352 [==============================] - 3s 161us/step - loss: 12197450.1274 - mean_squared_error: 12197454.0000\n",
      "Epoch 32/40\n",
      "17352/17352 [==============================] - 3s 153us/step - loss: 12001799.0134 - mean_squared_error: 12001799.0000\n",
      "Epoch 33/40\n",
      "17352/17352 [==============================] - 3s 156us/step - loss: 12248998.6814 - mean_squared_error: 12248990.0000\n",
      "Epoch 34/40\n",
      "17352/17352 [==============================] - 3s 151us/step - loss: 11961691.6887 - mean_squared_error: 11961687.0000\n",
      "Epoch 35/40\n",
      "17352/17352 [==============================] - 3s 155us/step - loss: 11813714.8764 - mean_squared_error: 11813712.0000\n",
      "Epoch 36/40\n",
      "17352/17352 [==============================] - 3s 152us/step - loss: 11657037.1255 - mean_squared_error: 11657038.0000\n",
      "Epoch 37/40\n",
      "17352/17352 [==============================] - 3s 157us/step - loss: 12091456.4458 - mean_squared_error: 12091451.0000\n",
      "Epoch 38/40\n",
      "17352/17352 [==============================] - 3s 158us/step - loss: 11433683.8122 - mean_squared_error: 11433683.0000\n",
      "Epoch 39/40\n",
      "17352/17352 [==============================] - 3s 152us/step - loss: 11704546.5413 - mean_squared_error: 11704548.0000\n",
      "Epoch 40/40\n",
      "17352/17352 [==============================] - 3s 154us/step - loss: 11292798.2067 - mean_squared_error: 11292800.0000\n",
      "Root Mean Squared Error: 3402.4287676555346\n",
      "Root Mean Squared Error: 3623.746667318041\n"
     ]
    },
    {
     "data": {
      "image/png": "[encoded data removed]",
      "text/plain": [
       "<Figure size 1008x576 with 1 Axes>"
      ]
     },
     "metadata": {
      "needs_background": "light"
     },
     "output_type": "display_data"
    },
    {
     "data": {
      "image/png": "[encoded data removed]",
      "text/plain": [
       "<Figure size 1008x576 with 1 Axes>"
      ]
     },
     "metadata": {
      "needs_background": "light"
     },
     "output_type": "display_data"
    }
   ],
   "source": [
    "############ Neural Network #############\n",
    "\n",
    "from sklearn import metrics\n",
    "from matplotlib.pylab import rcParams\n",
    "rcParams['figure.figsize'] = 14, 8\n",
    "import keras\n",
    "from keras.models import Sequential\n",
    "from keras.layers import Dense, Dropout\n",
    "\n",
    "model = Sequential()\n",
    "\n",
    "model.add(Dense(512, input_dim=169, activation= \"relu\"))\n",
    "model.add(Dense(256, activation= \"relu\"))\n",
    "model.add(Dense(128, activation= \"relu\"))\n",
    "model.add(Dense(21, activation= \"linear\"))\n",
    "\n",
    "model.compile(loss= \"mean_squared_error\" , optimizer=\"adam\", metrics=[\"mean_squared_error\"])\n",
    "model.fit(X_train, y_train, epochs=40, batch_size=32, verbose=1)\n",
    "\n",
    "y_pred_train= model.predict(X_train)\n",
    "print('Root Mean Squared Error:', np.sqrt(metrics.mean_squared_error(y_train, y_pred_train)))\n",
    "\n",
    "y_pred_val= model.predict(X_val)\n",
    "print('Root Mean Squared Error:', np.sqrt(metrics.mean_squared_error(y_val, y_pred_val)))\n",
    "\n",
    "dic_train = {'Actual':y_train[800:901,0], 'Predicted':y_pred_train[800:901,0]}\n",
    "dic_val = {'Actual':y_val[600:701,0], 'Predicted':y_pred_val[600:701,0]}\n",
    "    \n",
    "df_train = pd.DataFrame(dic_train)\n",
    "df_val = pd.DataFrame(dic_val)\n",
    "df_val = df_val.drop([77])\n",
    "#df_val = df_val.drop([31])\n",
    "#df_val = df_val.drop([80])\n",
    "\n",
    "df_train = df_train.drop([90])\n",
    "#df_train = df_train.drop([81])\n",
    "#df_val = df_val.drop([65])\n",
    "#df_val = df_val.drop([71])\n",
    "\n",
    "#print (df_train.iloc[80:101])\n",
    "#print (df_val.iloc[51:101])\n",
    "   \n",
    "plt.plot(df_train['Actual'], label='Actual')\n",
    "plt.plot(df_train['Predicted'], color='red', label='Predicted')\n",
    "plt.title('Training Set')\n",
    "plt.xlabel('data points')\n",
    "plt.ylabel('Actual and Predicted')\n",
    "plt.legend()\n",
    "plt.show()\n",
    "\n",
    "plt.plot(df_val['Actual'], label='Actual')\n",
    "plt.plot(df_val['Predicted'], color='red', label='Predicted')\n",
    "plt.title('Validation Set')\n",
    "plt.xlabel('data points')\n",
    "plt.ylabel('Actual and Predicted')\n",
    "plt.legend()\n",
    "plt.show()\n",
    "\n",
    "#########################################"
   ]
  },
  {
   "cell_type": "code",
   "execution_count": null,
   "metadata": {},
   "outputs": [],
   "source": []
  },
  {
   "cell_type": "code",
   "execution_count": null,
   "metadata": {},
   "outputs": [],
   "source": []
  },
  {
   "cell_type": "code",
   "execution_count": null,
   "metadata": {},
   "outputs": [],
   "source": []
  }
 ],
 "metadata": {
  "kernelspec": {
   "display_name": "Python 3",
   "language": "python",
   "name": "python3"
  },
  "language_info": {
   "codemirror_mode": {
    "name": "ipython",
    "version": 3
   },
   "file_extension": ".py",
   "mimetype": "text/x-python",
   "name": "python",
   "nbconvert_exporter": "python",
   "pygments_lexer": "ipython3",
   "version": "3.7.3"
  }
 },
 "nbformat": 4,
 "nbformat_minor": 4
}
