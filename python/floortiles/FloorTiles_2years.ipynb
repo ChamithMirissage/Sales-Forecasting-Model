{
 "cells": [
  {
   "cell_type": "code",
   "execution_count": 1,
   "metadata": {},
   "outputs": [],
   "source": [
    "import numpy as np\n",
    "import pandas as pd\n",
    "from datetime import datetime\n",
    "import matplotlib.pylab as plt\n",
    "%matplotlib inline\n",
    "from matplotlib.pylab import rcParams\n",
    "from sklearn.ensemble import RandomForestRegressor\n",
    "from sklearn.preprocessing import LabelEncoder\n",
    "from sklearn.preprocessing import OneHotEncoder"
   ]
  },
  {
   "cell_type": "code",
   "execution_count": 2,
   "metadata": {},
   "outputs": [
    {
     "name": "stdout",
     "output_type": "stream",
     "text": [
      "        CDateTime SalesPoint  SalesChannelKey     GroupCat ItemSize  \\\n",
      "0      2017-01-01      FDBDU                5  FLOOR TILES        Y   \n",
      "1      2017-01-01      FDBDU                5  FLOOR TILES        Y   \n",
      "2      2017-01-01      FDBDU                5  FLOOR TILES        U   \n",
      "3      2017-01-01      FDBA1                5  FLOOR TILES        T   \n",
      "4      2017-01-01      CADAM                1   WALL TILES        D   \n",
      "...           ...        ...              ...          ...      ...   \n",
      "445583 2018-12-31      DELUN                3   WALL TILES        P   \n",
      "445584 2018-12-31      DELUN                3   WALL TILES        P   \n",
      "445585 2018-12-31      FDBA1                5  FLOOR TILES        T   \n",
      "445586 2018-12-31      FDBA1                5  FLOOR TILES        T   \n",
      "445587 2018-12-31      FDJEL                5        GROUT        Q   \n",
      "\n",
      "        DiscountPcnt  QTY  \n",
      "0                5.0  110  \n",
      "1                5.0   17  \n",
      "2                0.0    7  \n",
      "3                0.0    5  \n",
      "4               48.0    9  \n",
      "...              ...  ...  \n",
      "445583           0.0  384  \n",
      "445584           0.0  384  \n",
      "445585           1.0   92  \n",
      "445586           1.0  312  \n",
      "445587           0.0    1  \n",
      "\n",
      "[1452372 rows x 7 columns]\n"
     ]
    }
   ],
   "source": [
    "twoyears = pd.read_pickle(\"./2years.pkl\") # Load whole data set\n",
    "print (twoyears)"
   ]
  },
  {
   "cell_type": "code",
   "execution_count": 3,
   "metadata": {},
   "outputs": [
    {
     "name": "stdout",
     "output_type": "stream",
     "text": [
      "         CDateTime SalesPoint  SalesChannelKey     GroupCat ItemSize  \\\n",
      "0       2017-01-01      FDBDU                5  FLOOR TILES        Y   \n",
      "1       2017-01-01      FDBDU                5  FLOOR TILES        Y   \n",
      "2       2017-01-01      FDBDU                5  FLOOR TILES        U   \n",
      "3       2017-01-01      FDBA1                5  FLOOR TILES        T   \n",
      "4       2017-01-01      CADAM                1   WALL TILES        D   \n",
      "...            ...        ...              ...          ...      ...   \n",
      "1452367 2018-12-31      DELUN                3   WALL TILES        P   \n",
      "1452368 2018-12-31      DELUN                3   WALL TILES        P   \n",
      "1452369 2018-12-31      FDBA1                5  FLOOR TILES        T   \n",
      "1452370 2018-12-31      FDBA1                5  FLOOR TILES        T   \n",
      "1452371 2018-12-31      FDJEL                5        GROUT        Q   \n",
      "\n",
      "         DiscountPcnt  QTY  \n",
      "0                 5.0  110  \n",
      "1                 5.0   17  \n",
      "2                 0.0    7  \n",
      "3                 0.0    5  \n",
      "4                48.0    9  \n",
      "...               ...  ...  \n",
      "1452367           0.0  384  \n",
      "1452368           0.0  384  \n",
      "1452369           1.0   92  \n",
      "1452370           1.0  312  \n",
      "1452371           0.0    1  \n",
      "\n",
      "[1452372 rows x 7 columns]\n"
     ]
    }
   ],
   "source": [
    "twoyears = twoyears.reset_index(drop=True)\n",
    "print (twoyears)"
   ]
  },
  {
   "cell_type": "code",
   "execution_count": 4,
   "metadata": {},
   "outputs": [
    {
     "name": "stdout",
     "output_type": "stream",
     "text": [
      "        CDateTime SalesPoint  SalesChannelKey     GroupCat ItemSize  \\\n",
      "0      2017-01-01      FDBDU                5  FLOOR TILES        Y   \n",
      "1      2017-01-01      FDBDU                5  FLOOR TILES        Y   \n",
      "2      2017-01-01      FDBDU                5  FLOOR TILES        U   \n",
      "3      2017-01-01      FDBA1                5  FLOOR TILES        T   \n",
      "4      2017-01-01      FDGAL                5  FLOOR TILES        Y   \n",
      "...           ...        ...              ...          ...      ...   \n",
      "480200 2018-12-31      FDAMB                5  FLOOR TILES        A   \n",
      "480201 2018-12-31      FDAMB                5  FLOOR TILES        T   \n",
      "480202 2018-12-31      FDJEL                5  FLOOR TILES        X   \n",
      "480203 2018-12-31      FDBA1                5  FLOOR TILES        T   \n",
      "480204 2018-12-31      FDBA1                5  FLOOR TILES        T   \n",
      "\n",
      "        DiscountPcnt  QTY  \n",
      "0                5.0  110  \n",
      "1                5.0   17  \n",
      "2                0.0    7  \n",
      "3                0.0    5  \n",
      "4                0.0    2  \n",
      "...              ...  ...  \n",
      "480200           1.0   50  \n",
      "480201           1.0  595  \n",
      "480202           1.0  250  \n",
      "480203           1.0   92  \n",
      "480204           1.0  312  \n",
      "\n",
      "[480205 rows x 7 columns]\n"
     ]
    }
   ],
   "source": [
    "FT_data = twoyears.loc[twoyears.GroupCat=='FLOOR TILES'].reset_index(drop=True)  # Separate wall tiles\n",
    "print (FT_data)"
   ]
  },
  {
   "cell_type": "code",
   "execution_count": 5,
   "metadata": {},
   "outputs": [],
   "source": [
    "FT_data.to_pickle(\"./FT.pkl\")  # Save as a pickle file"
   ]
  },
  {
   "cell_type": "code",
   "execution_count": 2,
   "metadata": {},
   "outputs": [
    {
     "name": "stdout",
     "output_type": "stream",
     "text": [
      "        CDateTime SalesPoint  SalesChannelKey     GroupCat ItemSize  \\\n",
      "0      2017-01-01      FDBDU                5  FLOOR TILES        Y   \n",
      "1      2017-01-01      FDBDU                5  FLOOR TILES        Y   \n",
      "2      2017-01-01      FDBDU                5  FLOOR TILES        U   \n",
      "3      2017-01-01      FDBA1                5  FLOOR TILES        T   \n",
      "4      2017-01-01      FDGAL                5  FLOOR TILES        Y   \n",
      "5      2017-01-01      FDAMT                5  FLOOR TILES        A   \n",
      "6      2017-01-01      FDRAT                5  FLOOR TILES        T   \n",
      "7      2017-01-01      FDGAL                5  FLOOR TILES        A   \n",
      "8      2017-01-01      FDBDU                5  FLOOR TILES        T   \n",
      "9      2017-01-01      FDRAT                5  FLOOR TILES        T   \n",
      "10     2017-01-01      FDBAL                5  FLOOR TILES        U   \n",
      "11     2017-01-01      FDBAL                5  FLOOR TILES        U   \n",
      "12     2017-01-01      FDBA1                5  FLOOR TILES        T   \n",
      "13     2017-01-01      FDEMB                5  FLOOR TILES        M   \n",
      "14     2017-01-01      FDAMT                5  FLOOR TILES        A   \n",
      "15     2017-01-01      FDAMB                5  FLOOR TILES        A   \n",
      "16     2017-01-01      FDAMB                5  FLOOR TILES        A   \n",
      "17     2017-01-01      FDAMB                5  FLOOR TILES        X   \n",
      "18     2017-01-01      DBSAM                2  FLOOR TILES        T   \n",
      "19     2017-01-01      FDEMB                5  FLOOR TILES        X   \n",
      "20     2017-01-01      FDBDU                5  FLOOR TILES        Y   \n",
      "21     2017-01-01      FDBDU                5  FLOOR TILES        Y   \n",
      "22     2017-01-01      FDBDU                5  FLOOR TILES        Y   \n",
      "23     2017-01-01      FDWAP                5  FLOOR TILES        T   \n",
      "24     2017-01-01      FDBA1                5  FLOOR TILES        M   \n",
      "25     2017-01-01      FDBA1                5  FLOOR TILES        T   \n",
      "26     2017-01-01      FDEMB                5  FLOOR TILES        T   \n",
      "27     2017-01-01      FDEMB                5  FLOOR TILES        M   \n",
      "28     2017-01-01      FDRAT                5  FLOOR TILES        T   \n",
      "29     2017-01-01      FDAMT                5  FLOOR TILES        A   \n",
      "...           ...        ...              ...          ...      ...   \n",
      "480175 2018-12-31      DELUN                2  FLOOR TILES        T   \n",
      "480176 2018-12-31      DELUN                3  FLOOR TILES        A   \n",
      "480177 2018-12-31      DELUN                3  FLOOR TILES        T   \n",
      "480178 2018-12-31      DELUN                3  FLOOR TILES        T   \n",
      "480179 2018-12-31      FDAMB                5  FLOOR TILES        Y   \n",
      "480180 2018-12-31      FDAMB                5  FLOOR TILES        A   \n",
      "480181 2018-12-31      FDAMB                5  FLOOR TILES        X   \n",
      "480182 2018-12-31      DBNUG                2  FLOOR TILES        A   \n",
      "480183 2018-12-31      FDJEL                5  FLOOR TILES        X   \n",
      "480184 2018-12-31      FDJEL                5  FLOOR TILES        X   \n",
      "480185 2018-12-31      FDAVS                5  FLOOR TILES        T   \n",
      "480186 2018-12-31      FDJAF                5  FLOOR TILES        A   \n",
      "480187 2018-12-31      FDKEG                5  FLOOR TILES        T   \n",
      "480188 2018-12-31      FDKEG                5  FLOOR TILES        X   \n",
      "480189 2018-12-31      FDWAT                5  FLOOR TILES        L   \n",
      "480190 2018-12-31      FDWAT                5  FLOOR TILES        Y   \n",
      "480191 2018-12-31      LWSR                 4  FLOOR TILES        X   \n",
      "480192 2018-12-31      LWSR                 4  FLOOR TILES        X   \n",
      "480193 2018-12-31      LWSR                 4  FLOOR TILES        Y   \n",
      "480194 2018-12-31      FDAVS                5  FLOOR TILES        T   \n",
      "480195 2018-12-31      FDAVS                5  FLOOR TILES        X   \n",
      "480196 2018-12-31      FDKAD                5  FLOOR TILES        Y   \n",
      "480197 2018-12-31      FDAMB                5  FLOOR TILES        A   \n",
      "480198 2018-12-31      FDAMB                5  FLOOR TILES        X   \n",
      "480199 2018-12-31      FDAMB                5  FLOOR TILES        X   \n",
      "480200 2018-12-31      FDAMB                5  FLOOR TILES        A   \n",
      "480201 2018-12-31      FDAMB                5  FLOOR TILES        T   \n",
      "480202 2018-12-31      FDJEL                5  FLOOR TILES        X   \n",
      "480203 2018-12-31      FDBA1                5  FLOOR TILES        T   \n",
      "480204 2018-12-31      FDBA1                5  FLOOR TILES        T   \n",
      "\n",
      "        DiscountPcnt  QTY  \n",
      "0                5.0  110  \n",
      "1                5.0   17  \n",
      "2                0.0    7  \n",
      "3                0.0    5  \n",
      "4                0.0    2  \n",
      "5               35.0    8  \n",
      "6                0.0   50  \n",
      "7                0.0   40  \n",
      "8                0.0   14  \n",
      "9                0.0   21  \n",
      "10               0.0    1  \n",
      "11               0.0    3  \n",
      "12               0.0   30  \n",
      "13               6.0  100  \n",
      "14               0.0    8  \n",
      "15               6.0  115  \n",
      "16               1.0  115  \n",
      "17               6.0   82  \n",
      "18               0.0  250  \n",
      "19               0.0   50  \n",
      "20               5.0  110  \n",
      "21               5.0   17  \n",
      "22               5.0   10  \n",
      "23               0.0   20  \n",
      "24               5.0  150  \n",
      "25               0.0   30  \n",
      "26               6.0   60  \n",
      "27               6.0  100  \n",
      "28               0.0   60  \n",
      "29              35.0    8  \n",
      "...              ...  ...  \n",
      "480175           0.0  161  \n",
      "480176           0.0  840  \n",
      "480177           0.0  528  \n",
      "480178           0.0  528  \n",
      "480179           0.0   50  \n",
      "480180           0.0   60  \n",
      "480181           0.0  150  \n",
      "480182           0.0   44  \n",
      "480183           1.0  165  \n",
      "480184           1.0  180  \n",
      "480185           0.0    6  \n",
      "480186           0.0   55  \n",
      "480187           0.0  140  \n",
      "480188           0.0   90  \n",
      "480189           1.0   50  \n",
      "480190           1.0   17  \n",
      "480191           0.0   40  \n",
      "480192           0.0   10  \n",
      "480193          67.5    1  \n",
      "480194           0.0  177  \n",
      "480195           0.0   47  \n",
      "480196           0.0   12  \n",
      "480197           0.0   16  \n",
      "480198           1.0  215  \n",
      "480199           0.0  200  \n",
      "480200           1.0   50  \n",
      "480201           1.0  595  \n",
      "480202           1.0  250  \n",
      "480203           1.0   92  \n",
      "480204           1.0  312  \n",
      "\n",
      "[480205 rows x 7 columns]\n"
     ]
    }
   ],
   "source": [
    "FT_data = pd.read_pickle(\"./FT.pkl\")  # Load the file\n",
    "print (FT_data)"
   ]
  },
  {
   "cell_type": "code",
   "execution_count": 3,
   "metadata": {},
   "outputs": [
    {
     "name": "stdout",
     "output_type": "stream",
     "text": [
      "        CDateTime SalesPoint  SalesChannelKey ItemSize  DiscountPcnt  QTY\n",
      "0      2017-01-01      FDBDU                5        Y           5.0  110\n",
      "1      2017-01-01      FDBDU                5        Y           5.0   17\n",
      "2      2017-01-01      FDBDU                5        U           0.0    7\n",
      "3      2017-01-01      FDBA1                5        T           0.0    5\n",
      "4      2017-01-01      FDGAL                5        Y           0.0    2\n",
      "5      2017-01-01      FDAMT                5        A          35.0    8\n",
      "6      2017-01-01      FDRAT                5        T           0.0   50\n",
      "7      2017-01-01      FDGAL                5        A           0.0   40\n",
      "8      2017-01-01      FDBDU                5        T           0.0   14\n",
      "9      2017-01-01      FDRAT                5        T           0.0   21\n",
      "10     2017-01-01      FDBAL                5        U           0.0    1\n",
      "11     2017-01-01      FDBAL                5        U           0.0    3\n",
      "12     2017-01-01      FDBA1                5        T           0.0   30\n",
      "13     2017-01-01      FDEMB                5        M           6.0  100\n",
      "14     2017-01-01      FDAMT                5        A           0.0    8\n",
      "15     2017-01-01      FDAMB                5        A           6.0  115\n",
      "16     2017-01-01      FDAMB                5        A           1.0  115\n",
      "17     2017-01-01      FDAMB                5        X           6.0   82\n",
      "18     2017-01-01      DBSAM                2        T           0.0  250\n",
      "19     2017-01-01      FDEMB                5        X           0.0   50\n",
      "20     2017-01-01      FDBDU                5        Y           5.0  110\n",
      "21     2017-01-01      FDBDU                5        Y           5.0   17\n",
      "22     2017-01-01      FDBDU                5        Y           5.0   10\n",
      "23     2017-01-01      FDWAP                5        T           0.0   20\n",
      "24     2017-01-01      FDBA1                5        M           5.0  150\n",
      "25     2017-01-01      FDBA1                5        T           0.0   30\n",
      "26     2017-01-01      FDEMB                5        T           6.0   60\n",
      "27     2017-01-01      FDEMB                5        M           6.0  100\n",
      "28     2017-01-01      FDRAT                5        T           0.0   60\n",
      "29     2017-01-01      FDAMT                5        A          35.0    8\n",
      "...           ...        ...              ...      ...           ...  ...\n",
      "480175 2018-12-31      DELUN                2        T           0.0  161\n",
      "480176 2018-12-31      DELUN                3        A           0.0  840\n",
      "480177 2018-12-31      DELUN                3        T           0.0  528\n",
      "480178 2018-12-31      DELUN                3        T           0.0  528\n",
      "480179 2018-12-31      FDAMB                5        Y           0.0   50\n",
      "480180 2018-12-31      FDAMB                5        A           0.0   60\n",
      "480181 2018-12-31      FDAMB                5        X           0.0  150\n",
      "480182 2018-12-31      DBNUG                2        A           0.0   44\n",
      "480183 2018-12-31      FDJEL                5        X           1.0  165\n",
      "480184 2018-12-31      FDJEL                5        X           1.0  180\n",
      "480185 2018-12-31      FDAVS                5        T           0.0    6\n",
      "480186 2018-12-31      FDJAF                5        A           0.0   55\n",
      "480187 2018-12-31      FDKEG                5        T           0.0  140\n",
      "480188 2018-12-31      FDKEG                5        X           0.0   90\n",
      "480189 2018-12-31      FDWAT                5        L           1.0   50\n",
      "480190 2018-12-31      FDWAT                5        Y           1.0   17\n",
      "480191 2018-12-31      LWSR                 4        X           0.0   40\n",
      "480192 2018-12-31      LWSR                 4        X           0.0   10\n",
      "480193 2018-12-31      LWSR                 4        Y          67.5    1\n",
      "480194 2018-12-31      FDAVS                5        T           0.0  177\n",
      "480195 2018-12-31      FDAVS                5        X           0.0   47\n",
      "480196 2018-12-31      FDKAD                5        Y           0.0   12\n",
      "480197 2018-12-31      FDAMB                5        A           0.0   16\n",
      "480198 2018-12-31      FDAMB                5        X           1.0  215\n",
      "480199 2018-12-31      FDAMB                5        X           0.0  200\n",
      "480200 2018-12-31      FDAMB                5        A           1.0   50\n",
      "480201 2018-12-31      FDAMB                5        T           1.0  595\n",
      "480202 2018-12-31      FDJEL                5        X           1.0  250\n",
      "480203 2018-12-31      FDBA1                5        T           1.0   92\n",
      "480204 2018-12-31      FDBA1                5        T           1.0  312\n",
      "\n",
      "[480205 rows x 6 columns]\n"
     ]
    }
   ],
   "source": [
    "del (FT_data['GroupCat'])  # Remove the unwanted column\n",
    "print (FT_data)"
   ]
  },
  {
   "cell_type": "code",
   "execution_count": 4,
   "metadata": {},
   "outputs": [],
   "source": [
    "FT_data = FT_data[(FT_data.SalesPoint != 'DELUN')]\n",
    "FT_data = FT_data[(FT_data.SalesPoint != 'LWSR ')]"
   ]
  },
  {
   "cell_type": "code",
   "execution_count": 5,
   "metadata": {},
   "outputs": [],
   "source": [
    "FT_data = FT_data[(FT_data.CDateTime != '2017-01-01')]"
   ]
  },
  {
   "cell_type": "code",
   "execution_count": 8,
   "metadata": {},
   "outputs": [],
   "source": [
    "FT_data = FT_data.reset_index(drop=True)"
   ]
  },
  {
   "cell_type": "code",
   "execution_count": 10,
   "metadata": {},
   "outputs": [],
   "source": [
    "del FT_data['index']"
   ]
  },
  {
   "cell_type": "code",
   "execution_count": 11,
   "metadata": {},
   "outputs": [
    {
     "name": "stdout",
     "output_type": "stream",
     "text": [
      "        CDateTime SalesPoint  SalesChannelKey ItemSize  DiscountPcnt   QTY\n",
      "0      2017-01-02      FDKOT                5        T           5.0   301\n",
      "1      2017-01-02      FDNIT                5        T           0.0     7\n",
      "2      2017-01-02      FDWAT                5        M           5.0    40\n",
      "3      2017-01-02      FDPER                5        T           5.0    60\n",
      "4      2017-01-02      FDBA1                5        X           0.0    10\n",
      "5      2017-01-02      DBKEG                2        T           0.0   492\n",
      "6      2017-01-02      FDNIT                5        Y           0.0    20\n",
      "7      2017-01-02      FDNIT                5        U           0.0     4\n",
      "8      2017-01-02      FDDAM                5        T           0.0     4\n",
      "9      2017-01-02      FDDAM                5        T           0.0     4\n",
      "10     2017-01-02      FDPER                5        T           0.0    32\n",
      "11     2017-01-02      CARAP                1        T          30.0    65\n",
      "12     2017-01-02      FDBDU                5        L           0.0     7\n",
      "13     2017-01-02      FDHOR                5        T           0.0    82\n",
      "14     2017-01-02      DBPIL                2        X           0.0   100\n",
      "15     2017-01-02      CAKAN                1        T           0.0   260\n",
      "16     2017-01-02      CAKAN                1        T           0.0   288\n",
      "17     2017-01-02      CAKAN                1        Y           0.0   210\n",
      "18     2017-01-02      FDMHI                5        T           5.0   212\n",
      "19     2017-01-02      FDCHW                5        T           0.0     4\n",
      "20     2017-01-02      CABLM                1        T           0.0   105\n",
      "21     2017-01-02      FDBDU                5        Y           0.0     2\n",
      "22     2017-01-02      FDBDU                5        T           0.0    25\n",
      "23     2017-01-02      FDWAT                5        M           5.0    40\n",
      "24     2017-01-02      FDBA1                5        T           0.0     5\n",
      "25     2017-01-02      DBKEG                2        T           0.0  1040\n",
      "26     2017-01-02      FDDAM                5        M           0.0     7\n",
      "27     2017-01-02      FDDAM                5        Y           0.0    27\n",
      "28     2017-01-02      FDMHI                5        X           0.0     5\n",
      "29     2017-01-02      FDGAM                5        X           0.0    32\n",
      "...           ...        ...              ...      ...           ...   ...\n",
      "384172 2018-12-31      JWSR                 7        T           0.0  2150\n",
      "384173 2018-12-31      CABLM                1        Y           0.0   200\n",
      "384174 2018-12-31      CABLM                1        A          30.0   510\n",
      "384175 2018-12-31      CABLM                1        Y           0.0   384\n",
      "384176 2018-12-31      FDKAD                5        T           0.0     7\n",
      "384177 2018-12-31      CABLM                1        Y           0.0    22\n",
      "384178 2018-12-31      CABLM                1        Y           0.0    13\n",
      "384179 2018-12-31      FDAMB                5        Y           0.0    50\n",
      "384180 2018-12-31      FDAMB                5        A           0.0    60\n",
      "384181 2018-12-31      FDAMB                5        X           0.0   150\n",
      "384182 2018-12-31      DBNUG                2        A           0.0    44\n",
      "384183 2018-12-31      FDJEL                5        X           1.0   165\n",
      "384184 2018-12-31      FDJEL                5        X           1.0   180\n",
      "384185 2018-12-31      FDAVS                5        T           0.0     6\n",
      "384186 2018-12-31      FDJAF                5        A           0.0    55\n",
      "384187 2018-12-31      FDKEG                5        T           0.0   140\n",
      "384188 2018-12-31      FDKEG                5        X           0.0    90\n",
      "384189 2018-12-31      FDWAT                5        L           1.0    50\n",
      "384190 2018-12-31      FDWAT                5        Y           1.0    17\n",
      "384191 2018-12-31      FDAVS                5        T           0.0   177\n",
      "384192 2018-12-31      FDAVS                5        X           0.0    47\n",
      "384193 2018-12-31      FDKAD                5        Y           0.0    12\n",
      "384194 2018-12-31      FDAMB                5        A           0.0    16\n",
      "384195 2018-12-31      FDAMB                5        X           1.0   215\n",
      "384196 2018-12-31      FDAMB                5        X           0.0   200\n",
      "384197 2018-12-31      FDAMB                5        A           1.0    50\n",
      "384198 2018-12-31      FDAMB                5        T           1.0   595\n",
      "384199 2018-12-31      FDJEL                5        X           1.0   250\n",
      "384200 2018-12-31      FDBA1                5        T           1.0    92\n",
      "384201 2018-12-31      FDBA1                5        T           1.0   312\n",
      "\n",
      "[384202 rows x 6 columns]\n"
     ]
    }
   ],
   "source": [
    "print (FT_data)"
   ]
  },
  {
   "cell_type": "code",
   "execution_count": 12,
   "metadata": {},
   "outputs": [
    {
     "name": "stdout",
     "output_type": "stream",
     "text": [
      "['A', 'C', 'G', 'H', 'J', 'L', 'M', 'N', 'P', 'Q', 'S', 'T', 'U', 'V', 'W', 'X', 'Y']\n"
     ]
    },
    {
     "data": {
      "text/plain": [
       "17"
      ]
     },
     "execution_count": 12,
     "metadata": {},
     "output_type": "execute_result"
    }
   ],
   "source": [
    "x=sorted(FT_data.ItemSize.unique())\n",
    "print (x)\n",
    "len(x)"
   ]
  },
  {
   "cell_type": "code",
   "execution_count": 13,
   "metadata": {},
   "outputs": [
    {
     "name": "stdout",
     "output_type": "stream",
     "text": [
      "[-1, 1, 2, 4, 5, 7]\n"
     ]
    },
    {
     "data": {
      "text/plain": [
       "6"
      ]
     },
     "execution_count": 13,
     "metadata": {},
     "output_type": "execute_result"
    }
   ],
   "source": [
    "y=sorted(FT_data.SalesChannelKey.unique())\n",
    "print (y)\n",
    "len(y)"
   ]
  },
  {
   "cell_type": "code",
   "execution_count": 14,
   "metadata": {},
   "outputs": [
    {
     "name": "stdout",
     "output_type": "stream",
     "text": [
      "87\n"
     ]
    }
   ],
   "source": [
    "floor_names = FT_data['SalesPoint'].unique().tolist()   # Salaepoints names\n",
    "print (len(floor_names))"
   ]
  },
  {
   "cell_type": "code",
   "execution_count": 17,
   "metadata": {},
   "outputs": [
    {
     "name": "stdout",
     "output_type": "stream",
     "text": [
      "['FDKOT', 'FDNIT', 'FDWAT', 'FDPER', 'FDBA1', 'DBKEG', 'FDDAM', 'CARAP', 'FDBDU', 'FDHOR', 'DBPIL', 'CAKAN', 'FDMHI', 'FDCHW', 'CABLM', 'FDGAM', 'FDKUR', 'FDGAP', 'FDGAL', 'CAMAT', 'FDPND', 'FDWEN', 'FDMAT', 'FDJEL', 'DBHAN', 'FDNEG', 'FDMTL', 'FDWAP', 'FDKDW', 'FDJAF', 'FDMON', 'FDMOT', 'FDALU', 'CADAM', 'DBTHI', 'FDWEL', 'DBMHI', 'CAPEL', 'FDMIN', 'DBMAT', 'JWSR ', 'DBKIR', 'FDWAR', 'DBNAW', 'FDAMB', 'FDAMP', 'FDMTU', 'FDKAD', 'CAGOG', 'DBALU', 'FDKAL', 'FDBAL', 'FDRAT', 'FDKEG', 'FDVAV', 'FDEMB', 'FDAMT', 'DBNEG', 'DBWEN', 'DBSAM', 'FDBA2', 'DBHOR', 'DBCOL', 'DBANU', 'DBPER', 'DBDIG', 'DBANG', 'DBDAM', 'DBKUR', 'DBNAR', 'DBMTU', 'DBJF1', 'DBGAL', 'DBRAP', 'DBJF2', 'FDBAD', 'FDKAN', 'DBBAN', 'DBCO2', 'CAMTG', 'FDHRN', 'CAEHE', 'FDAVS', 'DBNUG', 'FDKLT', 'DBCO3', 'DBVAU']\n"
     ]
    }
   ],
   "source": [
    "print (floor_names)"
   ]
  },
  {
   "cell_type": "code",
   "execution_count": 15,
   "metadata": {},
   "outputs": [
    {
     "name": "stdout",
     "output_type": "stream",
     "text": [
      "['CABLM', 'CADAM', 'CAEHE', 'CAGOG', 'CAKAN', 'CAMAT', 'CAMTG', 'CAPEL', 'CARAP', 'DBALU', 'DBANG', 'DBANU', 'DBBAN', 'DBCO2', 'DBCO3', 'DBCOL', 'DBDAM', 'DBDIG', 'DBGAL', 'DBHAN', 'DBHOR', 'DBJF1', 'DBJF2', 'DBKEG', 'DBKIR', 'DBKUR', 'DBMAT', 'DBMHI', 'DBMTU', 'DBNAR', 'DBNAW', 'DBNEG', 'DBNUG', 'DBPER', 'DBPIL', 'DBRAP', 'DBSAM', 'DBTHI', 'DBVAU', 'DBWEN', 'FDALU', 'FDAMB', 'FDAMP', 'FDAMT', 'FDAVS', 'FDBA1', 'FDBA2', 'FDBAD', 'FDBAL', 'FDBDU', 'FDCHW', 'FDDAM', 'FDEMB', 'FDGAL', 'FDGAM', 'FDGAP', 'FDHOR', 'FDHRN', 'FDJAF', 'FDJEL', 'FDKAD', 'FDKAL', 'FDKAN', 'FDKDW', 'FDKEG', 'FDKLT', 'FDKOT', 'FDKUR', 'FDMAT', 'FDMHI', 'FDMIN', 'FDMON', 'FDMOT', 'FDMTL', 'FDMTU', 'FDNEG', 'FDNIT', 'FDPER', 'FDPND', 'FDRAT', 'FDVAV', 'FDWAP', 'FDWAR', 'FDWAT', 'FDWEL', 'FDWEN', 'JWSR ']\n"
     ]
    }
   ],
   "source": [
    "floor_names = sorted(floor_names)   # Sort the names\n",
    "print (floor_names)"
   ]
  },
  {
   "cell_type": "code",
   "execution_count": 16,
   "metadata": {},
   "outputs": [
    {
     "name": "stdout",
     "output_type": "stream",
     "text": [
      "end\n"
     ]
    }
   ],
   "source": [
    "floor_datas = {}\n",
    "for i, g in FT_data.groupby('SalesPoint'):\n",
    "    floor_datas.update({'floor_' + str(i) : g.reset_index(drop=True)})  # Create dataframes for each salespoint inside a dictionary\n",
    "print ('end')"
   ]
  },
  {
   "cell_type": "code",
   "execution_count": 20,
   "metadata": {},
   "outputs": [
    {
     "name": "stdout",
     "output_type": "stream",
     "text": [
      "dict_keys(['floor_CABLM', 'floor_CADAM', 'floor_CAEHE', 'floor_CAGOG', 'floor_CAKAN', 'floor_CAMAT', 'floor_CAMTG', 'floor_CAPEL', 'floor_CARAP', 'floor_DBALU', 'floor_DBANG', 'floor_DBANU', 'floor_DBBAN', 'floor_DBCO2', 'floor_DBCO3', 'floor_DBCOL', 'floor_DBDAM', 'floor_DBDIG', 'floor_DBGAL', 'floor_DBHAN', 'floor_DBHOR', 'floor_DBJF1', 'floor_DBJF2', 'floor_DBKEG', 'floor_DBKIR', 'floor_DBKUR', 'floor_DBMAT', 'floor_DBMHI', 'floor_DBMTU', 'floor_DBNAR', 'floor_DBNAW', 'floor_DBNEG', 'floor_DBNUG', 'floor_DBPER', 'floor_DBPIL', 'floor_DBRAP', 'floor_DBSAM', 'floor_DBTHI', 'floor_DBVAU', 'floor_DBWEN', 'floor_FDALU', 'floor_FDAMB', 'floor_FDAMP', 'floor_FDAMT', 'floor_FDAVS', 'floor_FDBA1', 'floor_FDBA2', 'floor_FDBAD', 'floor_FDBAL', 'floor_FDBDU', 'floor_FDCHW', 'floor_FDDAM', 'floor_FDEMB', 'floor_FDGAL', 'floor_FDGAM', 'floor_FDGAP', 'floor_FDHOR', 'floor_FDHRN', 'floor_FDJAF', 'floor_FDJEL', 'floor_FDKAD', 'floor_FDKAL', 'floor_FDKAN', 'floor_FDKDW', 'floor_FDKEG', 'floor_FDKLT', 'floor_FDKOT', 'floor_FDKUR', 'floor_FDMAT', 'floor_FDMHI', 'floor_FDMIN', 'floor_FDMON', 'floor_FDMOT', 'floor_FDMTL', 'floor_FDMTU', 'floor_FDNEG', 'floor_FDNIT', 'floor_FDPER', 'floor_FDPND', 'floor_FDRAT', 'floor_FDVAV', 'floor_FDWAP', 'floor_FDWAR', 'floor_FDWAT', 'floor_FDWEL', 'floor_FDWEN', 'floor_JWSR '])\n"
     ]
    }
   ],
   "source": [
    "print (floor_datas.keys())"
   ]
  },
  {
   "cell_type": "code",
   "execution_count": 17,
   "metadata": {},
   "outputs": [
    {
     "name": "stdout",
     "output_type": "stream",
     "text": [
      "87\n"
     ]
    }
   ],
   "source": [
    "print (len(floor_datas.keys()))"
   ]
  },
  {
   "cell_type": "code",
   "execution_count": 44,
   "metadata": {},
   "outputs": [
    {
     "data": {
      "image/png": "[encoded data removed]",
      "text/plain": [
       "<Figure size 720x504 with 1 Axes>"
      ]
     },
     "metadata": {
      "needs_background": "light"
     },
     "output_type": "display_data"
    }
   ],
   "source": [
    "from sklearn.ensemble import RandomForestRegressor\n",
    "from matplotlib.pylab import rcParams\n",
    "rcParams['figure.figsize'] = 10, 7\n",
    "#plt.figure(figsize = (12, 9))\n",
    "import warnings\n",
    "warnings.filterwarnings('ignore')\n",
    "import seaborn as sns\n",
    "import numpy as np\n",
    "import datetime\n",
    "\n",
    "floorFeature_matrix = pd.DataFrame()\n",
    "floorLabel_matrix = pd.DataFrame()\n",
    "floor_sp_num = 0\n",
    "year_dic = {'2017':0, '2018':1, '2019':2}\n",
    "rem_list = list()\n",
    "add_list = list()\n",
    "\n",
    "arr = list()\n",
    "floor_l = ['A', 'C', 'G', 'H', 'J', 'L', 'M', 'N', 'P', 'Q', 'S', 'T', 'U', 'V', 'W', 'X', 'Y']\n",
    "\n",
    "for sp in floor_datas.keys():\n",
    "    \n",
    "    ######### Total sales #########\n",
    "    \n",
    "    sales = floor_datas[sp].filter(['CDateTime','QTY'], axis=1)   # extract 2 columns\n",
    "    sales_aggre = sales.groupby('CDateTime').agg({'QTY':'sum'})  # group per day\n",
    "\n",
    "    t_index = pd.DatetimeIndex(start='2017-01-02', end='2018-12-31', freq='1D')\n",
    "    sales_aggre = sales_aggre.reindex(t_index).fillna(0)\n",
    "\n",
    "    sales_aggre = sales_aggre.QTY.resample('W').sum()       # convert daily to weekly\n",
    "    sales_aggre = pd.DataFrame(sales_aggre)\n",
    "    sales_aggre.plot()\n",
    "    break\n",
    "\n",
    "    nonzero_weeks = (sales_aggre['QTY'] != 0).sum()  # Check whether salespoint has data of atleast 24 weeks(6 months). If not, remove that salespoint\n",
    "    if (nonzero_weeks < 24):\n",
    "        rem_list.append(sp)\n",
    "        continue\n",
    "    add_list.append('Is'+sp[6:])\n",
    "    \n",
    "    ################################\n",
    "    \n",
    "    ###### Weeks to New year ######\n",
    "    w1 = sales_aggre.index.week\n",
    "    w2 = list()\n",
    "    yearNow=2017\n",
    "    weeks_per_year=52\n",
    "    newyear_week = datetime.date(2017, 4, 14).isocalendar()[1]  # Find the new year week\n",
    "    con = True\n",
    "    \n",
    "    for i in range(len(w1)):\n",
    "        if (con):\n",
    "            x = newyear_week - w1[i]\n",
    "        else:\n",
    "            x = newyear_week + (weeks_per_year-w1[i])\n",
    "            if (w1[i]==weeks_per_year):\n",
    "                con=True\n",
    "        if (x==0):\n",
    "            weeks_per_year = datetime.date(yearNow, 12, 28).isocalendar()[1]\n",
    "            newyear_week = datetime.date(yearNow+1, 4, 14).isocalendar()[1]\n",
    "            yearNow += 1\n",
    "            con=False\n",
    "        w2.append(x)\n",
    "    ################################\n",
    "    \n",
    "    ###### Weeks to Christmas ######\n",
    "    w3 = list()\n",
    "    yearNow=2017\n",
    "    christmas_week = datetime.date(2017, 12, 25).isocalendar()[1]  # Find the Christmas week\n",
    "    con = True\n",
    "    \n",
    "    for i in range(len(w1)):\n",
    "        if (con==True):\n",
    "            y = christmas_week - w1[i]\n",
    "        else:\n",
    "            y = christmas_week\n",
    "            con=True\n",
    "        if (y==0):\n",
    "            if (w1[i]<datetime.date(yearNow+1, 1, 1).isocalendar()[1]):\n",
    "                con=False\n",
    "            christmas_week = datetime.date(yearNow+1, 12, 25).isocalendar()[1]\n",
    "            yearNow += 1\n",
    "        w3.append(y)\n",
    "    ################################\n",
    "    \n",
    "    ################### Feature matrix & Label matrix ##################\n",
    "    \n",
    "    ################### Year, Month, Week ####################\n",
    "    \n",
    "    floor_features = pd.DataFrame(index=sales_aggre.index)     # wall_features dataframe stores all the features for one salespoint\n",
    "        \n",
    "    floor_features['Year'] = pd.Series(sales_aggre.index.year, index=floor_features.index)     # Year\n",
    "    labelencoder = LabelEncoder()\n",
    "    floor_features.iloc[:, 0] = labelencoder.fit_transform(floor_features.iloc[:, 0])  # Label encoded the year\n",
    "     \n",
    "    df_month = pd.DataFrame(sales_aggre.index.month)                # Month\n",
    "    onehotencoder = OneHotEncoder(categorical_features = [0])\n",
    "    array_month = onehotencoder.fit_transform(df_month).toarray()  # One hot encoded the 12 months\n",
    "    df_month = pd.DataFrame(array_month, columns=['IsJan','IsFeb','IsMar','IsApr','IsMay','IsJun','IsJul','IsAug','IsSep','IsOct','IsNov','IsDec']).astype('int')\n",
    "    df_month.index = floor_features.index\n",
    "    floor_features = pd.concat([floor_features, df_month], axis=1)\n",
    "        \n",
    "    df_week = pd.DataFrame(sales_aggre.index.week)                       # Week\n",
    "    onehotencoder1 = OneHotEncoder(categorical_features = [0])\n",
    "    array_week = onehotencoder.fit_transform(df_week).toarray()  # One hot encoded the 53 weeks\n",
    "    df_week = pd.DataFrame(array_week, columns=[('Isweek '+str(i)) for i in range(1,53)]).astype('int')\n",
    "    df_week.index = floor_features.index\n",
    "    floor_features = pd.concat([floor_features, df_week], axis=1)\n",
    "    \n",
    "    ##########################################################\n",
    "    \n",
    "    floor_features['WeeksToNewyear'] = w2    \n",
    "    floor_features['WeeksToChristmas'] = w3\n",
    "    \n",
    "    ################ Channel behavior & QTYs ################\n",
    "    \n",
    "    subFrame = floor_datas[sp].filter(['CDateTime','SalesChannelKey','ItemSize','QTY'], axis=1)    # extract 4 columns\n",
    "    weeks = [g for n, g in subFrame.set_index('CDateTime').groupby(pd.Grouper(freq='W'))]    # create weekly dataframes\n",
    "    start_year = str((subFrame['CDateTime'].dt.year).iloc[0])\n",
    "    start_week_of_year = (subFrame['CDateTime'].dt.week).iloc[0]\n",
    "    start_week = 52 * year_dic[start_year] + start_week_of_year  # sales started day of salespoint\n",
    "    print (floor_sp_num+1, sp, start_week)\n",
    "        \n",
    "    #counts = [[weeks[i]['SalesChannelKey'].value_counts(normalize=True)] for i in range(len(weeks))]     # customer cat. percents for each week\n",
    "    \n",
    "    floor_chan = np.zeros((sales_aggre.shape[0], 11))       # matrix for store channel percentages for each week (one salespoint)\n",
    "    \n",
    "    floor_keys = ['FloorTiles A','FloorTiles C','FloorTiles G','FloorTiles H','FloorTiles J','FloorTiles L','FloorTiles M',\n",
    "                'FloorTiles N','FloorTiles P','FloorTiles Q','FloorTiles S','FloorTiles T','FloorTiles U','FloorTiles V',\n",
    "                'FloorTiles W','FloorTiles X','FloorTiles Y']\n",
    "    \n",
    "    floor_dic = dict.fromkeys(floor_keys, None)      # dictionary for store QTY of group categories(labels) for each week (one salespoint)\n",
    "    for key in floor_keys:\n",
    "        floor_dic[key] = [0]*len(sales_aggre)    \n",
    "        \n",
    "    ############# Channel behavior ##############\n",
    "    \n",
    "    for week in range(len(weeks)):\n",
    "        \n",
    "        counts = [weeks[week]['SalesChannelKey'].value_counts(normalize=True)]  # Give channel percentages for week \n",
    "        countPcnt = counts[0].tolist()  # Percentage values\n",
    "        cusCat = counts[0].index   # Channel names\n",
    "        \n",
    "        for i in range(len(cusCat)):\n",
    "            floor_chan[start_week-1][int(cusCat[i])+1] = countPcnt[i]      # add percentages to a matrix\n",
    "            \n",
    "    ##############################################\n",
    "            \n",
    "    ###### QTY for group categories(labels) ######\n",
    "        \n",
    "        floor_table = pd.pivot_table(weeks[week], values='QTY', index=['ItemSize'], aggfunc=sum)  # Give total QTY for each wall tile sizes(for week)\n",
    "\n",
    "        for floor in floor_table.index:\n",
    "            floor_dic['FloorTiles '+floor.upper()][start_week-1] = floor_dic['FloorTiles '+floor.upper()][start_week-1] + floor_table.xs((floor))[0] # Store total QTYs in a dictioanary\n",
    "        \n",
    "        start_week += 1\n",
    "    \n",
    "    floor_labels = pd.DataFrame.from_dict(floor_dic)  # outputs dataframe for salespoint\n",
    "    '''\n",
    "    ############\n",
    "    dfstd=pd.DataFrame(floor_labels.std())\n",
    "    for i in range(17):\n",
    "        arr.append(dfstd.values.tolist()[i][0])\n",
    "    \n",
    "    plt.plot(floor_l, arr)\n",
    "    plt.title('Salespoint '+sp[6:])\n",
    "    plt.xlabel('Wall tile type')\n",
    "    plt.ylabel('Standard deviation')\n",
    "    plt.show()\n",
    "    arr = list()\n",
    "    ############\n",
    "    '''\n",
    "    floorLabel_matrix = pd.concat([floorLabel_matrix, floor_labels])     # matrix for store labels of all salespoints\n",
    "    \n",
    "    ##############################################\n",
    "    \n",
    "    Sales_channels = ['Other','Other1','Consignment Agent','Distributors','Direct Dealers/Colombo Dealers','Direct Sales','Franchise Dealers',\n",
    "                      'Lanka Tiles Plus','Projects','Royal Sales','Regional Sales']\n",
    "    \n",
    "    for i in range(11):\n",
    "        floor_features[Sales_channels[i]] = floor_chan[:, i]  # Add channel percentage features\n",
    "        \n",
    "    del floor_features[Sales_channels[1]]  # These deleted channels haven't data\n",
    "    del floor_features[Sales_channels[4]]\n",
    "    del floor_features[Sales_channels[7]]\n",
    "    del floor_features[Sales_channels[9]]\n",
    "    del floor_features[Sales_channels[10]]\n",
    "    \n",
    "    ########################################################\n",
    "    \n",
    "    ################### Invoice discount ###################\n",
    "    \n",
    "    floor_invDiscount = floor_datas[sp].filter(['CDateTime','DiscountPcnt'], axis=1)   # extract date and invoice discount columns\n",
    "    floor_invDiscount_aggre = floor_invDiscount.groupby('CDateTime').agg({'DiscountPcnt':'mean'})  # Group per day\n",
    "    \n",
    "    floor_invDiscount_aggre = floor_invDiscount_aggre.reindex(t_index).fillna(0)\n",
    "    floor_invDiscount_aggre = floor_invDiscount_aggre.DiscountPcnt.resample('W').mean()       # convert daily to weekly\n",
    "    \n",
    "    floor_features['Invoice Discount'] = floor_invDiscount_aggre     # invoice discount\n",
    "    \n",
    "    ########################################################\n",
    "\n",
    "    floor_sales_p = [floor_sp_num] * len(sales_aggre)\n",
    "    floor_features['Salespoint'] = floor_sales_p      # Add salespoint name as a feature until doing one hot encoding for salespoint names\n",
    "    \n",
    "    floor_features['QTY_sum'] = sales_aggre['QTY']  # Total sales for the week\n",
    "\n",
    "    floorFeature_matrix = pd.concat([floorFeature_matrix, floor_features])    # matrix for store features of all salespoints\n",
    "    \n",
    "    floor_sp_num += 1\n",
    "    \n",
    "#del (wallFeature_matrix['Isweek 53'])"
   ]
  },
  {
   "cell_type": "code",
   "execution_count": 20,
   "metadata": {},
   "outputs": [
    {
     "name": "stdout",
     "output_type": "stream",
     "text": [
      "79\n"
     ]
    }
   ],
   "source": [
    "print (len(add_list))"
   ]
  },
  {
   "cell_type": "code",
   "execution_count": 88,
   "metadata": {},
   "outputs": [
    {
     "name": "stdout",
     "output_type": "stream",
     "text": [
      "['CABLM', 'CADAM', 'CAEHE', 'CAGOG', 'CAKAN', 'CAMAT', 'CAMTG', 'CAPEL', 'DBALU', 'DBANG', 'DBANU', 'DBBAN', 'DBCO2', 'DBCOL', 'DBDAM', 'DBDIG', 'DBGAL', 'DBHAN', 'DBHOR', 'DBJF1', 'DBJF2', 'DBKEG', 'DBKIR', 'DBKUR', 'DBMAT', 'DBMHI', 'DBMTU', 'DBNAR', 'DBNAW', 'DBNEG', 'DBPER', 'DBPIL', 'DBRAP', 'DBSAM', 'DBTHI', 'DBWEN', 'FDALU', 'FDAMB', 'FDAMP', 'FDAMT', 'FDAVS', 'FDBA1', 'FDBAL', 'FDBDU', 'FDCHW', 'FDDAM', 'FDEMB', 'FDGAL', 'FDGAM', 'FDGAP', 'FDHRN', 'FDJAF', 'FDJEL', 'FDKAD', 'FDKAL', 'FDKAN', 'FDKDW', 'FDKEG', 'FDKOT', 'FDKUR', 'FDMAT', 'FDMHI', 'FDMIN', 'FDMON', 'FDMOT', 'FDMTL', 'FDMTU', 'FDNEG', 'FDNIT', 'FDPER', 'FDPND', 'FDRAT', 'FDVAV', 'FDWAP', 'FDWAR', 'FDWAT', 'FDWEL', 'FDWEN', 'JWSR ']\n"
     ]
    }
   ],
   "source": [
    "print ([x[2:] for x in add_list])"
   ]
  },
  {
   "cell_type": "code",
   "execution_count": 21,
   "metadata": {},
   "outputs": [],
   "source": [
    "############### Salespoint columns ###############\n",
    "\n",
    "floordf_sp = pd.DataFrame(floorFeature_matrix['Salespoint'].values)\n",
    "onehotencoder2 = OneHotEncoder(categorical_features = [0])\n",
    "floorarray_sp = onehotencoder2.fit_transform(floordf_sp).toarray()  # One hot encoded the salespoint column\n",
    "floordf_sp = pd.DataFrame(floorarray_sp, columns=add_list).astype('int')\n",
    "floordf_sp.index = floorFeature_matrix.index\n",
    "floorFeature_matrix = pd.concat([floorFeature_matrix, floordf_sp], axis=1)\n",
    "del floorFeature_matrix['Salespoint']\n",
    "\n",
    "##################################################\n",
    "\n",
    "floorLabel_matrix.index = floorFeature_matrix.index\n",
    "#print (floorFeature_matrix)\n",
    "#print (floorLabel_matrix)\n",
    "#print (label_matrix.loc[:, 'ACCESSORIES':'TIMBER - PARQUE'])\n",
    "#print (label_matrix.loc[:, 'FloorTiles A':'FloorTiles Y'])\n",
    "#print (label_matrix.loc[:, 'WallTiles A':'WallTiles Y'])"
   ]
  },
  {
   "cell_type": "code",
   "execution_count": 40,
   "metadata": {},
   "outputs": [],
   "source": [
    "floor_df_old = pd.concat([floorFeature_matrix, floorLabel_matrix], axis=1)\n",
    "floor_df0 = floor_df_old[floor_df_old.QTY_sum != 0]  # Remove the data points which have 0 sales for the week\n",
    "del floor_df0['QTY_sum']\n",
    "floor_df0 = floor_df0.reset_index(drop=True)\n",
    "floor_df = floor_df0.sample(frac=1).reset_index(drop=True)     # shuffled\n",
    "#print (floor_df)"
   ]
  },
  {
   "cell_type": "code",
   "execution_count": 30,
   "metadata": {},
   "outputs": [
    {
     "name": "stdout",
     "output_type": "stream",
     "text": [
      "4.537416042359692\n"
     ]
    }
   ],
   "source": [
    "print (floor_df['Invoice Discount'].mean())"
   ]
  },
  {
   "cell_type": "code",
   "execution_count": 31,
   "metadata": {},
   "outputs": [
    {
     "name": "stdout",
     "output_type": "stream",
     "text": [
      "[0.9211626006852006, 731.9542879677836, 2556.0788373993146, 52.01069484024588, 4220.421067729727, 39.613949462243035]\n",
      "1.0\n",
      "[0.00012118965934550726, 0.09629710406101613, 0.3362819151952789, 0.006842612135277712, 0.5552455029245793, 0.005211676024502439]\n"
     ]
    },
    {
     "data": {
      "image/png": "[encoded data removed]",
      "text/plain": [
       "<Figure size 936x432 with 1 Axes>"
      ]
     },
     "metadata": {
      "needs_background": "light"
     },
     "output_type": "display_data"
    },
    {
     "data": {
      "text/plain": [
       "Text(0, 0.5, 'Distribution')"
      ]
     },
     "execution_count": 31,
     "metadata": {},
     "output_type": "execute_result"
    },
    {
     "data": {
      "image/png": "[encoded data removed]",
      "text/plain": [
       "<Figure size 936x432 with 1 Axes>"
      ]
     },
     "metadata": {
      "needs_background": "light"
     },
     "output_type": "display_data"
    }
   ],
   "source": [
    "########## Channel distribution ##########\n",
    "from matplotlib.pylab import rcParams\n",
    "rcParams['figure.figsize'] = 13, 6\n",
    "\n",
    "sales_channels = ['Other','Consignment Agent','Distributors','Direct Sales','Franchise Dealers','Projects']\n",
    "\n",
    "total = list()\n",
    "for i in sales_channels:\n",
    "    total.append(floorFeature_matrix[i].sum())\n",
    "    \n",
    "print (total)\n",
    "\n",
    "distribution = [x/sum(total) for x in total]\n",
    "print (sum(distribution))\n",
    "print (distribution)\n",
    "plt.bar(sales_channels, distribution)\n",
    "plt.xlabel('Channels')\n",
    "plt.ylabel('Distribution')\n",
    "\n",
    "plt.bar(sales_channels, total)\n",
    "plt.show()\n",
    "\n",
    "plt.bar(sales_channels, distribution)\n",
    "plt.xlabel('Channels')\n",
    "plt.ylabel('Distribution')\n",
    "##########################################"
   ]
  },
  {
   "cell_type": "code",
   "execution_count": 1,
   "metadata": {},
   "outputs": [
    {
     "ename": "NameError",
     "evalue": "name 'rcParams' is not defined",
     "output_type": "error",
     "traceback": [
      "\u001b[1;31m---------------------------------------------------------------------------\u001b[0m",
      "\u001b[1;31mNameError\u001b[0m                                 Traceback (most recent call last)",
      "\u001b[1;32m<ipython-input-1-e38a03ba832f>\u001b[0m in \u001b[0;36m<module>\u001b[1;34m\u001b[0m\n\u001b[0;32m      1\u001b[0m \u001b[1;31m######### Histogram for invoice discount #########\u001b[0m\u001b[1;33m\u001b[0m\u001b[1;33m\u001b[0m\u001b[1;33m\u001b[0m\u001b[0m\n\u001b[1;32m----> 2\u001b[1;33m \u001b[0mrcParams\u001b[0m\u001b[1;33m[\u001b[0m\u001b[1;34m'figure.figsize'\u001b[0m\u001b[1;33m]\u001b[0m \u001b[1;33m=\u001b[0m \u001b[1;36m15\u001b[0m\u001b[1;33m,\u001b[0m \u001b[1;36m8\u001b[0m\u001b[1;33m\u001b[0m\u001b[1;33m\u001b[0m\u001b[0m\n\u001b[0m\u001b[0;32m      3\u001b[0m \u001b[1;33m\u001b[0m\u001b[0m\n\u001b[0;32m      4\u001b[0m \u001b[0mdi\u001b[0m\u001b[1;33m=\u001b[0m\u001b[0mpd\u001b[0m\u001b[1;33m.\u001b[0m\u001b[0mDataFrame\u001b[0m\u001b[1;33m(\u001b[0m\u001b[1;33m)\u001b[0m\u001b[1;33m\u001b[0m\u001b[1;33m\u001b[0m\u001b[0m\n\u001b[0;32m      5\u001b[0m \u001b[0mdi\u001b[0m\u001b[1;33m[\u001b[0m\u001b[1;34m'Discount'\u001b[0m\u001b[1;33m]\u001b[0m \u001b[1;33m=\u001b[0m \u001b[0mfloor_df\u001b[0m\u001b[1;33m[\u001b[0m\u001b[1;34m'Invoice Discount'\u001b[0m\u001b[1;33m]\u001b[0m\u001b[1;33m\u001b[0m\u001b[1;33m\u001b[0m\u001b[0m\n",
      "\u001b[1;31mNameError\u001b[0m: name 'rcParams' is not defined"
     ]
    }
   ],
   "source": [
    "######### Histogram for invoice discount #########\n",
    "rcParams['figure.figsize'] = 15, 8\n",
    "\n",
    "di=pd.DataFrame()\n",
    "di['Discount'] = floor_df['Invoice Discount']\n",
    "y = di[di.Discount != 0]\n",
    "x = y['Discount']\n",
    "plt.hist(x, range=[0,40], bins=40) \n",
    "#plt.title(channel) \n",
    "plt.xlabel('Invoice Discount') \n",
    "plt.ylabel(\"Count\")\n",
    "plt.show()\n",
    "###################################################   "
   ]
  },
  {
   "cell_type": "code",
   "execution_count": 24,
   "metadata": {},
   "outputs": [
    {
     "name": "stdout",
     "output_type": "stream",
     "text": [
      "154\n",
      "17\n"
     ]
    }
   ],
   "source": [
    "print (len(floorFeature_matrix.columns))\n",
    "print (len(floorLabel_matrix.columns))"
   ]
  },
  {
   "cell_type": "code",
   "execution_count": 41,
   "metadata": {},
   "outputs": [],
   "source": [
    "from sklearn.model_selection import train_test_split \n",
    "\n",
    "array = floor_df.values\n",
    "X = array[:,0:153]\n",
    "y = array[:,153:]\n",
    "\n",
    "X_train, X_val, y_train, y_val = train_test_split(X, y, test_size=0.1, random_state=0)        "
   ]
  },
  {
   "cell_type": "code",
   "execution_count": 38,
   "metadata": {},
   "outputs": [
    {
     "name": "stdout",
     "output_type": "stream",
     "text": [
      "(7601, 153)\n"
     ]
    }
   ],
   "source": [
    "print (X.shape)"
   ]
  },
  {
   "cell_type": "code",
   "execution_count": 58,
   "metadata": {},
   "outputs": [
    {
     "name": "stdout",
     "output_type": "stream",
     "text": [
      "Root Mean Squared Error: 493.99332061368995\n",
      "Root Mean Squared Error: 941.5048817787448\n",
      "[493.99332061368995]\n",
      "[941.5048817787448]\n",
      "\n",
      "\n"
     ]
    },
    {
     "data": {
      "text/plain": [
       "\"\\ndf_RF = pd.DataFrame({'No of trees':num_of_trees, 'RMSE_train':rmse_train, 'RMSE_val':rmse_val})\\ndf_RF = df_RF.set_index('No of trees')\\nplt.plot(df_RF['RMSE_train'], label='RMSE_train')\\nplt.plot(df_RF['RMSE_val'], color='red', label='RMSE_val')\\nplt.title('RMSE')\\nplt.xlabel('No. of trees')\\nplt.ylabel('RMSE')\\nplt.legend()\\nplt.show()\\n\""
      ]
     },
     "execution_count": 58,
     "metadata": {},
     "output_type": "execute_result"
    }
   ],
   "source": [
    "################# Random Forest #################\n",
    "\n",
    "from sklearn.ensemble import RandomForestRegressor\n",
    "from sklearn import metrics\n",
    "from matplotlib.pylab import rcParams\n",
    "rcParams['figure.figsize'] = 14, 8\n",
    "\n",
    "rmse_train = list()\n",
    "rmse_val = list()\n",
    "#num_of_trees = [10, 20, 50, 75, 100, 150, 200, 250, 300, 400, 500, 750]\n",
    "#max_features = ['auto', 'sqrt'] \n",
    "#max_depth = [int(x) for x in np.linspace(10, 110, num = 11)]         # Maximum number of levels in tree   \n",
    "#max_depth.append(None)\n",
    "#max_depth = [10,20,30,40,50,None]\n",
    "#min_samples_split = [2, 3, 4, 5, 10]\n",
    "#min_samples_leaf = [1, 2, 4] \n",
    "#bootstrap = [True, False]\n",
    "\n",
    "#for x in max_features:\n",
    "regressor = RandomForestRegressor(n_estimators=75, max_depth=30)\n",
    "regressor.fit(X_train, y_train)\n",
    "\n",
    "y_pred_train = regressor.predict(X_train)\n",
    "y_pred_val = regressor.predict(X_val)\n",
    "\n",
    "#print ('max_features: '+str(x))\n",
    "print('Root Mean Squared Error:', np.sqrt(metrics.mean_squared_error(y_train, y_pred_train)))\n",
    "rmse_train.append(np.sqrt(metrics.mean_squared_error(y_train, y_pred_train)))\n",
    "\n",
    "print('Root Mean Squared Error:', np.sqrt(metrics.mean_squared_error(y_val, y_pred_val)))\n",
    "rmse_val.append(np.sqrt(metrics.mean_squared_error(y_val, y_pred_val)))\n",
    "print (rmse_train)\n",
    "print (rmse_val)\n",
    "print ('\\n')\n",
    "\n",
    "'''\n",
    "dic_train = {'Actual':y_train[1000:1101,3], 'Predicted':y_pred_train[1000:1101,3]}\n",
    "dic_val = {'Actual':y_val[1000:1101,3], 'Predicted':y_pred_val[1000:1101,3]}\n",
    "\n",
    "df_train = pd.DataFrame(dic_train)\n",
    "df_val = pd.DataFrame(dic_val)\n",
    "\n",
    "plt.plot(df_train['Actual'], label='Actual')\n",
    "plt.plot(df_train['Predicted'], color='red', label='Predicted')\n",
    "plt.title('Training Set')\n",
    "plt.xlabel('data points')\n",
    "plt.ylabel('Actual and Predicted')\n",
    "plt.legend()\n",
    "plt.show()\n",
    "\n",
    "plt.plot(df_val['Actual'], label='Actual')\n",
    "plt.plot(df_val['Predicted'], color='red', label='Predicted')\n",
    "plt.title('Validation Set')\n",
    "plt.xlabel('data points')\n",
    "plt.ylabel('Actual and Predicted')\n",
    "plt.legend()\n",
    "plt.show()\n",
    "'''\n",
    "'''\n",
    "df_RF = pd.DataFrame({'No of trees':num_of_trees, 'RMSE_train':rmse_train, 'RMSE_val':rmse_val})\n",
    "df_RF = df_RF.set_index('No of trees')\n",
    "plt.plot(df_RF['RMSE_train'], label='RMSE_train')\n",
    "plt.plot(df_RF['RMSE_val'], color='red', label='RMSE_val')\n",
    "plt.title('RMSE')\n",
    "plt.xlabel('No. of trees')\n",
    "plt.ylabel('RMSE')\n",
    "plt.legend()\n",
    "plt.show()\n",
    "'''\n",
    "#################################################"
   ]
  },
  {
   "cell_type": "code",
   "execution_count": 43,
   "metadata": {},
   "outputs": [
    {
     "name": "stdout",
     "output_type": "stream",
     "text": [
      "Training set RMSE: 578.3954482772778\n",
      "Validation set RMSE: 429.1325947323155\n"
     ]
    },
    {
     "data": {
      "image/png": "[encoded data removed]",
      "text/plain": [
       "<Figure size 1008x576 with 1 Axes>"
      ]
     },
     "metadata": {
      "needs_background": "light"
     },
     "output_type": "display_data"
    }
   ],
   "source": [
    "######## Save the selected model as a pickle file ########\n",
    "from sklearn.ensemble import RandomForestRegressor\n",
    "from sklearn import metrics\n",
    "from matplotlib.pylab import rcParams\n",
    "rcParams['figure.figsize'] = 14, 8\n",
    "from sklearn.externals import joblib \n",
    "  \n",
    "#regressor = RandomForestRegressor(n_estimators=75, max_depth=30)\n",
    "#regressor.fit(X_train, y_train)\n",
    "    \n",
    "# Save the model as a pickle in a file \n",
    "#joblib.dump(regressor, 'C:/Users/ChamithM/Desktop/Bestmodels/Floortiles_RFmodel_2years.pkl')  \n",
    "  \n",
    "# Load the model from the file \n",
    "RandomForest = joblib.load('C:/Users/ChamithM/Desktop/Bestmodels/Floortiles_RFmodel_2years.pkl')\n",
    "  \n",
    "# Use the loaded model to make predictions \n",
    "y_pred_train = RandomForest.predict(X_train)\n",
    "y_pred_val = RandomForest.predict(X_val)\n",
    "\n",
    "print('Training set RMSE:', np.sqrt(metrics.mean_squared_error(y_train, y_pred_train)))\n",
    "print('Validation set RMSE:', np.sqrt(metrics.mean_squared_error(y_val, y_pred_val)))\n",
    "\n",
    "#dic_train = {'Actual':y_train[1000:1101,0], 'Predicted':y_pred_train[1000:1101,0]}\n",
    "dic_val = {'Actual':y_val[400:501,0], 'Predicted':y_pred_val[400:501,0]}\n",
    "\n",
    "#df_train = pd.DataFrame(dic_train)\n",
    "df_val = pd.DataFrame(dic_val)\n",
    "\n",
    "df_val = df_val.drop([0])\n",
    "#df_val = df_val.drop([95])\n",
    "\n",
    "plt.plot(df_val['Actual'], label='Actual')\n",
    "plt.plot(df_val['Predicted'], color='red', label='Predicted')\n",
    "plt.title('Validation Set')\n",
    "plt.xlabel('data points')\n",
    "plt.ylabel('Actual and Predicted')\n",
    "plt.legend()\n",
    "plt.show()\n",
    "##########################################################"
   ]
  },
  {
   "cell_type": "code",
   "execution_count": 41,
   "metadata": {},
   "outputs": [
    {
     "name": "stdout",
     "output_type": "stream",
     "text": [
      "num_of_trees: 10\n",
      "Root Mean Squared Error: 1157.7654160824588\n",
      "Root Mean Squared Error: 1249.1826022893279\n",
      "[1249.1826022893279]\n",
      "[1157.7654160824588]\n",
      "\n",
      "\n",
      "num_of_trees: 20\n",
      "Root Mean Squared Error: 905.2358593574039\n",
      "Root Mean Squared Error: 1125.2938466760495\n",
      "[1249.1826022893279, 1125.2938466760495]\n",
      "[1157.7654160824588, 905.2358593574039]\n",
      "\n",
      "\n",
      "num_of_trees: 50\n",
      "Root Mean Squared Error: 703.1820500477278\n",
      "Root Mean Squared Error: 1097.6162508886312\n",
      "[1249.1826022893279, 1125.2938466760495, 1097.6162508886312]\n",
      "[1157.7654160824588, 905.2358593574039, 703.1820500477278]\n",
      "\n",
      "\n",
      "num_of_trees: 75\n",
      "Root Mean Squared Error: 650.206114288036\n",
      "Root Mean Squared Error: 1097.8325994005604\n",
      "[1249.1826022893279, 1125.2938466760495, 1097.6162508886312, 1097.8325994005604]\n",
      "[1157.7654160824588, 905.2358593574039, 703.1820500477278, 650.206114288036]\n",
      "\n",
      "\n",
      "num_of_trees: 100\n",
      "Root Mean Squared Error: 621.8698320909893\n",
      "Root Mean Squared Error: 1091.035405510648\n",
      "[1249.1826022893279, 1125.2938466760495, 1097.6162508886312, 1097.8325994005604, 1091.035405510648]\n",
      "[1157.7654160824588, 905.2358593574039, 703.1820500477278, 650.206114288036, 621.8698320909893]\n",
      "\n",
      "\n",
      "num_of_trees: 150\n",
      "Root Mean Squared Error: 579.2004578081606\n",
      "Root Mean Squared Error: 1096.0715211579713\n",
      "[1249.1826022893279, 1125.2938466760495, 1097.6162508886312, 1097.8325994005604, 1091.035405510648, 1096.0715211579713]\n",
      "[1157.7654160824588, 905.2358593574039, 703.1820500477278, 650.206114288036, 621.8698320909893, 579.2004578081606]\n",
      "\n",
      "\n",
      "num_of_trees: 200\n",
      "Root Mean Squared Error: 554.1094515148104\n",
      "Root Mean Squared Error: 1093.1275528334804\n",
      "[1249.1826022893279, 1125.2938466760495, 1097.6162508886312, 1097.8325994005604, 1091.035405510648, 1096.0715211579713, 1093.1275528334804]\n",
      "[1157.7654160824588, 905.2358593574039, 703.1820500477278, 650.206114288036, 621.8698320909893, 579.2004578081606, 554.1094515148104]\n",
      "\n",
      "\n"
     ]
    },
    {
     "ename": "KeyboardInterrupt",
     "evalue": "",
     "output_type": "error",
     "traceback": [
      "\u001b[1;31m---------------------------------------------------------------------------\u001b[0m",
      "\u001b[1;31mKeyboardInterrupt\u001b[0m                         Traceback (most recent call last)",
      "\u001b[1;32m<ipython-input-41-52b3355aed05>\u001b[0m in \u001b[0;36m<module>\u001b[1;34m\u001b[0m\n\u001b[0;32m     19\u001b[0m \u001b[1;33m\u001b[0m\u001b[0m\n\u001b[0;32m     20\u001b[0m     \u001b[0mgbr\u001b[0m \u001b[1;33m=\u001b[0m \u001b[0mMultiOutputRegressor\u001b[0m\u001b[1;33m(\u001b[0m\u001b[0mGradientBoostingRegressor\u001b[0m\u001b[1;33m(\u001b[0m\u001b[0mn_estimators\u001b[0m\u001b[1;33m=\u001b[0m\u001b[0mx\u001b[0m\u001b[1;33m)\u001b[0m\u001b[1;33m)\u001b[0m\u001b[1;33m\u001b[0m\u001b[1;33m\u001b[0m\u001b[0m\n\u001b[1;32m---> 21\u001b[1;33m     \u001b[0mgbr\u001b[0m\u001b[1;33m.\u001b[0m\u001b[0mfit\u001b[0m\u001b[1;33m(\u001b[0m\u001b[0mX_train\u001b[0m\u001b[1;33m,\u001b[0m \u001b[0my_train\u001b[0m\u001b[1;33m)\u001b[0m\u001b[1;33m\u001b[0m\u001b[1;33m\u001b[0m\u001b[0m\n\u001b[0m\u001b[0;32m     22\u001b[0m \u001b[1;33m\u001b[0m\u001b[0m\n\u001b[0;32m     23\u001b[0m     \u001b[0my_pred_train\u001b[0m \u001b[1;33m=\u001b[0m \u001b[0mgbr\u001b[0m\u001b[1;33m.\u001b[0m\u001b[0mpredict\u001b[0m\u001b[1;33m(\u001b[0m\u001b[0mX_train\u001b[0m\u001b[1;33m)\u001b[0m\u001b[1;33m\u001b[0m\u001b[1;33m\u001b[0m\u001b[0m\n",
      "\u001b[1;32m~\\.conda\\envs\\opencv\\lib\\site-packages\\sklearn\\multioutput.py\u001b[0m in \u001b[0;36mfit\u001b[1;34m(self, X, y, sample_weight)\u001b[0m\n\u001b[0;32m    167\u001b[0m             delayed(_fit_estimator)(\n\u001b[0;32m    168\u001b[0m                 self.estimator, X, y[:, i], sample_weight)\n\u001b[1;32m--> 169\u001b[1;33m             for i in range(y.shape[1]))\n\u001b[0m\u001b[0;32m    170\u001b[0m         \u001b[1;32mreturn\u001b[0m \u001b[0mself\u001b[0m\u001b[1;33m\u001b[0m\u001b[1;33m\u001b[0m\u001b[0m\n\u001b[0;32m    171\u001b[0m \u001b[1;33m\u001b[0m\u001b[0m\n",
      "\u001b[1;32m~\\.conda\\envs\\opencv\\lib\\site-packages\\joblib\\parallel.py\u001b[0m in \u001b[0;36m__call__\u001b[1;34m(self, iterable)\u001b[0m\n\u001b[0;32m    919\u001b[0m             \u001b[1;31m# remaining jobs.\u001b[0m\u001b[1;33m\u001b[0m\u001b[1;33m\u001b[0m\u001b[1;33m\u001b[0m\u001b[0m\n\u001b[0;32m    920\u001b[0m             \u001b[0mself\u001b[0m\u001b[1;33m.\u001b[0m\u001b[0m_iterating\u001b[0m \u001b[1;33m=\u001b[0m \u001b[1;32mFalse\u001b[0m\u001b[1;33m\u001b[0m\u001b[1;33m\u001b[0m\u001b[0m\n\u001b[1;32m--> 921\u001b[1;33m             \u001b[1;32mif\u001b[0m \u001b[0mself\u001b[0m\u001b[1;33m.\u001b[0m\u001b[0mdispatch_one_batch\u001b[0m\u001b[1;33m(\u001b[0m\u001b[0miterator\u001b[0m\u001b[1;33m)\u001b[0m\u001b[1;33m:\u001b[0m\u001b[1;33m\u001b[0m\u001b[1;33m\u001b[0m\u001b[0m\n\u001b[0m\u001b[0;32m    922\u001b[0m                 \u001b[0mself\u001b[0m\u001b[1;33m.\u001b[0m\u001b[0m_iterating\u001b[0m \u001b[1;33m=\u001b[0m \u001b[0mself\u001b[0m\u001b[1;33m.\u001b[0m\u001b[0m_original_iterator\u001b[0m \u001b[1;32mis\u001b[0m \u001b[1;32mnot\u001b[0m \u001b[1;32mNone\u001b[0m\u001b[1;33m\u001b[0m\u001b[1;33m\u001b[0m\u001b[0m\n\u001b[0;32m    923\u001b[0m \u001b[1;33m\u001b[0m\u001b[0m\n",
      "\u001b[1;32m~\\.conda\\envs\\opencv\\lib\\site-packages\\joblib\\parallel.py\u001b[0m in \u001b[0;36mdispatch_one_batch\u001b[1;34m(self, iterator)\u001b[0m\n\u001b[0;32m    757\u001b[0m                 \u001b[1;32mreturn\u001b[0m \u001b[1;32mFalse\u001b[0m\u001b[1;33m\u001b[0m\u001b[1;33m\u001b[0m\u001b[0m\n\u001b[0;32m    758\u001b[0m             \u001b[1;32melse\u001b[0m\u001b[1;33m:\u001b[0m\u001b[1;33m\u001b[0m\u001b[1;33m\u001b[0m\u001b[0m\n\u001b[1;32m--> 759\u001b[1;33m                 \u001b[0mself\u001b[0m\u001b[1;33m.\u001b[0m\u001b[0m_dispatch\u001b[0m\u001b[1;33m(\u001b[0m\u001b[0mtasks\u001b[0m\u001b[1;33m)\u001b[0m\u001b[1;33m\u001b[0m\u001b[1;33m\u001b[0m\u001b[0m\n\u001b[0m\u001b[0;32m    760\u001b[0m                 \u001b[1;32mreturn\u001b[0m \u001b[1;32mTrue\u001b[0m\u001b[1;33m\u001b[0m\u001b[1;33m\u001b[0m\u001b[0m\n\u001b[0;32m    761\u001b[0m \u001b[1;33m\u001b[0m\u001b[0m\n",
      "\u001b[1;32m~\\.conda\\envs\\opencv\\lib\\site-packages\\joblib\\parallel.py\u001b[0m in \u001b[0;36m_dispatch\u001b[1;34m(self, batch)\u001b[0m\n\u001b[0;32m    714\u001b[0m         \u001b[1;32mwith\u001b[0m \u001b[0mself\u001b[0m\u001b[1;33m.\u001b[0m\u001b[0m_lock\u001b[0m\u001b[1;33m:\u001b[0m\u001b[1;33m\u001b[0m\u001b[1;33m\u001b[0m\u001b[0m\n\u001b[0;32m    715\u001b[0m             \u001b[0mjob_idx\u001b[0m \u001b[1;33m=\u001b[0m \u001b[0mlen\u001b[0m\u001b[1;33m(\u001b[0m\u001b[0mself\u001b[0m\u001b[1;33m.\u001b[0m\u001b[0m_jobs\u001b[0m\u001b[1;33m)\u001b[0m\u001b[1;33m\u001b[0m\u001b[1;33m\u001b[0m\u001b[0m\n\u001b[1;32m--> 716\u001b[1;33m             \u001b[0mjob\u001b[0m \u001b[1;33m=\u001b[0m \u001b[0mself\u001b[0m\u001b[1;33m.\u001b[0m\u001b[0m_backend\u001b[0m\u001b[1;33m.\u001b[0m\u001b[0mapply_async\u001b[0m\u001b[1;33m(\u001b[0m\u001b[0mbatch\u001b[0m\u001b[1;33m,\u001b[0m \u001b[0mcallback\u001b[0m\u001b[1;33m=\u001b[0m\u001b[0mcb\u001b[0m\u001b[1;33m)\u001b[0m\u001b[1;33m\u001b[0m\u001b[1;33m\u001b[0m\u001b[0m\n\u001b[0m\u001b[0;32m    717\u001b[0m             \u001b[1;31m# A job can complete so quickly than its callback is\u001b[0m\u001b[1;33m\u001b[0m\u001b[1;33m\u001b[0m\u001b[1;33m\u001b[0m\u001b[0m\n\u001b[0;32m    718\u001b[0m             \u001b[1;31m# called before we get here, causing self._jobs to\u001b[0m\u001b[1;33m\u001b[0m\u001b[1;33m\u001b[0m\u001b[1;33m\u001b[0m\u001b[0m\n",
      "\u001b[1;32m~\\.conda\\envs\\opencv\\lib\\site-packages\\joblib\\_parallel_backends.py\u001b[0m in \u001b[0;36mapply_async\u001b[1;34m(self, func, callback)\u001b[0m\n\u001b[0;32m    180\u001b[0m     \u001b[1;32mdef\u001b[0m \u001b[0mapply_async\u001b[0m\u001b[1;33m(\u001b[0m\u001b[0mself\u001b[0m\u001b[1;33m,\u001b[0m \u001b[0mfunc\u001b[0m\u001b[1;33m,\u001b[0m \u001b[0mcallback\u001b[0m\u001b[1;33m=\u001b[0m\u001b[1;32mNone\u001b[0m\u001b[1;33m)\u001b[0m\u001b[1;33m:\u001b[0m\u001b[1;33m\u001b[0m\u001b[1;33m\u001b[0m\u001b[0m\n\u001b[0;32m    181\u001b[0m         \u001b[1;34m\"\"\"Schedule a func to be run\"\"\"\u001b[0m\u001b[1;33m\u001b[0m\u001b[1;33m\u001b[0m\u001b[0m\n\u001b[1;32m--> 182\u001b[1;33m         \u001b[0mresult\u001b[0m \u001b[1;33m=\u001b[0m \u001b[0mImmediateResult\u001b[0m\u001b[1;33m(\u001b[0m\u001b[0mfunc\u001b[0m\u001b[1;33m)\u001b[0m\u001b[1;33m\u001b[0m\u001b[1;33m\u001b[0m\u001b[0m\n\u001b[0m\u001b[0;32m    183\u001b[0m         \u001b[1;32mif\u001b[0m \u001b[0mcallback\u001b[0m\u001b[1;33m:\u001b[0m\u001b[1;33m\u001b[0m\u001b[1;33m\u001b[0m\u001b[0m\n\u001b[0;32m    184\u001b[0m             \u001b[0mcallback\u001b[0m\u001b[1;33m(\u001b[0m\u001b[0mresult\u001b[0m\u001b[1;33m)\u001b[0m\u001b[1;33m\u001b[0m\u001b[1;33m\u001b[0m\u001b[0m\n",
      "\u001b[1;32m~\\.conda\\envs\\opencv\\lib\\site-packages\\joblib\\_parallel_backends.py\u001b[0m in \u001b[0;36m__init__\u001b[1;34m(self, batch)\u001b[0m\n\u001b[0;32m    547\u001b[0m         \u001b[1;31m# Don't delay the application, to avoid keeping the input\u001b[0m\u001b[1;33m\u001b[0m\u001b[1;33m\u001b[0m\u001b[1;33m\u001b[0m\u001b[0m\n\u001b[0;32m    548\u001b[0m         \u001b[1;31m# arguments in memory\u001b[0m\u001b[1;33m\u001b[0m\u001b[1;33m\u001b[0m\u001b[1;33m\u001b[0m\u001b[0m\n\u001b[1;32m--> 549\u001b[1;33m         \u001b[0mself\u001b[0m\u001b[1;33m.\u001b[0m\u001b[0mresults\u001b[0m \u001b[1;33m=\u001b[0m \u001b[0mbatch\u001b[0m\u001b[1;33m(\u001b[0m\u001b[1;33m)\u001b[0m\u001b[1;33m\u001b[0m\u001b[1;33m\u001b[0m\u001b[0m\n\u001b[0m\u001b[0;32m    550\u001b[0m \u001b[1;33m\u001b[0m\u001b[0m\n\u001b[0;32m    551\u001b[0m     \u001b[1;32mdef\u001b[0m \u001b[0mget\u001b[0m\u001b[1;33m(\u001b[0m\u001b[0mself\u001b[0m\u001b[1;33m)\u001b[0m\u001b[1;33m:\u001b[0m\u001b[1;33m\u001b[0m\u001b[1;33m\u001b[0m\u001b[0m\n",
      "\u001b[1;32m~\\.conda\\envs\\opencv\\lib\\site-packages\\joblib\\parallel.py\u001b[0m in \u001b[0;36m__call__\u001b[1;34m(self)\u001b[0m\n\u001b[0;32m    223\u001b[0m         \u001b[1;32mwith\u001b[0m \u001b[0mparallel_backend\u001b[0m\u001b[1;33m(\u001b[0m\u001b[0mself\u001b[0m\u001b[1;33m.\u001b[0m\u001b[0m_backend\u001b[0m\u001b[1;33m,\u001b[0m \u001b[0mn_jobs\u001b[0m\u001b[1;33m=\u001b[0m\u001b[0mself\u001b[0m\u001b[1;33m.\u001b[0m\u001b[0m_n_jobs\u001b[0m\u001b[1;33m)\u001b[0m\u001b[1;33m:\u001b[0m\u001b[1;33m\u001b[0m\u001b[1;33m\u001b[0m\u001b[0m\n\u001b[0;32m    224\u001b[0m             return [func(*args, **kwargs)\n\u001b[1;32m--> 225\u001b[1;33m                     for func, args, kwargs in self.items]\n\u001b[0m\u001b[0;32m    226\u001b[0m \u001b[1;33m\u001b[0m\u001b[0m\n\u001b[0;32m    227\u001b[0m     \u001b[1;32mdef\u001b[0m \u001b[0m__len__\u001b[0m\u001b[1;33m(\u001b[0m\u001b[0mself\u001b[0m\u001b[1;33m)\u001b[0m\u001b[1;33m:\u001b[0m\u001b[1;33m\u001b[0m\u001b[1;33m\u001b[0m\u001b[0m\n",
      "\u001b[1;32m~\\.conda\\envs\\opencv\\lib\\site-packages\\joblib\\parallel.py\u001b[0m in \u001b[0;36m<listcomp>\u001b[1;34m(.0)\u001b[0m\n\u001b[0;32m    223\u001b[0m         \u001b[1;32mwith\u001b[0m \u001b[0mparallel_backend\u001b[0m\u001b[1;33m(\u001b[0m\u001b[0mself\u001b[0m\u001b[1;33m.\u001b[0m\u001b[0m_backend\u001b[0m\u001b[1;33m,\u001b[0m \u001b[0mn_jobs\u001b[0m\u001b[1;33m=\u001b[0m\u001b[0mself\u001b[0m\u001b[1;33m.\u001b[0m\u001b[0m_n_jobs\u001b[0m\u001b[1;33m)\u001b[0m\u001b[1;33m:\u001b[0m\u001b[1;33m\u001b[0m\u001b[1;33m\u001b[0m\u001b[0m\n\u001b[0;32m    224\u001b[0m             return [func(*args, **kwargs)\n\u001b[1;32m--> 225\u001b[1;33m                     for func, args, kwargs in self.items]\n\u001b[0m\u001b[0;32m    226\u001b[0m \u001b[1;33m\u001b[0m\u001b[0m\n\u001b[0;32m    227\u001b[0m     \u001b[1;32mdef\u001b[0m \u001b[0m__len__\u001b[0m\u001b[1;33m(\u001b[0m\u001b[0mself\u001b[0m\u001b[1;33m)\u001b[0m\u001b[1;33m:\u001b[0m\u001b[1;33m\u001b[0m\u001b[1;33m\u001b[0m\u001b[0m\n",
      "\u001b[1;32m~\\.conda\\envs\\opencv\\lib\\site-packages\\sklearn\\multioutput.py\u001b[0m in \u001b[0;36m_fit_estimator\u001b[1;34m(estimator, X, y, sample_weight)\u001b[0m\n\u001b[0;32m     37\u001b[0m         \u001b[0mestimator\u001b[0m\u001b[1;33m.\u001b[0m\u001b[0mfit\u001b[0m\u001b[1;33m(\u001b[0m\u001b[0mX\u001b[0m\u001b[1;33m,\u001b[0m \u001b[0my\u001b[0m\u001b[1;33m,\u001b[0m \u001b[0msample_weight\u001b[0m\u001b[1;33m=\u001b[0m\u001b[0msample_weight\u001b[0m\u001b[1;33m)\u001b[0m\u001b[1;33m\u001b[0m\u001b[1;33m\u001b[0m\u001b[0m\n\u001b[0;32m     38\u001b[0m     \u001b[1;32melse\u001b[0m\u001b[1;33m:\u001b[0m\u001b[1;33m\u001b[0m\u001b[1;33m\u001b[0m\u001b[0m\n\u001b[1;32m---> 39\u001b[1;33m         \u001b[0mestimator\u001b[0m\u001b[1;33m.\u001b[0m\u001b[0mfit\u001b[0m\u001b[1;33m(\u001b[0m\u001b[0mX\u001b[0m\u001b[1;33m,\u001b[0m \u001b[0my\u001b[0m\u001b[1;33m)\u001b[0m\u001b[1;33m\u001b[0m\u001b[1;33m\u001b[0m\u001b[0m\n\u001b[0m\u001b[0;32m     40\u001b[0m     \u001b[1;32mreturn\u001b[0m \u001b[0mestimator\u001b[0m\u001b[1;33m\u001b[0m\u001b[1;33m\u001b[0m\u001b[0m\n\u001b[0;32m     41\u001b[0m \u001b[1;33m\u001b[0m\u001b[0m\n",
      "\u001b[1;32m~\\.conda\\envs\\opencv\\lib\\site-packages\\sklearn\\ensemble\\gradient_boosting.py\u001b[0m in \u001b[0;36mfit\u001b[1;34m(self, X, y, sample_weight, monitor)\u001b[0m\n\u001b[0;32m   1544\u001b[0m         n_stages = self._fit_stages(\n\u001b[0;32m   1545\u001b[0m             \u001b[0mX\u001b[0m\u001b[1;33m,\u001b[0m \u001b[0my\u001b[0m\u001b[1;33m,\u001b[0m \u001b[0mraw_predictions\u001b[0m\u001b[1;33m,\u001b[0m \u001b[0msample_weight\u001b[0m\u001b[1;33m,\u001b[0m \u001b[0mself\u001b[0m\u001b[1;33m.\u001b[0m\u001b[0m_rng\u001b[0m\u001b[1;33m,\u001b[0m \u001b[0mX_val\u001b[0m\u001b[1;33m,\u001b[0m \u001b[0my_val\u001b[0m\u001b[1;33m,\u001b[0m\u001b[1;33m\u001b[0m\u001b[1;33m\u001b[0m\u001b[0m\n\u001b[1;32m-> 1546\u001b[1;33m             sample_weight_val, begin_at_stage, monitor, X_idx_sorted)\n\u001b[0m\u001b[0;32m   1547\u001b[0m \u001b[1;33m\u001b[0m\u001b[0m\n\u001b[0;32m   1548\u001b[0m         \u001b[1;31m# change shape of arrays after fit (early-stopping or additional ests)\u001b[0m\u001b[1;33m\u001b[0m\u001b[1;33m\u001b[0m\u001b[1;33m\u001b[0m\u001b[0m\n",
      "\u001b[1;32m~\\.conda\\envs\\opencv\\lib\\site-packages\\sklearn\\ensemble\\gradient_boosting.py\u001b[0m in \u001b[0;36m_fit_stages\u001b[1;34m(self, X, y, raw_predictions, sample_weight, random_state, X_val, y_val, sample_weight_val, begin_at_stage, monitor, X_idx_sorted)\u001b[0m\n\u001b[0;32m   1608\u001b[0m             raw_predictions = self._fit_stage(\n\u001b[0;32m   1609\u001b[0m                 \u001b[0mi\u001b[0m\u001b[1;33m,\u001b[0m \u001b[0mX\u001b[0m\u001b[1;33m,\u001b[0m \u001b[0my\u001b[0m\u001b[1;33m,\u001b[0m \u001b[0mraw_predictions\u001b[0m\u001b[1;33m,\u001b[0m \u001b[0msample_weight\u001b[0m\u001b[1;33m,\u001b[0m \u001b[0msample_mask\u001b[0m\u001b[1;33m,\u001b[0m\u001b[1;33m\u001b[0m\u001b[1;33m\u001b[0m\u001b[0m\n\u001b[1;32m-> 1610\u001b[1;33m                 random_state, X_idx_sorted, X_csc, X_csr)\n\u001b[0m\u001b[0;32m   1611\u001b[0m \u001b[1;33m\u001b[0m\u001b[0m\n\u001b[0;32m   1612\u001b[0m             \u001b[1;31m# track deviance (= loss)\u001b[0m\u001b[1;33m\u001b[0m\u001b[1;33m\u001b[0m\u001b[1;33m\u001b[0m\u001b[0m\n",
      "\u001b[1;32m~\\.conda\\envs\\opencv\\lib\\site-packages\\sklearn\\ensemble\\gradient_boosting.py\u001b[0m in \u001b[0;36m_fit_stage\u001b[1;34m(self, i, X, y, raw_predictions, sample_weight, sample_mask, random_state, X_idx_sorted, X_csc, X_csr)\u001b[0m\n\u001b[0;32m   1242\u001b[0m             \u001b[0mX\u001b[0m \u001b[1;33m=\u001b[0m \u001b[0mX_csr\u001b[0m \u001b[1;32mif\u001b[0m \u001b[0mX_csr\u001b[0m \u001b[1;32mis\u001b[0m \u001b[1;32mnot\u001b[0m \u001b[1;32mNone\u001b[0m \u001b[1;32melse\u001b[0m \u001b[0mX\u001b[0m\u001b[1;33m\u001b[0m\u001b[1;33m\u001b[0m\u001b[0m\n\u001b[0;32m   1243\u001b[0m             tree.fit(X, residual, sample_weight=sample_weight,\n\u001b[1;32m-> 1244\u001b[1;33m                      check_input=False, X_idx_sorted=X_idx_sorted)\n\u001b[0m\u001b[0;32m   1245\u001b[0m \u001b[1;33m\u001b[0m\u001b[0m\n\u001b[0;32m   1246\u001b[0m             \u001b[1;31m# update tree leaves\u001b[0m\u001b[1;33m\u001b[0m\u001b[1;33m\u001b[0m\u001b[1;33m\u001b[0m\u001b[0m\n",
      "\u001b[1;32m~\\.conda\\envs\\opencv\\lib\\site-packages\\sklearn\\tree\\tree.py\u001b[0m in \u001b[0;36mfit\u001b[1;34m(self, X, y, sample_weight, check_input, X_idx_sorted)\u001b[0m\n\u001b[0;32m   1155\u001b[0m             \u001b[0msample_weight\u001b[0m\u001b[1;33m=\u001b[0m\u001b[0msample_weight\u001b[0m\u001b[1;33m,\u001b[0m\u001b[1;33m\u001b[0m\u001b[1;33m\u001b[0m\u001b[0m\n\u001b[0;32m   1156\u001b[0m             \u001b[0mcheck_input\u001b[0m\u001b[1;33m=\u001b[0m\u001b[0mcheck_input\u001b[0m\u001b[1;33m,\u001b[0m\u001b[1;33m\u001b[0m\u001b[1;33m\u001b[0m\u001b[0m\n\u001b[1;32m-> 1157\u001b[1;33m             X_idx_sorted=X_idx_sorted)\n\u001b[0m\u001b[0;32m   1158\u001b[0m         \u001b[1;32mreturn\u001b[0m \u001b[0mself\u001b[0m\u001b[1;33m\u001b[0m\u001b[1;33m\u001b[0m\u001b[0m\n\u001b[0;32m   1159\u001b[0m \u001b[1;33m\u001b[0m\u001b[0m\n",
      "\u001b[1;32m~\\.conda\\envs\\opencv\\lib\\site-packages\\sklearn\\tree\\tree.py\u001b[0m in \u001b[0;36mfit\u001b[1;34m(self, X, y, sample_weight, check_input, X_idx_sorted)\u001b[0m\n\u001b[0;32m    378\u001b[0m                                            min_impurity_split)\n\u001b[0;32m    379\u001b[0m \u001b[1;33m\u001b[0m\u001b[0m\n\u001b[1;32m--> 380\u001b[1;33m         \u001b[0mbuilder\u001b[0m\u001b[1;33m.\u001b[0m\u001b[0mbuild\u001b[0m\u001b[1;33m(\u001b[0m\u001b[0mself\u001b[0m\u001b[1;33m.\u001b[0m\u001b[0mtree_\u001b[0m\u001b[1;33m,\u001b[0m \u001b[0mX\u001b[0m\u001b[1;33m,\u001b[0m \u001b[0my\u001b[0m\u001b[1;33m,\u001b[0m \u001b[0msample_weight\u001b[0m\u001b[1;33m,\u001b[0m \u001b[0mX_idx_sorted\u001b[0m\u001b[1;33m)\u001b[0m\u001b[1;33m\u001b[0m\u001b[1;33m\u001b[0m\u001b[0m\n\u001b[0m\u001b[0;32m    381\u001b[0m \u001b[1;33m\u001b[0m\u001b[0m\n\u001b[0;32m    382\u001b[0m         \u001b[1;32mif\u001b[0m \u001b[0mself\u001b[0m\u001b[1;33m.\u001b[0m\u001b[0mn_outputs_\u001b[0m \u001b[1;33m==\u001b[0m \u001b[1;36m1\u001b[0m\u001b[1;33m:\u001b[0m\u001b[1;33m\u001b[0m\u001b[1;33m\u001b[0m\u001b[0m\n",
      "\u001b[1;31mKeyboardInterrupt\u001b[0m: "
     ]
    }
   ],
   "source": [
    "############## Gradient Boosting ################\n",
    "\n",
    "from sklearn.multioutput import MultiOutputRegressor\n",
    "from sklearn.ensemble import GradientBoostingRegressor\n",
    "from sklearn import metrics\n",
    "from matplotlib.pylab import rcParams\n",
    "rcParams['figure.figsize'] = 14, 8\n",
    "\n",
    "rmse_train = list()\n",
    "rmse_val = list()\n",
    "num_of_trees = [10, 20, 50, 75, 100, 150, 200, 250, 300, 400, 500, 750, 1000]\n",
    "#learning_rate = [1,0.5,0.25,0.1,0.05,0.01]\n",
    "#max_features = ['auto', 'sqrt'] \n",
    "#max_depth = [None,1,2,3]\n",
    "#min_samples_split = [2, 5, 10]\n",
    "#min_samples_leaf = [1, 2, 4] \n",
    "\n",
    "for x in num_of_trees:\n",
    "\n",
    "    gbr = MultiOutputRegressor(GradientBoostingRegressor(n_estimators=x))\n",
    "    gbr.fit(X_train, y_train)\n",
    "\n",
    "    y_pred_train = gbr.predict(X_train)\n",
    "    y_pred_val = gbr.predict(X_val)\n",
    "\n",
    "    print ('num_of_trees: '+str(x))\n",
    "\n",
    "    print('Root Mean Squared Error:', np.sqrt(metrics.mean_squared_error(y_train, y_pred_train)))\n",
    "    rmse_train.append(np.sqrt(metrics.mean_squared_error(y_train, y_pred_train)))\n",
    "\n",
    "    print('Root Mean Squared Error:', np.sqrt(metrics.mean_squared_error(y_val, y_pred_val)))\n",
    "    rmse_val.append(np.sqrt(metrics.mean_squared_error(y_val, y_pred_val)))\n",
    "    print (rmse_val)\n",
    "    print (rmse_train)\n",
    "    print ('\\n')\n",
    "    '''\n",
    "    dic_train = {'Actual':y_train[1000:1101,3], 'Predicted':y_pred_train[1000:1101,3]}\n",
    "    dic_val = {'Actual':y_val[1000:1101,3], 'Predicted':y_pred_val[1000:1101,3]}\n",
    "    \n",
    "    df_train = pd.DataFrame(dic_train)\n",
    "    df_val = pd.DataFrame(dic_val)\n",
    "    df_val = df_val.drop([3])\n",
    "    df_val = df_val.drop([31])\n",
    "    #print (df_val)\n",
    "    \n",
    "    plt.plot(df_train['Actual'], label='Actual')\n",
    "    plt.plot(df_train['Predicted'], color='red', label='Predicted')\n",
    "    plt.title('Training Set')\n",
    "    plt.xlabel('data points')\n",
    "    plt.ylabel('Actual and Predicted')\n",
    "    plt.legend()\n",
    "    plt.show()\n",
    "\n",
    "    plt.plot(df_val['Actual'], label='Actual')\n",
    "    plt.plot(df_val['Predicted'], color='red', label='Predicted')\n",
    "    plt.title('Validation Set')\n",
    "    plt.xlabel('data points')\n",
    "    plt.ylabel('Actual and Predicted')\n",
    "    plt.legend()\n",
    "    plt.show()\n",
    "    '''\n",
    "'''\n",
    "df_RF = pd.DataFrame({'No of trees':num_of_trees, 'RMSE_train':rmse_train, 'RMSE_val':rmse_val})\n",
    "df_RF = df_RF.set_index('No of trees')\n",
    "plt.plot(df_RF['RMSE_train'], label='RMSE_train')\n",
    "plt.plot(df_RF['RMSE_val'], color='red', label='RMSE_val')\n",
    "plt.title('RMSE')\n",
    "plt.xlabel('No. of trees')\n",
    "plt.ylabel('RMSE')\n",
    "plt.legend()\n",
    "plt.show()\n",
    "'''\n",
    "##################################################"
   ]
  },
  {
   "cell_type": "code",
   "execution_count": 43,
   "metadata": {},
   "outputs": [
    {
     "name": "stdout",
     "output_type": "stream",
     "text": [
      "Epoch 1/40\n",
      "6840/6840 [==============================] - 2s 281us/step - loss: 4198131.7916 - mean_squared_error: 4198132.5000\n",
      "Epoch 2/40\n",
      "6840/6840 [==============================] - 2s 267us/step - loss: 3818988.4430 - mean_squared_error: 3818988.5000\n",
      "Epoch 3/40\n",
      "6840/6840 [==============================] - 2s 274us/step - loss: 3532353.3303 - mean_squared_error: 3532353.0000\n",
      "Epoch 4/40\n",
      "6840/6840 [==============================] - 2s 276us/step - loss: 3105476.3879 - mean_squared_error: 3105475.7500\n",
      "Epoch 5/40\n",
      "6840/6840 [==============================] - 2s 266us/step - loss: 2762337.3923 - mean_squared_error: 2762337.5000\n",
      "Epoch 6/40\n",
      "6840/6840 [==============================] - 2s 264us/step - loss: 2522323.1207 - mean_squared_error: 2522323.5000\n",
      "Epoch 7/40\n",
      "6840/6840 [==============================] - 2s 264us/step - loss: 2396608.8602 - mean_squared_error: 2396609.0000\n",
      "Epoch 8/40\n",
      "6840/6840 [==============================] - 2s 262us/step - loss: 2301710.4384 - mean_squared_error: 2301710.2500\n",
      "Epoch 9/40\n",
      "6840/6840 [==============================] - 2s 269us/step - loss: 2256095.1414 - mean_squared_error: 2256094.5000\n",
      "Epoch 10/40\n",
      "6840/6840 [==============================] - 2s 258us/step - loss: 2158119.6561 - mean_squared_error: 2158119.2500\n",
      "Epoch 11/40\n",
      "6840/6840 [==============================] - 2s 260us/step - loss: 1980247.4588 - mean_squared_error: 1980247.3750\n",
      "Epoch 12/40\n",
      "6840/6840 [==============================] - 2s 250us/step - loss: 1838566.6297 - mean_squared_error: 1838566.5000\n",
      "Epoch 13/40\n",
      "6840/6840 [==============================] - 2s 243us/step - loss: 1697754.0934 - mean_squared_error: 1697754.0000\n",
      "Epoch 14/40\n",
      "6840/6840 [==============================] - 2s 239us/step - loss: 1677228.1158 - mean_squared_error: 1677228.1250\n",
      "Epoch 15/40\n",
      "6840/6840 [==============================] - 2s 239us/step - loss: 1512427.4595 - mean_squared_error: 1512427.7500\n",
      "Epoch 16/40\n",
      "6840/6840 [==============================] - 2s 241us/step - loss: 1520945.1663 - mean_squared_error: 1520945.1250\n",
      "Epoch 17/40\n",
      "6840/6840 [==============================] - 2s 256us/step - loss: 1368792.2939 - mean_squared_error: 1368792.5000\n",
      "Epoch 18/40\n",
      "6840/6840 [==============================] - 2s 235us/step - loss: 1315937.3236 - mean_squared_error: 1315937.5000\n",
      "Epoch 19/40\n",
      "6840/6840 [==============================] - 2s 238us/step - loss: 1335253.5064 - mean_squared_error: 1335254.1250\n",
      "Epoch 20/40\n",
      "6840/6840 [==============================] - 2s 233us/step - loss: 1276093.1215 - mean_squared_error: 1276093.1250\n",
      "Epoch 21/40\n",
      "6840/6840 [==============================] - 2s 236us/step - loss: 1281224.6573 - mean_squared_error: 1281224.6250\n",
      "Epoch 22/40\n",
      "6840/6840 [==============================] - 2s 236us/step - loss: 1260489.2554 - mean_squared_error: 1260489.3750\n",
      "Epoch 23/40\n",
      "6840/6840 [==============================] - 2s 233us/step - loss: 1199014.3279 - mean_squared_error: 1199014.5000\n",
      "Epoch 24/40\n",
      "6840/6840 [==============================] - 2s 236us/step - loss: 1246969.9820 - mean_squared_error: 1246970.0000\n",
      "Epoch 25/40\n",
      "6840/6840 [==============================] - 2s 256us/step - loss: 1109459.2594 - mean_squared_error: 1109459.5000\n",
      "Epoch 26/40\n",
      "6840/6840 [==============================] - 2s 254us/step - loss: 1114141.9666 - mean_squared_error: 1114142.0000\n",
      "Epoch 27/40\n",
      "6840/6840 [==============================] - 2s 235us/step - loss: 1064063.2163 - mean_squared_error: 1064063.2500\n",
      "Epoch 28/40\n",
      "6840/6840 [==============================] - 2s 238us/step - loss: 1013943.9764 - mean_squared_error: 1013943.6250\n",
      "Epoch 29/40\n",
      "6840/6840 [==============================] - ETA: 0s - loss: 1138776.5689 - mean_squared_error: 1138776.62 - 2s 236us/step - loss: 1132458.1718 - mean_squared_error: 1132458.2500\n",
      "Epoch 30/40\n",
      "6840/6840 [==============================] - 2s 254us/step - loss: 1005772.3470 - mean_squared_error: 1005772.5000\n",
      "Epoch 31/40\n",
      "6840/6840 [==============================] - 2s 263us/step - loss: 1054814.1638 - mean_squared_error: 1054814.2500\n",
      "Epoch 32/40\n",
      "6840/6840 [==============================] - 2s 240us/step - loss: 994203.5837 - mean_squared_error: 994203.8750\n",
      "Epoch 33/40\n",
      "6840/6840 [==============================] - 2s 252us/step - loss: 1124377.4871 - mean_squared_error: 1124377.6250\n",
      "Epoch 34/40\n",
      "6840/6840 [==============================] - 2s 234us/step - loss: 952004.5395 - mean_squared_error: 952004.8750\n",
      "Epoch 35/40\n",
      "6840/6840 [==============================] - 2s 234us/step - loss: 1018826.6818 - mean_squared_error: 1018826.5625\n",
      "Epoch 36/40\n",
      "6840/6840 [==============================] - 2s 235us/step - loss: 905228.4684 - mean_squared_error: 905228.7500\n",
      "Epoch 37/40\n",
      "6840/6840 [==============================] - 2s 232us/step - loss: 920489.4545 - mean_squared_error: 920489.6250\n",
      "Epoch 38/40\n",
      "6840/6840 [==============================] - 2s 239us/step - loss: 886647.6463 - mean_squared_error: 886647.6250\n",
      "Epoch 39/40\n",
      "6840/6840 [==============================] - 2s 241us/step - loss: 875694.6479 - mean_squared_error: 875694.6250\n",
      "Epoch 40/40\n",
      "6840/6840 [==============================] - 2s 243us/step - loss: 914934.2969 - mean_squared_error: 914934.6250\n",
      "Root Mean Squared Error: 890.2618831837475\n",
      "Root Mean Squared Error: 898.9416983388705\n"
     ]
    },
    {
     "data": {
      "text/plain": [
       "\"\\ndic_train = {'Actual':y_train[1000:1101,3], 'Predicted':y_pred_train[1000:1101,3]}\\ndic_val = {'Actual':y_val[1000:1101,3], 'Predicted':y_pred_val[1000:1101,3]}\\n    \\ndf_train = pd.DataFrame(dic_train)\\ndf_val = pd.DataFrame(dic_val)\\ndf_val = df_val.drop([3])\\ndf_val = df_val.drop([31])\\ndf_val = df_val.drop([80])\\n\\n#df_train = df_train.drop([47])\\n#df_train = df_train.drop([81])\\n#df_val = df_val.drop([65])\\n#df_val = df_val.drop([71])\\n\\n#print (df_train.iloc[80:101])\\n#print (df_val.iloc[51:101])\\n   \\nplt.plot(df_train['Actual'], label='Actual')\\nplt.plot(df_train['Predicted'], color='red', label='Predicted')\\nplt.title('Training Set')\\nplt.xlabel('data points')\\nplt.ylabel('Actual and Predicted')\\nplt.legend()\\nplt.show()\\n\\nplt.plot(df_val['Actual'], label='Actual')\\nplt.plot(df_val['Predicted'], color='red', label='Predicted')\\nplt.title('Validation Set')\\nplt.xlabel('data points')\\nplt.ylabel('Actual and Predicted')\\nplt.legend()\\nplt.show()\\n\""
      ]
     },
     "execution_count": 43,
     "metadata": {},
     "output_type": "execute_result"
    }
   ],
   "source": [
    "############ Neural Network #############\n",
    "\n",
    "from sklearn import metrics\n",
    "from matplotlib.pylab import rcParams\n",
    "rcParams['figure.figsize'] = 14, 8\n",
    "import keras\n",
    "from keras.models import Sequential\n",
    "from keras.layers import Dense, Dropout\n",
    "\n",
    "model = Sequential()\n",
    "model.add(Dense(650, input_dim=153, activation= \"relu\"))\n",
    "model.add(Dense(324, activation= \"relu\"))\n",
    "model.add(Dense(160, activation= \"relu\"))\n",
    "model.add(Dense(17))\n",
    "\n",
    "model.compile(loss= \"mean_squared_error\" , optimizer=\"adam\", metrics=[\"mean_squared_error\"])\n",
    "model.fit(X_train, y_train, epochs=40, batch_size=32, verbose=1)\n",
    "\n",
    "y_pred_train= model.predict(X_train)\n",
    "print('Root Mean Squared Error:', np.sqrt(metrics.mean_squared_error(y_train, y_pred_train)))\n",
    "\n",
    "y_pred_val= model.predict(X_val)\n",
    "print('Root Mean Squared Error:', np.sqrt(metrics.mean_squared_error(y_val, y_pred_val)))\n",
    "'''\n",
    "dic_train = {'Actual':y_train[1000:1101,3], 'Predicted':y_pred_train[1000:1101,3]}\n",
    "dic_val = {'Actual':y_val[1000:1101,3], 'Predicted':y_pred_val[1000:1101,3]}\n",
    "    \n",
    "df_train = pd.DataFrame(dic_train)\n",
    "df_val = pd.DataFrame(dic_val)\n",
    "df_val = df_val.drop([3])\n",
    "df_val = df_val.drop([31])\n",
    "df_val = df_val.drop([80])\n",
    "\n",
    "#df_train = df_train.drop([47])\n",
    "#df_train = df_train.drop([81])\n",
    "#df_val = df_val.drop([65])\n",
    "#df_val = df_val.drop([71])\n",
    "\n",
    "#print (df_train.iloc[80:101])\n",
    "#print (df_val.iloc[51:101])\n",
    "   \n",
    "plt.plot(df_train['Actual'], label='Actual')\n",
    "plt.plot(df_train['Predicted'], color='red', label='Predicted')\n",
    "plt.title('Training Set')\n",
    "plt.xlabel('data points')\n",
    "plt.ylabel('Actual and Predicted')\n",
    "plt.legend()\n",
    "plt.show()\n",
    "\n",
    "plt.plot(df_val['Actual'], label='Actual')\n",
    "plt.plot(df_val['Predicted'], color='red', label='Predicted')\n",
    "plt.title('Validation Set')\n",
    "plt.xlabel('data points')\n",
    "plt.ylabel('Actual and Predicted')\n",
    "plt.legend()\n",
    "plt.show()\n",
    "'''\n",
    "#########################################"
   ]
  },
  {
   "cell_type": "code",
   "execution_count": null,
   "metadata": {},
   "outputs": [],
   "source": []
  }
 ],
 "metadata": {
  "kernelspec": {
   "display_name": "Python 3",
   "language": "python",
   "name": "python3"
  },
  "language_info": {
   "codemirror_mode": {
    "name": "ipython",
    "version": 3
   },
   "file_extension": ".py",
   "mimetype": "text/x-python",
   "name": "python",
   "nbconvert_exporter": "python",
   "pygments_lexer": "ipython3",
   "version": "3.7.3"
  }
 },
 "nbformat": 4,
 "nbformat_minor": 4
}
