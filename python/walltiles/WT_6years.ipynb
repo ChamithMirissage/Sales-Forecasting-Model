{
 "cells": [
  {
   "cell_type": "code",
   "execution_count": 1,
   "metadata": {},
   "outputs": [],
   "source": [
    "import numpy as np\n",
    "import pandas as pd\n",
    "from datetime import datetime\n",
    "import matplotlib.pylab as plt\n",
    "%matplotlib inline\n",
    "from matplotlib.pylab import rcParams\n",
    "from sklearn.ensemble import RandomForestRegressor\n",
    "from sklearn.preprocessing import LabelEncoder\n",
    "from sklearn.preprocessing import OneHotEncoder"
   ]
  },
  {
   "cell_type": "code",
   "execution_count": 8,
   "metadata": {},
   "outputs": [],
   "source": [
    "dataset = pd.read_pickle(\"./6years.pkl\") # Load whole data set"
   ]
  },
  {
   "cell_type": "code",
   "execution_count": 3,
   "metadata": {},
   "outputs": [
    {
     "name": "stdout",
     "output_type": "stream",
     "text": [
      "         CDateTime SalesPoint  SalesChannelKey     GroupCat ItemSize  \\\n",
      "0       2013-01-01      FDHOR                5  FLOOR TILES        A   \n",
      "1       2013-01-01      FDKEG                5   WALL TILES        G   \n",
      "2       2013-01-01      FDKEG                5   WALL TILES        G   \n",
      "3       2013-01-01      FDNIT                5  FLOOR TILES        M   \n",
      "4       2013-01-01      FDNIT                5  FLOOR TILES        P   \n",
      "...            ...        ...              ...          ...      ...   \n",
      "3970056 2018-12-31      DELUN                3   WALL TILES        P   \n",
      "3970057 2018-12-31      DELUN                3   WALL TILES        P   \n",
      "3970058 2018-12-31      FDBA1                5  FLOOR TILES        T   \n",
      "3970059 2018-12-31      FDBA1                5  FLOOR TILES        T   \n",
      "3970060 2018-12-31      FDJEL                5        GROUT        Q   \n",
      "\n",
      "         DiscountPcnt    QTY  \n",
      "0                10.0   14.0  \n",
      "1                25.0    1.0  \n",
      "2                25.0    6.0  \n",
      "3                25.0    1.0  \n",
      "4                25.0    2.0  \n",
      "...               ...    ...  \n",
      "3970056           0.0  384.0  \n",
      "3970057           0.0  384.0  \n",
      "3970058           1.0   92.0  \n",
      "3970059           1.0  312.0  \n",
      "3970060           0.0    1.0  \n",
      "\n",
      "[3970061 rows x 7 columns]\n"
     ]
    }
   ],
   "source": [
    "dataset = dataset.reset_index(drop=True)\n",
    "print (dataset)"
   ]
  },
  {
   "cell_type": "code",
   "execution_count": 4,
   "metadata": {},
   "outputs": [
    {
     "name": "stdout",
     "output_type": "stream",
     "text": [
      "         CDateTime SalesPoint  SalesChannelKey    GroupCat ItemSize  \\\n",
      "0       2013-01-01      FDKEG                5  WALL TILES        G   \n",
      "1       2013-01-01      FDKEG                5  WALL TILES        G   \n",
      "2       2013-01-01      FDPND                5  WALL TILES        D   \n",
      "3       2013-01-01      FDPND                5  WALL TILES        S   \n",
      "4       2013-01-01      LWSR                 4  WALL TILES        T   \n",
      "...            ...        ...              ...         ...      ...   \n",
      "1374884 2018-12-31      DELUN                3  WALL TILES        P   \n",
      "1374885 2018-12-31      DELUN                3  WALL TILES        P   \n",
      "1374886 2018-12-31      DELUN                3  WALL TILES        P   \n",
      "1374887 2018-12-31      DELUN                3  WALL TILES        P   \n",
      "1374888 2018-12-31      DELUN                3  WALL TILES        P   \n",
      "\n",
      "         DiscountPcnt     QTY  \n",
      "0                25.0     1.0  \n",
      "1                25.0     6.0  \n",
      "2                10.0    10.0  \n",
      "3                15.0    25.0  \n",
      "4                15.0    10.0  \n",
      "...               ...     ...  \n",
      "1374884           0.0  1100.0  \n",
      "1374885           0.0  2200.0  \n",
      "1374886           0.0   384.0  \n",
      "1374887           0.0   384.0  \n",
      "1374888           0.0   384.0  \n",
      "\n",
      "[1374889 rows x 7 columns]\n"
     ]
    }
   ],
   "source": [
    "WallTiles_data = dataset.loc[dataset.GroupCat=='WALL TILES'].reset_index(drop=True)  # Separate wall tiles\n",
    "print (WallTiles_data)"
   ]
  },
  {
   "cell_type": "code",
   "execution_count": 5,
   "metadata": {},
   "outputs": [],
   "source": [
    "WallTiles_data.to_pickle(\"./Walltiles.pkl\")  # Save as a pickle file"
   ]
  },
  {
   "cell_type": "code",
   "execution_count": 2,
   "metadata": {},
   "outputs": [
    {
     "name": "stdout",
     "output_type": "stream",
     "text": [
      "         CDateTime SalesPoint  SalesChannelKey    GroupCat ItemSize  \\\n",
      "0       2013-01-01      FDKEG                5  WALL TILES        G   \n",
      "1       2013-01-01      FDKEG                5  WALL TILES        G   \n",
      "2       2013-01-01      FDPND                5  WALL TILES        D   \n",
      "3       2013-01-01      FDPND                5  WALL TILES        S   \n",
      "4       2013-01-01      LWSR                 4  WALL TILES        T   \n",
      "5       2013-01-01      LWSR                 4  WALL TILES        D   \n",
      "6       2013-01-01      FDHOR                5  WALL TILES        D   \n",
      "7       2013-01-01      KDSR                 5  WALL TILES        D   \n",
      "8       2013-01-01      CAPEL                1  WALL TILES        D   \n",
      "9       2013-01-01      DELUN                3  WALL TILES        D   \n",
      "10      2013-01-01      FDJAF                5  WALL TILES        D   \n",
      "11      2013-01-01      FDJAF                5  WALL TILES        V   \n",
      "12      2013-01-01      FDJAF                5  WALL TILES        D   \n",
      "13      2013-01-01      FDKEG                5  WALL TILES        D   \n",
      "14      2013-01-01      FDHOR                5  WALL TILES        G   \n",
      "15      2013-01-01      FDMTL                5  WALL TILES        D   \n",
      "16      2013-01-01      FDMON                5  WALL TILES        D   \n",
      "17      2013-01-01      FDALU                5  WALL TILES        S   \n",
      "18      2013-01-01      LWSR                 4  WALL TILES        D   \n",
      "19      2013-01-01      FDGAP                5  WALL TILES        S   \n",
      "20      2013-01-01      FDGAP                5  WALL TILES        D   \n",
      "21      2013-01-01      FDHOR                5  WALL TILES        P   \n",
      "22      2013-01-01      FDGAP                5  WALL TILES        D   \n",
      "23      2013-01-01      FDHOR                5  WALL TILES        D   \n",
      "24      2013-01-01      FDAVI                5  WALL TILES        P   \n",
      "25      2013-01-01      FDJAE                4  WALL TILES        D   \n",
      "26      2013-01-01      FDJAE                4  WALL TILES        V   \n",
      "27      2013-01-01      DELUN                3  WALL TILES        D   \n",
      "28      2013-01-01      CABLM                1  WALL TILES        D   \n",
      "29      2013-01-01      FDJAF                5  WALL TILES        G   \n",
      "...            ...        ...              ...         ...      ...   \n",
      "1374859 2018-12-31      FDBA1                5  WALL TILES        P   \n",
      "1374860 2018-12-31      FDNEG                5  WALL TILES        R   \n",
      "1374861 2018-12-31      DBMAT                2  WALL TILES        F   \n",
      "1374862 2018-12-31      DBMAT                2  WALL TILES        D   \n",
      "1374863 2018-12-31      FDEMB                5  WALL TILES        F   \n",
      "1374864 2018-12-31      FDEMB                5  WALL TILES        F   \n",
      "1374865 2018-12-31      FDBAL                5  WALL TILES        A   \n",
      "1374866 2018-12-31      FDPER                5  WALL TILES        R   \n",
      "1374867 2018-12-31      FDPER                5  WALL TILES        A   \n",
      "1374868 2018-12-31      FDKOT                5  WALL TILES        F   \n",
      "1374869 2018-12-31      FDMHI                5  WALL TILES        F   \n",
      "1374870 2018-12-31      FDMHI                5  WALL TILES        F   \n",
      "1374871 2018-12-31      FDMHI                5  WALL TILES        F   \n",
      "1374872 2018-12-31      FDNIT                5  WALL TILES        P   \n",
      "1374873 2018-12-31      DBNUG                2  WALL TILES        F   \n",
      "1374874 2018-12-31      DBNUG                2  WALL TILES        F   \n",
      "1374875 2018-12-31      DBNUG                2  WALL TILES        F   \n",
      "1374876 2018-12-31      FDJAF                5  WALL TILES        D   \n",
      "1374877 2018-12-31      FDKOT                5  WALL TILES        F   \n",
      "1374878 2018-12-31      FDKOT                5  WALL TILES        F   \n",
      "1374879 2018-12-31      FDJAF                5  WALL TILES        D   \n",
      "1374880 2018-12-31      FDJAF                5  WALL TILES        F   \n",
      "1374881 2018-12-31      DBNUG                2  WALL TILES        P   \n",
      "1374882 2018-12-31      DELUN                3  WALL TILES        P   \n",
      "1374883 2018-12-31      DELUN                2  WALL TILES        R   \n",
      "1374884 2018-12-31      DELUN                3  WALL TILES        P   \n",
      "1374885 2018-12-31      DELUN                3  WALL TILES        P   \n",
      "1374886 2018-12-31      DELUN                3  WALL TILES        P   \n",
      "1374887 2018-12-31      DELUN                3  WALL TILES        P   \n",
      "1374888 2018-12-31      DELUN                3  WALL TILES        P   \n",
      "\n",
      "         DiscountPcnt     QTY  \n",
      "0                25.0     1.0  \n",
      "1                25.0     6.0  \n",
      "2                10.0    10.0  \n",
      "3                15.0    25.0  \n",
      "4                15.0    10.0  \n",
      "5                 0.0    12.0  \n",
      "6                10.0    40.0  \n",
      "7                15.0     3.0  \n",
      "8                 0.0    28.0  \n",
      "9                18.5  1920.0  \n",
      "10               15.0   140.0  \n",
      "11               15.0    70.0  \n",
      "12               15.0   125.0  \n",
      "13                0.0     3.0  \n",
      "14               15.0    33.0  \n",
      "15               15.0   100.0  \n",
      "16               15.0    20.0  \n",
      "17                0.0     3.0  \n",
      "18               10.0     2.0  \n",
      "19                0.0    48.0  \n",
      "20                0.0     2.0  \n",
      "21               15.0     1.0  \n",
      "22                0.0     2.0  \n",
      "23               10.0     6.0  \n",
      "24                5.0     1.0  \n",
      "25               15.0   914.0  \n",
      "26               15.0   470.0  \n",
      "27               13.5   454.0  \n",
      "28                0.0    25.0  \n",
      "29               25.0   307.0  \n",
      "...               ...     ...  \n",
      "1374859           1.0     9.0  \n",
      "1374860           0.0   180.0  \n",
      "1374861           0.0   288.0  \n",
      "1374862           0.0     8.0  \n",
      "1374863           0.0    76.0  \n",
      "1374864           0.0    16.0  \n",
      "1374865           0.0   700.0  \n",
      "1374866           0.0   319.0  \n",
      "1374867           0.0    70.0  \n",
      "1374868           0.0     1.0  \n",
      "1374869           0.0    44.0  \n",
      "1374870           0.0    22.0  \n",
      "1374871           0.0    66.0  \n",
      "1374872           0.0    52.0  \n",
      "1374873           0.0    18.0  \n",
      "1374874           0.0    18.0  \n",
      "1374875           0.0    54.0  \n",
      "1374876           0.0     1.0  \n",
      "1374877           0.0     4.0  \n",
      "1374878           0.0     3.0  \n",
      "1374879           1.0  2200.0  \n",
      "1374880           0.0    38.0  \n",
      "1374881           0.0    22.0  \n",
      "1374882           1.0   384.0  \n",
      "1374883           0.0   960.0  \n",
      "1374884           0.0  1100.0  \n",
      "1374885           0.0  2200.0  \n",
      "1374886           0.0   384.0  \n",
      "1374887           0.0   384.0  \n",
      "1374888           0.0   384.0  \n",
      "\n",
      "[1374889 rows x 7 columns]\n"
     ]
    }
   ],
   "source": [
    "WallTiles_data = pd.read_pickle(\"./Walltiles.pkl\")  # Load the file\n",
    "print (WallTiles_data)"
   ]
  },
  {
   "cell_type": "code",
   "execution_count": 11,
   "metadata": {},
   "outputs": [
    {
     "data": {
      "text/plain": [
       "count    1374889.000000\n",
       "mean         279.013375\n",
       "std         1074.081773\n",
       "min            1.000000\n",
       "25%           12.000000\n",
       "50%           45.000000\n",
       "75%          158.000000\n",
       "max       165088.000000\n",
       "Name: QTY, dtype: object"
      ]
     },
     "execution_count": 11,
     "metadata": {},
     "output_type": "execute_result"
    }
   ],
   "source": [
    "WallTiles_data['QTY'].describe().apply(lambda x: format(x, 'f'))"
   ]
  },
  {
   "cell_type": "code",
   "execution_count": 3,
   "metadata": {},
   "outputs": [
    {
     "name": "stdout",
     "output_type": "stream",
     "text": [
      "         CDateTime SalesPoint  SalesChannelKey ItemSize  DiscountPcnt     QTY\n",
      "0       2013-01-01      FDKEG                5        G          25.0     1.0\n",
      "1       2013-01-01      FDKEG                5        G          25.0     6.0\n",
      "2       2013-01-01      FDPND                5        D          10.0    10.0\n",
      "3       2013-01-01      FDPND                5        S          15.0    25.0\n",
      "4       2013-01-01      LWSR                 4        T          15.0    10.0\n",
      "5       2013-01-01      LWSR                 4        D           0.0    12.0\n",
      "6       2013-01-01      FDHOR                5        D          10.0    40.0\n",
      "7       2013-01-01      KDSR                 5        D          15.0     3.0\n",
      "8       2013-01-01      CAPEL                1        D           0.0    28.0\n",
      "9       2013-01-01      DELUN                3        D          18.5  1920.0\n",
      "10      2013-01-01      FDJAF                5        D          15.0   140.0\n",
      "11      2013-01-01      FDJAF                5        V          15.0    70.0\n",
      "12      2013-01-01      FDJAF                5        D          15.0   125.0\n",
      "13      2013-01-01      FDKEG                5        D           0.0     3.0\n",
      "14      2013-01-01      FDHOR                5        G          15.0    33.0\n",
      "15      2013-01-01      FDMTL                5        D          15.0   100.0\n",
      "16      2013-01-01      FDMON                5        D          15.0    20.0\n",
      "17      2013-01-01      FDALU                5        S           0.0     3.0\n",
      "18      2013-01-01      LWSR                 4        D          10.0     2.0\n",
      "19      2013-01-01      FDGAP                5        S           0.0    48.0\n",
      "20      2013-01-01      FDGAP                5        D           0.0     2.0\n",
      "21      2013-01-01      FDHOR                5        P          15.0     1.0\n",
      "22      2013-01-01      FDGAP                5        D           0.0     2.0\n",
      "23      2013-01-01      FDHOR                5        D          10.0     6.0\n",
      "24      2013-01-01      FDAVI                5        P           5.0     1.0\n",
      "25      2013-01-01      FDJAE                4        D          15.0   914.0\n",
      "26      2013-01-01      FDJAE                4        V          15.0   470.0\n",
      "27      2013-01-01      DELUN                3        D          13.5   454.0\n",
      "28      2013-01-01      CABLM                1        D           0.0    25.0\n",
      "29      2013-01-01      FDJAF                5        G          25.0   307.0\n",
      "...            ...        ...              ...      ...           ...     ...\n",
      "1374859 2018-12-31      FDBA1                5        P           1.0     9.0\n",
      "1374860 2018-12-31      FDNEG                5        R           0.0   180.0\n",
      "1374861 2018-12-31      DBMAT                2        F           0.0   288.0\n",
      "1374862 2018-12-31      DBMAT                2        D           0.0     8.0\n",
      "1374863 2018-12-31      FDEMB                5        F           0.0    76.0\n",
      "1374864 2018-12-31      FDEMB                5        F           0.0    16.0\n",
      "1374865 2018-12-31      FDBAL                5        A           0.0   700.0\n",
      "1374866 2018-12-31      FDPER                5        R           0.0   319.0\n",
      "1374867 2018-12-31      FDPER                5        A           0.0    70.0\n",
      "1374868 2018-12-31      FDKOT                5        F           0.0     1.0\n",
      "1374869 2018-12-31      FDMHI                5        F           0.0    44.0\n",
      "1374870 2018-12-31      FDMHI                5        F           0.0    22.0\n",
      "1374871 2018-12-31      FDMHI                5        F           0.0    66.0\n",
      "1374872 2018-12-31      FDNIT                5        P           0.0    52.0\n",
      "1374873 2018-12-31      DBNUG                2        F           0.0    18.0\n",
      "1374874 2018-12-31      DBNUG                2        F           0.0    18.0\n",
      "1374875 2018-12-31      DBNUG                2        F           0.0    54.0\n",
      "1374876 2018-12-31      FDJAF                5        D           0.0     1.0\n",
      "1374877 2018-12-31      FDKOT                5        F           0.0     4.0\n",
      "1374878 2018-12-31      FDKOT                5        F           0.0     3.0\n",
      "1374879 2018-12-31      FDJAF                5        D           1.0  2200.0\n",
      "1374880 2018-12-31      FDJAF                5        F           0.0    38.0\n",
      "1374881 2018-12-31      DBNUG                2        P           0.0    22.0\n",
      "1374882 2018-12-31      DELUN                3        P           1.0   384.0\n",
      "1374883 2018-12-31      DELUN                2        R           0.0   960.0\n",
      "1374884 2018-12-31      DELUN                3        P           0.0  1100.0\n",
      "1374885 2018-12-31      DELUN                3        P           0.0  2200.0\n",
      "1374886 2018-12-31      DELUN                3        P           0.0   384.0\n",
      "1374887 2018-12-31      DELUN                3        P           0.0   384.0\n",
      "1374888 2018-12-31      DELUN                3        P           0.0   384.0\n",
      "\n",
      "[1374889 rows x 6 columns]\n"
     ]
    }
   ],
   "source": [
    "del (WallTiles_data['GroupCat'])  # Remove the unwanted column\n",
    "print (WallTiles_data)"
   ]
  },
  {
   "cell_type": "code",
   "execution_count": 4,
   "metadata": {},
   "outputs": [
    {
     "data": {
      "text/plain": [
       "count    1364983.000000\n",
       "mean           8.609251\n",
       "std           18.105147\n",
       "min          -35.000000\n",
       "25%            0.000000\n",
       "50%            0.000000\n",
       "75%            8.500000\n",
       "max          100.000000\n",
       "Name: DiscountPcnt, dtype: object"
      ]
     },
     "execution_count": 4,
     "metadata": {},
     "output_type": "execute_result"
    }
   ],
   "source": [
    "WallTiles_data['DiscountPcnt'].describe().apply(lambda x: format(x, 'f'))"
   ]
  },
  {
   "cell_type": "code",
   "execution_count": 5,
   "metadata": {},
   "outputs": [
    {
     "data": {
      "text/plain": [
       "count    1374889.000000\n",
       "mean         279.013375\n",
       "std         1074.081773\n",
       "min            1.000000\n",
       "25%           12.000000\n",
       "50%           45.000000\n",
       "75%          158.000000\n",
       "max       165088.000000\n",
       "Name: QTY, dtype: object"
      ]
     },
     "execution_count": 5,
     "metadata": {},
     "output_type": "execute_result"
    }
   ],
   "source": [
    "WallTiles_data['QTY'].describe().apply(lambda x: format(x, 'f'))"
   ]
  },
  {
   "cell_type": "code",
   "execution_count": 4,
   "metadata": {},
   "outputs": [],
   "source": [
    "WallTiles_data = WallTiles_data[(WallTiles_data.SalesPoint != 'DELUN')]\n",
    "WallTiles_data = WallTiles_data[(WallTiles_data.SalesPoint != 'LWSR ')]"
   ]
  },
  {
   "cell_type": "code",
   "execution_count": 110,
   "metadata": {},
   "outputs": [
    {
     "name": "stdout",
     "output_type": "stream",
     "text": [
      "['A', 'B', 'C', 'D', 'E', 'F', 'G', 'H', 'I', 'K', 'L', 'P', 'Q', 'R', 'S', 'T', 'V', 'W', 'Y', 'p']\n"
     ]
    },
    {
     "data": {
      "text/plain": [
       "20"
      ]
     },
     "execution_count": 110,
     "metadata": {},
     "output_type": "execute_result"
    }
   ],
   "source": [
    "x=sorted(WallTiles_data.ItemSize.unique())\n",
    "print (x)\n",
    "len(x)"
   ]
  },
  {
   "cell_type": "code",
   "execution_count": 111,
   "metadata": {},
   "outputs": [
    {
     "name": "stdout",
     "output_type": "stream",
     "text": [
      "[-1, 1, 2, 4, 5, 7]\n"
     ]
    },
    {
     "data": {
      "text/plain": [
       "6"
      ]
     },
     "execution_count": 111,
     "metadata": {},
     "output_type": "execute_result"
    }
   ],
   "source": [
    "y=sorted(WallTiles_data.SalesChannelKey.unique())\n",
    "print (y)\n",
    "len(y)"
   ]
  },
  {
   "cell_type": "code",
   "execution_count": 5,
   "metadata": {},
   "outputs": [
    {
     "name": "stdout",
     "output_type": "stream",
     "text": [
      "137\n"
     ]
    }
   ],
   "source": [
    "wall_names = WallTiles_data['SalesPoint'].unique().tolist()   # Salaepoints names\n",
    "print (len(wall_names))"
   ]
  },
  {
   "cell_type": "code",
   "execution_count": 113,
   "metadata": {},
   "outputs": [
    {
     "name": "stdout",
     "output_type": "stream",
     "text": [
      "['FDKEG', 'FDPND', 'FDHOR', 'KDSR ', 'CAPEL', 'FDJAF', 'FDMTL', 'FDMON', 'FDALU', 'FDGAP', 'FDAVI', 'FDJAE', 'CABLM', 'FDMTU', 'FDJFN', 'FDWAT', 'FDAMB', 'FDNIT', 'CADAM', 'FDMAG', 'CARAP', 'FDMOT', 'CAGOG', 'CAKAN', 'FDWAP', 'FDPER', 'CAMAT', 'FDWAR', 'FDMAL', 'FDDAM', 'FDVAV', 'FDKAD', 'FDCHI', 'FDGAM', 'FDKUR', 'FDWEL', 'FDAMT', 'FDEMB', 'RS001', 'FDBA1', 'FDMIN', 'FDBAD', 'JWSR ', 'FDNEG', 'FDGAL', 'RS002', 'FDWEN', 'FDKDW', 'FDJEL', 'FDRAT', 'FDBA2', 'FDBAL', 'MESR ', 'FDMHI', 'LPMEG', 'FDKOT', 'LPSAH', 'FDAMP', 'DBRAT', 'LPLAS', 'LPWES', 'LPSAD', 'LPWLH', 'LPSAM', 'DBNUG', 'LPSTA', 'LPSWA', 'LPALU', 'LPROY', 'LPSNF', 'LPNWC', 'DBPIL', 'LPNEW', 'LPAKW', 'LPSRW', 'LPLTW', 'LPMDW', 'LPMTW', 'LPMEW', 'LPNAW', 'LPCGW', 'LPABE', 'LPUMA', 'DBNAW', 'LPORI', 'LPWCW', 'LPMH3', 'DBGAL', 'LPTC2', 'FDBDU', 'LPWH1', 'DBJF1', 'DBKIR', 'DBJF2', 'LPAS1', 'LPVP2', 'LPJAH', 'LPH11', 'LPH21', 'DBANU', 'LPSC4', 'DBNEG', 'DBDIG', 'DBALU', 'DBKEG', 'DBHOR', 'LPWIC', 'DBCOL', 'DBSAM', 'DBANG', 'LPUC2', 'DBKUR', 'DBPER', 'DBMHI', 'DBTHI', 'DBHAN', 'DBMTU', 'FDCHW', 'DBMAT', 'DBWEN', 'DBDAM', 'FDKAL', 'FDMAT', 'DBVAV', 'DBRAP', 'DBNAR', 'LPNKC', 'FDKAN', 'DBBAN', 'CAMTG', 'FDHRN', 'CAEHE', 'FDAVS', 'DBCO2', 'FDKLT', 'DBCO3', 'DBVAU']\n"
     ]
    }
   ],
   "source": [
    "print (wall_names)"
   ]
  },
  {
   "cell_type": "code",
   "execution_count": 6,
   "metadata": {},
   "outputs": [
    {
     "name": "stdout",
     "output_type": "stream",
     "text": [
      "['CABLM', 'CADAM', 'CAEHE', 'CAGOG', 'CAKAN', 'CAMAT', 'CAMTG', 'CAPEL', 'CARAP', 'DBALU', 'DBANG', 'DBANU', 'DBBAN', 'DBCO2', 'DBCO3', 'DBCOL', 'DBDAM', 'DBDIG', 'DBGAL', 'DBHAN', 'DBHOR', 'DBJF1', 'DBJF2', 'DBKEG', 'DBKIR', 'DBKUR', 'DBMAT', 'DBMHI', 'DBMTU', 'DBNAR', 'DBNAW', 'DBNEG', 'DBNUG', 'DBPER', 'DBPIL', 'DBRAP', 'DBRAT', 'DBSAM', 'DBTHI', 'DBVAU', 'DBVAV', 'DBWEN', 'FDALU', 'FDAMB', 'FDAMP', 'FDAMT', 'FDAVI', 'FDAVS', 'FDBA1', 'FDBA2', 'FDBAD', 'FDBAL', 'FDBDU', 'FDCHI', 'FDCHW', 'FDDAM', 'FDEMB', 'FDGAL', 'FDGAM', 'FDGAP', 'FDHOR', 'FDHRN', 'FDJAE', 'FDJAF', 'FDJEL', 'FDJFN', 'FDKAD', 'FDKAL', 'FDKAN', 'FDKDW', 'FDKEG', 'FDKLT', 'FDKOT', 'FDKUR', 'FDMAG', 'FDMAL', 'FDMAT', 'FDMHI', 'FDMIN', 'FDMON', 'FDMOT', 'FDMTL', 'FDMTU', 'FDNEG', 'FDNIT', 'FDPER', 'FDPND', 'FDRAT', 'FDVAV', 'FDWAP', 'FDWAR', 'FDWAT', 'FDWEL', 'FDWEN', 'JWSR ', 'KDSR ', 'LPABE', 'LPAKW', 'LPALU', 'LPAS1', 'LPCGW', 'LPH11', 'LPH21', 'LPJAH', 'LPLAS', 'LPLTW', 'LPMDW', 'LPMEG', 'LPMEW', 'LPMH3', 'LPMTW', 'LPNAW', 'LPNEW', 'LPNKC', 'LPNWC', 'LPORI', 'LPROY', 'LPSAD', 'LPSAH', 'LPSAM', 'LPSC4', 'LPSNF', 'LPSRW', 'LPSTA', 'LPSWA', 'LPTC2', 'LPUC2', 'LPUMA', 'LPVP2', 'LPWCW', 'LPWES', 'LPWH1', 'LPWIC', 'LPWLH', 'MESR ', 'RS001', 'RS002']\n"
     ]
    }
   ],
   "source": [
    "wall_names = sorted(wall_names)   # Sort the names\n",
    "print (wall_names)"
   ]
  },
  {
   "cell_type": "code",
   "execution_count": 7,
   "metadata": {},
   "outputs": [
    {
     "name": "stdout",
     "output_type": "stream",
     "text": [
      "end\n"
     ]
    }
   ],
   "source": [
    "wall_datas = {}\n",
    "for i, g in WallTiles_data.groupby('SalesPoint'):\n",
    "    wall_datas.update({'wall_' + str(i) : g.reset_index(drop=True)})  # Create dataframes for each salespoint inside a dictionary\n",
    "print ('end')"
   ]
  },
  {
   "cell_type": "code",
   "execution_count": 116,
   "metadata": {},
   "outputs": [
    {
     "name": "stdout",
     "output_type": "stream",
     "text": [
      "dict_keys(['wall_CABLM', 'wall_CADAM', 'wall_CAEHE', 'wall_CAGOG', 'wall_CAKAN', 'wall_CAMAT', 'wall_CAMTG', 'wall_CAPEL', 'wall_CARAP', 'wall_DBALU', 'wall_DBANG', 'wall_DBANU', 'wall_DBBAN', 'wall_DBCO2', 'wall_DBCO3', 'wall_DBCOL', 'wall_DBDAM', 'wall_DBDIG', 'wall_DBGAL', 'wall_DBHAN', 'wall_DBHOR', 'wall_DBJF1', 'wall_DBJF2', 'wall_DBKEG', 'wall_DBKIR', 'wall_DBKUR', 'wall_DBMAT', 'wall_DBMHI', 'wall_DBMTU', 'wall_DBNAR', 'wall_DBNAW', 'wall_DBNEG', 'wall_DBNUG', 'wall_DBPER', 'wall_DBPIL', 'wall_DBRAP', 'wall_DBRAT', 'wall_DBSAM', 'wall_DBTHI', 'wall_DBVAU', 'wall_DBVAV', 'wall_DBWEN', 'wall_FDALU', 'wall_FDAMB', 'wall_FDAMP', 'wall_FDAMT', 'wall_FDAVI', 'wall_FDAVS', 'wall_FDBA1', 'wall_FDBA2', 'wall_FDBAD', 'wall_FDBAL', 'wall_FDBDU', 'wall_FDCHI', 'wall_FDCHW', 'wall_FDDAM', 'wall_FDEMB', 'wall_FDGAL', 'wall_FDGAM', 'wall_FDGAP', 'wall_FDHOR', 'wall_FDHRN', 'wall_FDJAE', 'wall_FDJAF', 'wall_FDJEL', 'wall_FDJFN', 'wall_FDKAD', 'wall_FDKAL', 'wall_FDKAN', 'wall_FDKDW', 'wall_FDKEG', 'wall_FDKLT', 'wall_FDKOT', 'wall_FDKUR', 'wall_FDMAG', 'wall_FDMAL', 'wall_FDMAT', 'wall_FDMHI', 'wall_FDMIN', 'wall_FDMON', 'wall_FDMOT', 'wall_FDMTL', 'wall_FDMTU', 'wall_FDNEG', 'wall_FDNIT', 'wall_FDPER', 'wall_FDPND', 'wall_FDRAT', 'wall_FDVAV', 'wall_FDWAP', 'wall_FDWAR', 'wall_FDWAT', 'wall_FDWEL', 'wall_FDWEN', 'wall_JWSR ', 'wall_KDSR ', 'wall_LPABE', 'wall_LPAKW', 'wall_LPALU', 'wall_LPAS1', 'wall_LPCGW', 'wall_LPH11', 'wall_LPH21', 'wall_LPJAH', 'wall_LPLAS', 'wall_LPLTW', 'wall_LPMDW', 'wall_LPMEG', 'wall_LPMEW', 'wall_LPMH3', 'wall_LPMTW', 'wall_LPNAW', 'wall_LPNEW', 'wall_LPNKC', 'wall_LPNWC', 'wall_LPORI', 'wall_LPROY', 'wall_LPSAD', 'wall_LPSAH', 'wall_LPSAM', 'wall_LPSC4', 'wall_LPSNF', 'wall_LPSRW', 'wall_LPSTA', 'wall_LPSWA', 'wall_LPTC2', 'wall_LPUC2', 'wall_LPUMA', 'wall_LPVP2', 'wall_LPWCW', 'wall_LPWES', 'wall_LPWH1', 'wall_LPWIC', 'wall_LPWLH', 'wall_MESR ', 'wall_RS001', 'wall_RS002'])\n"
     ]
    }
   ],
   "source": [
    "print (wall_datas.keys())"
   ]
  },
  {
   "cell_type": "code",
   "execution_count": 8,
   "metadata": {},
   "outputs": [
    {
     "name": "stdout",
     "output_type": "stream",
     "text": [
      "137\n"
     ]
    }
   ],
   "source": [
    "print (len(wall_datas.keys()))"
   ]
  },
  {
   "cell_type": "code",
   "execution_count": 11,
   "metadata": {},
   "outputs": [
    {
     "name": "stdout",
     "output_type": "stream",
     "text": [
      "11649\n"
     ]
    }
   ],
   "source": [
    "#print (len(wall_datas['wall_FDHOR']))"
   ]
  },
  {
   "cell_type": "code",
   "execution_count": 24,
   "metadata": {},
   "outputs": [
    {
     "ename": "KeyError",
     "evalue": "'Isweek 53'",
     "output_type": "error",
     "traceback": [
      "\u001b[1;31m---------------------------------------------------------------------------\u001b[0m",
      "\u001b[1;31mKeyError\u001b[0m                                  Traceback (most recent call last)",
      "\u001b[1;32mC:\\ProgramData\\Anaconda3\\lib\\site-packages\\pandas\\core\\indexes\\base.py\u001b[0m in \u001b[0;36mget_loc\u001b[1;34m(self, key, method, tolerance)\u001b[0m\n\u001b[0;32m   2656\u001b[0m             \u001b[1;32mtry\u001b[0m\u001b[1;33m:\u001b[0m\u001b[1;33m\u001b[0m\u001b[1;33m\u001b[0m\u001b[0m\n\u001b[1;32m-> 2657\u001b[1;33m                 \u001b[1;32mreturn\u001b[0m \u001b[0mself\u001b[0m\u001b[1;33m.\u001b[0m\u001b[0m_engine\u001b[0m\u001b[1;33m.\u001b[0m\u001b[0mget_loc\u001b[0m\u001b[1;33m(\u001b[0m\u001b[0mkey\u001b[0m\u001b[1;33m)\u001b[0m\u001b[1;33m\u001b[0m\u001b[1;33m\u001b[0m\u001b[0m\n\u001b[0m\u001b[0;32m   2658\u001b[0m             \u001b[1;32mexcept\u001b[0m \u001b[0mKeyError\u001b[0m\u001b[1;33m:\u001b[0m\u001b[1;33m\u001b[0m\u001b[1;33m\u001b[0m\u001b[0m\n",
      "\u001b[1;32mpandas/_libs/index.pyx\u001b[0m in \u001b[0;36mpandas._libs.index.IndexEngine.get_loc\u001b[1;34m()\u001b[0m\n",
      "\u001b[1;32mpandas/_libs/index.pyx\u001b[0m in \u001b[0;36mpandas._libs.index.IndexEngine.get_loc\u001b[1;34m()\u001b[0m\n",
      "\u001b[1;32mpandas/_libs/hashtable_class_helper.pxi\u001b[0m in \u001b[0;36mpandas._libs.hashtable.PyObjectHashTable.get_item\u001b[1;34m()\u001b[0m\n",
      "\u001b[1;32mpandas/_libs/hashtable_class_helper.pxi\u001b[0m in \u001b[0;36mpandas._libs.hashtable.PyObjectHashTable.get_item\u001b[1;34m()\u001b[0m\n",
      "\u001b[1;31mKeyError\u001b[0m: 'Isweek 53'",
      "\nDuring handling of the above exception, another exception occurred:\n",
      "\u001b[1;31mKeyError\u001b[0m                                  Traceback (most recent call last)",
      "\u001b[1;32m<ipython-input-24-5f771d09e7aa>\u001b[0m in \u001b[0;36m<module>\u001b[1;34m\u001b[0m\n\u001b[0;32m    216\u001b[0m     \u001b[0mwall_sp_num\u001b[0m \u001b[1;33m+=\u001b[0m \u001b[1;36m1\u001b[0m\u001b[1;33m\u001b[0m\u001b[1;33m\u001b[0m\u001b[0m\n\u001b[0;32m    217\u001b[0m \u001b[1;33m\u001b[0m\u001b[0m\n\u001b[1;32m--> 218\u001b[1;33m \u001b[1;32mdel\u001b[0m \u001b[1;33m(\u001b[0m\u001b[0mwallFeature_matrix\u001b[0m\u001b[1;33m[\u001b[0m\u001b[1;34m'Isweek 53'\u001b[0m\u001b[1;33m]\u001b[0m\u001b[1;33m)\u001b[0m\u001b[1;33m\u001b[0m\u001b[1;33m\u001b[0m\u001b[0m\n\u001b[0m",
      "\u001b[1;32mC:\\ProgramData\\Anaconda3\\lib\\site-packages\\pandas\\core\\generic.py\u001b[0m in \u001b[0;36m__delitem__\u001b[1;34m(self, key)\u001b[0m\n\u001b[0;32m   3313\u001b[0m             \u001b[1;31m# there was no match, this call should raise the appropriate\u001b[0m\u001b[1;33m\u001b[0m\u001b[1;33m\u001b[0m\u001b[1;33m\u001b[0m\u001b[0m\n\u001b[0;32m   3314\u001b[0m             \u001b[1;31m# exception:\u001b[0m\u001b[1;33m\u001b[0m\u001b[1;33m\u001b[0m\u001b[1;33m\u001b[0m\u001b[0m\n\u001b[1;32m-> 3315\u001b[1;33m             \u001b[0mself\u001b[0m\u001b[1;33m.\u001b[0m\u001b[0m_data\u001b[0m\u001b[1;33m.\u001b[0m\u001b[0mdelete\u001b[0m\u001b[1;33m(\u001b[0m\u001b[0mkey\u001b[0m\u001b[1;33m)\u001b[0m\u001b[1;33m\u001b[0m\u001b[1;33m\u001b[0m\u001b[0m\n\u001b[0m\u001b[0;32m   3316\u001b[0m \u001b[1;33m\u001b[0m\u001b[0m\n\u001b[0;32m   3317\u001b[0m         \u001b[1;31m# delete from the caches\u001b[0m\u001b[1;33m\u001b[0m\u001b[1;33m\u001b[0m\u001b[1;33m\u001b[0m\u001b[0m\n",
      "\u001b[1;32mC:\\ProgramData\\Anaconda3\\lib\\site-packages\\pandas\\core\\internals\\managers.py\u001b[0m in \u001b[0;36mdelete\u001b[1;34m(self, item)\u001b[0m\n\u001b[0;32m    983\u001b[0m         \u001b[0mDelete\u001b[0m \u001b[0mselected\u001b[0m \u001b[0mitem\u001b[0m \u001b[1;33m(\u001b[0m\u001b[0mitems\u001b[0m \u001b[1;32mif\u001b[0m \u001b[0mnon\u001b[0m\u001b[1;33m-\u001b[0m\u001b[0munique\u001b[0m\u001b[1;33m)\u001b[0m \u001b[1;32min\u001b[0m\u001b[1;33m-\u001b[0m\u001b[0mplace\u001b[0m\u001b[1;33m.\u001b[0m\u001b[1;33m\u001b[0m\u001b[1;33m\u001b[0m\u001b[0m\n\u001b[0;32m    984\u001b[0m         \"\"\"\n\u001b[1;32m--> 985\u001b[1;33m         \u001b[0mindexer\u001b[0m \u001b[1;33m=\u001b[0m \u001b[0mself\u001b[0m\u001b[1;33m.\u001b[0m\u001b[0mitems\u001b[0m\u001b[1;33m.\u001b[0m\u001b[0mget_loc\u001b[0m\u001b[1;33m(\u001b[0m\u001b[0mitem\u001b[0m\u001b[1;33m)\u001b[0m\u001b[1;33m\u001b[0m\u001b[1;33m\u001b[0m\u001b[0m\n\u001b[0m\u001b[0;32m    986\u001b[0m \u001b[1;33m\u001b[0m\u001b[0m\n\u001b[0;32m    987\u001b[0m         \u001b[0mis_deleted\u001b[0m \u001b[1;33m=\u001b[0m \u001b[0mnp\u001b[0m\u001b[1;33m.\u001b[0m\u001b[0mzeros\u001b[0m\u001b[1;33m(\u001b[0m\u001b[0mself\u001b[0m\u001b[1;33m.\u001b[0m\u001b[0mshape\u001b[0m\u001b[1;33m[\u001b[0m\u001b[1;36m0\u001b[0m\u001b[1;33m]\u001b[0m\u001b[1;33m,\u001b[0m \u001b[0mdtype\u001b[0m\u001b[1;33m=\u001b[0m\u001b[0mnp\u001b[0m\u001b[1;33m.\u001b[0m\u001b[0mbool_\u001b[0m\u001b[1;33m)\u001b[0m\u001b[1;33m\u001b[0m\u001b[1;33m\u001b[0m\u001b[0m\n",
      "\u001b[1;32mC:\\ProgramData\\Anaconda3\\lib\\site-packages\\pandas\\core\\indexes\\base.py\u001b[0m in \u001b[0;36mget_loc\u001b[1;34m(self, key, method, tolerance)\u001b[0m\n\u001b[0;32m   2657\u001b[0m                 \u001b[1;32mreturn\u001b[0m \u001b[0mself\u001b[0m\u001b[1;33m.\u001b[0m\u001b[0m_engine\u001b[0m\u001b[1;33m.\u001b[0m\u001b[0mget_loc\u001b[0m\u001b[1;33m(\u001b[0m\u001b[0mkey\u001b[0m\u001b[1;33m)\u001b[0m\u001b[1;33m\u001b[0m\u001b[1;33m\u001b[0m\u001b[0m\n\u001b[0;32m   2658\u001b[0m             \u001b[1;32mexcept\u001b[0m \u001b[0mKeyError\u001b[0m\u001b[1;33m:\u001b[0m\u001b[1;33m\u001b[0m\u001b[1;33m\u001b[0m\u001b[0m\n\u001b[1;32m-> 2659\u001b[1;33m                 \u001b[1;32mreturn\u001b[0m \u001b[0mself\u001b[0m\u001b[1;33m.\u001b[0m\u001b[0m_engine\u001b[0m\u001b[1;33m.\u001b[0m\u001b[0mget_loc\u001b[0m\u001b[1;33m(\u001b[0m\u001b[0mself\u001b[0m\u001b[1;33m.\u001b[0m\u001b[0m_maybe_cast_indexer\u001b[0m\u001b[1;33m(\u001b[0m\u001b[0mkey\u001b[0m\u001b[1;33m)\u001b[0m\u001b[1;33m)\u001b[0m\u001b[1;33m\u001b[0m\u001b[1;33m\u001b[0m\u001b[0m\n\u001b[0m\u001b[0;32m   2660\u001b[0m         \u001b[0mindexer\u001b[0m \u001b[1;33m=\u001b[0m \u001b[0mself\u001b[0m\u001b[1;33m.\u001b[0m\u001b[0mget_indexer\u001b[0m\u001b[1;33m(\u001b[0m\u001b[1;33m[\u001b[0m\u001b[0mkey\u001b[0m\u001b[1;33m]\u001b[0m\u001b[1;33m,\u001b[0m \u001b[0mmethod\u001b[0m\u001b[1;33m=\u001b[0m\u001b[0mmethod\u001b[0m\u001b[1;33m,\u001b[0m \u001b[0mtolerance\u001b[0m\u001b[1;33m=\u001b[0m\u001b[0mtolerance\u001b[0m\u001b[1;33m)\u001b[0m\u001b[1;33m\u001b[0m\u001b[1;33m\u001b[0m\u001b[0m\n\u001b[0;32m   2661\u001b[0m         \u001b[1;32mif\u001b[0m \u001b[0mindexer\u001b[0m\u001b[1;33m.\u001b[0m\u001b[0mndim\u001b[0m \u001b[1;33m>\u001b[0m \u001b[1;36m1\u001b[0m \u001b[1;32mor\u001b[0m \u001b[0mindexer\u001b[0m\u001b[1;33m.\u001b[0m\u001b[0msize\u001b[0m \u001b[1;33m>\u001b[0m \u001b[1;36m1\u001b[0m\u001b[1;33m:\u001b[0m\u001b[1;33m\u001b[0m\u001b[1;33m\u001b[0m\u001b[0m\n",
      "\u001b[1;32mpandas/_libs/index.pyx\u001b[0m in \u001b[0;36mpandas._libs.index.IndexEngine.get_loc\u001b[1;34m()\u001b[0m\n",
      "\u001b[1;32mpandas/_libs/index.pyx\u001b[0m in \u001b[0;36mpandas._libs.index.IndexEngine.get_loc\u001b[1;34m()\u001b[0m\n",
      "\u001b[1;32mpandas/_libs/hashtable_class_helper.pxi\u001b[0m in \u001b[0;36mpandas._libs.hashtable.PyObjectHashTable.get_item\u001b[1;34m()\u001b[0m\n",
      "\u001b[1;32mpandas/_libs/hashtable_class_helper.pxi\u001b[0m in \u001b[0;36mpandas._libs.hashtable.PyObjectHashTable.get_item\u001b[1;34m()\u001b[0m\n",
      "\u001b[1;31mKeyError\u001b[0m: 'Isweek 53'"
     ]
    },
    {
     "data": {
      "image/png": "[encoded data removed]",
      "text/plain": [
       "<Figure size 720x504 with 1 Axes>"
      ]
     },
     "metadata": {
      "needs_background": "light"
     },
     "output_type": "display_data"
    }
   ],
   "source": [
    "from sklearn.ensemble import RandomForestRegressor\n",
    "from matplotlib.pylab import rcParams\n",
    "rcParams['figure.figsize'] = 10, 7\n",
    "#plt.figure(figsize = (12, 9))\n",
    "import warnings\n",
    "warnings.filterwarnings('ignore')\n",
    "import seaborn as sns\n",
    "import numpy as np\n",
    "import datetime\n",
    "\n",
    "wallFeature_matrix = pd.DataFrame()\n",
    "wallLabel_matrix = pd.DataFrame()\n",
    "wall_sp_num = 0\n",
    "year_dic = {2013:0, 2014:1, 2015:2, 2016:3, 2017:4, 2018:5, 2019:6}\n",
    "rem_list = list()\n",
    "add_list = list()\n",
    "\n",
    "arr = list()\n",
    "wall_l = ['A','B','C','D','E','F','G','H','I','K','L','P','Q','R','S','T','V','W','Y']\n",
    "\n",
    "for sp in wall_datas.keys():\n",
    "    \n",
    "    ######### Total sales #########\n",
    "    \n",
    "    sales = wall_datas[sp].filter(['CDateTime','QTY'], axis=1)   # extract 2 columns\n",
    "    sales_aggre = sales.groupby('CDateTime').agg({'QTY':'sum'})  # group per day\n",
    "\n",
    "    t_index = pd.DatetimeIndex(start='2013-01-01', end='2018-12-31', freq='1D')\n",
    "    sales_aggre = sales_aggre.reindex(t_index).fillna(0)\n",
    "\n",
    "    sales_aggre = sales_aggre.QTY.resample('W').sum()       # convert daily to weekly\n",
    "    sales_aggre = pd.DataFrame(sales_aggre)\n",
    "    sales_aggre.plot()\n",
    "    break\n",
    "\n",
    "    nonzero_weeks = (sales_aggre['QTY'] != 0).sum()  # Check whether salespoint has data of atleast 24 weeks(6 months). If not, remove that salespoint\n",
    "    if (nonzero_weeks < 24):\n",
    "        rem_list.append(sp)\n",
    "        continue\n",
    "    add_list.append('Is'+sp[5:])\n",
    "    \n",
    "    ################################\n",
    "    \n",
    "    ###### Weeks to New year ######\n",
    "    w1 = sales_aggre.index.week\n",
    "    w2 = list()\n",
    "    yearNow=2013\n",
    "    weeks_per_year=52\n",
    "    newyear_week = datetime.date(2013, 4, 14).isocalendar()[1]  # Find the new year week\n",
    "    con = True\n",
    "    \n",
    "    for i in range(len(w1)):\n",
    "        if (con):\n",
    "            x = newyear_week - w1[i]\n",
    "        else:\n",
    "            x = newyear_week + (weeks_per_year-w1[i])\n",
    "            if (w1[i]==weeks_per_year):\n",
    "                con=True\n",
    "        if (x==0):\n",
    "            weeks_per_year = datetime.date(yearNow, 12, 28).isocalendar()[1]\n",
    "            newyear_week = datetime.date(yearNow+1, 4, 14).isocalendar()[1]\n",
    "            yearNow += 1\n",
    "            con=False\n",
    "        w2.append(x)\n",
    "    ################################\n",
    "    \n",
    "    ###### Weeks to Christmas ######\n",
    "    w3 = list()\n",
    "    yearNow=2013\n",
    "    christmas_week = datetime.date(2013, 12, 25).isocalendar()[1]  # Find the Christmas week\n",
    "    con = True\n",
    "    \n",
    "    for i in range(len(w1)):\n",
    "        if (con==True):\n",
    "            y = christmas_week - w1[i]\n",
    "        else:\n",
    "            y = christmas_week\n",
    "            con=True\n",
    "        if (y==0):\n",
    "            if (w1[i]<datetime.date(yearNow+1, 1, 1).isocalendar()[1]):\n",
    "                con=False\n",
    "            christmas_week = datetime.date(yearNow+1, 12, 25).isocalendar()[1]\n",
    "            yearNow += 1\n",
    "        w3.append(y)\n",
    "    ################################\n",
    "    \n",
    "    ################### Feature matrix & Label matrix ##################\n",
    "    \n",
    "    ################### Year, Month, Week ####################\n",
    "    \n",
    "    wall_features = pd.DataFrame(index=sales_aggre.index)     # wall_features dataframe stores all the features for one salespoint\n",
    "        \n",
    "    wall_features['Year'] = pd.Series(sales_aggre.index.year, index=wall_features.index)     # Year\n",
    "    labelencoder = LabelEncoder()\n",
    "    wall_features.iloc[:, 0] = labelencoder.fit_transform(wall_features.iloc[:, 0])  # Label encoded the year\n",
    "     \n",
    "    df_month = pd.DataFrame(sales_aggre.index.month)                # Month\n",
    "    onehotencoder = OneHotEncoder(categorical_features = [0])\n",
    "    array_month = onehotencoder.fit_transform(df_month).toarray()  # One hot encoded the 12 months\n",
    "    df_month = pd.DataFrame(array_month, columns=['IsJan','IsFeb','IsMar','IsApr','IsMay','IsJun','IsJul','IsAug','IsSep','IsOct','IsNov','IsDec']).astype('int')\n",
    "    df_month.index = wall_features.index\n",
    "    wall_features = pd.concat([wall_features, df_month], axis=1)\n",
    "        \n",
    "    df_week = pd.DataFrame(sales_aggre.index.week)                       # Week\n",
    "    onehotencoder1 = OneHotEncoder(categorical_features = [0])\n",
    "    array_week = onehotencoder.fit_transform(df_week).toarray()  # One hot encoded the 53 weeks\n",
    "    df_week = pd.DataFrame(array_week, columns=[('Isweek '+str(i)) for i in range(1,54)]).astype('int')\n",
    "    df_week.index = wall_features.index\n",
    "    wall_features = pd.concat([wall_features, df_week], axis=1)\n",
    "    \n",
    "    ##########################################################\n",
    "    \n",
    "    wall_features['WeeksToNewyear'] = w2    \n",
    "    wall_features['WeeksToChristmas'] = w3\n",
    "    \n",
    "    ################ Channel behavior & QTYs ################\n",
    "    \n",
    "    subFrame = wall_datas[sp].filter(['CDateTime','SalesChannelKey','ItemSize','QTY'], axis=1)    # extract 4 columns\n",
    "    weeks = [g for n, g in subFrame.set_index('CDateTime').groupby(pd.Grouper(freq='W'))]    # create weekly dataframes\n",
    "    start_year = (subFrame['CDateTime'].dt.year).iloc[0]\n",
    "    start_week_of_year = (subFrame['CDateTime'].dt.week).iloc[0]\n",
    "    weeks_of_before_years = 0\n",
    "    \n",
    "    for i in range(0, year_dic[start_year]):\n",
    "        weeks_per_year = datetime.date(list(year_dic.keys())[list(year_dic.values()).index(i)], 12, 28).isocalendar()[1]  #list(year_dic.keys())[list(year_dic.values()).index(0)]\n",
    "        weeks_of_before_years = weeks_of_before_years + weeks_per_year\n",
    "    start_week = weeks_of_before_years + start_week_of_year\n",
    "    print (wall_sp_num+1, sp, start_week)\n",
    "        \n",
    "    #counts = [[weeks[i]['SalesChannelKey'].value_counts(normalize=True)] for i in range(len(weeks))]     # customer cat. percents for each week\n",
    "    \n",
    "    wall_chan = np.zeros((sales_aggre.shape[0], 11))       # matrix for store channel percentages for each week (one salespoint)\n",
    "    \n",
    "    wall_keys = ['WallTiles A','WallTiles B','WallTiles C','WallTiles D','WallTiles E','WallTiles F','WallTiles G','WallTiles H','WallTiles I',\n",
    "                'WallTiles K','WallTiles L','WallTiles P','WallTiles Q','WallTiles R','WallTiles S','WallTiles T',\n",
    "                'WallTiles V','WallTiles W','WallTiles Y']\n",
    "    \n",
    "    wall_dic = dict.fromkeys(wall_keys, None)      # dictionary for store QTY of group categories(labels) for each week (one salespoint)\n",
    "    for key in wall_keys:\n",
    "        wall_dic[key] = [0]*len(sales_aggre)    \n",
    "        \n",
    "    ############# Channel behavior ##############\n",
    "    \n",
    "    for week in range(len(weeks)):\n",
    "        \n",
    "        counts = [weeks[week]['SalesChannelKey'].value_counts(normalize=True)]  # Give channel percentages for week \n",
    "        countPcnt = counts[0].tolist()  # Percentage values\n",
    "        cusCat = counts[0].index   # Channel names\n",
    "        \n",
    "        for i in range(len(cusCat)):\n",
    "            wall_chan[start_week-1][int(cusCat[i])+1] = countPcnt[i]      # add percentages to a matrix\n",
    "            \n",
    "    ##############################################\n",
    "            \n",
    "    ###### QTY for group categories(labels) ######\n",
    "        \n",
    "        wall_table = pd.pivot_table(weeks[week], values='QTY', index=['ItemSize'], aggfunc=sum)  # Give total QTY for each wall tile sizes(for week)\n",
    "\n",
    "        for wall in wall_table.index:\n",
    "            wall_dic['WallTiles '+wall.upper()][start_week-1] = wall_dic['WallTiles '+wall.upper()][start_week-1] + wall_table.xs((wall))[0] # Store total QTYs in a dictioanary\n",
    "        \n",
    "        start_week += 1\n",
    "    \n",
    "    wall_labels = pd.DataFrame.from_dict(wall_dic)  # outputs dataframe for salespoint\n",
    "    '''\n",
    "    ############\n",
    "    dfstd=pd.DataFrame(wall_labels.std())\n",
    "    for i in range(19):\n",
    "        arr.append(dfstd.values.tolist()[i][0])\n",
    "    \n",
    "    plt.plot(wall_l, arr)\n",
    "    plt.title('Salespoint '+sp[5:])\n",
    "    plt.xlabel('Wall tile type')\n",
    "    plt.ylabel('Standard deviation')\n",
    "    plt.show()\n",
    "    arr = list()\n",
    "    ############\n",
    "    '''\n",
    "    wallLabel_matrix = pd.concat([wallLabel_matrix, wall_labels])     # matrix for store labels of all salespoints\n",
    "    \n",
    "    ##############################################\n",
    "    \n",
    "    Sales_channels = ['Other','Other1','Consignment Agent','Distributors','Direct Dealers/Colombo Dealers','Direct Sales','Franchise Dealers',\n",
    "                      'Lanka Tiles Plus','Projects','Royal Sales','Regional Sales']\n",
    "    \n",
    "    for i in range(11):\n",
    "        wall_features[Sales_channels[i]] = wall_chan[:, i]  # Add channel percentage features\n",
    "        \n",
    "    del wall_features[Sales_channels[1]]  # These deleted channels haven't data\n",
    "    del wall_features[Sales_channels[4]]\n",
    "    del wall_features[Sales_channels[7]]\n",
    "    del wall_features[Sales_channels[9]]\n",
    "    del wall_features[Sales_channels[10]]\n",
    "    \n",
    "    ########################################################\n",
    "    \n",
    "    ################### Invoice discount ###################\n",
    "    \n",
    "    wall_invDiscount = wall_datas[sp].filter(['CDateTime','DiscountPcnt'], axis=1)   # extract date and invoice discount columns\n",
    "    wall_invDiscount_aggre = wall_invDiscount.groupby('CDateTime').agg({'DiscountPcnt':'mean'})  # Group per day\n",
    "    \n",
    "    wall_invDiscount_aggre = wall_invDiscount_aggre.reindex(t_index).fillna(0)\n",
    "    wall_invDiscount_aggre = wall_invDiscount_aggre.DiscountPcnt.resample('W').mean()       # convert daily to weekly\n",
    "    \n",
    "    wall_features['Invoice Discount'] = wall_invDiscount_aggre     # invoice discount\n",
    "    \n",
    "    ########################################################\n",
    "\n",
    "    wall_sales_p = [wall_sp_num] * len(sales_aggre)\n",
    "    wall_features['Salespoint'] = wall_sales_p      # Add salespoint name as a feature until doing one hot encoding for salespoint names\n",
    "    \n",
    "    wall_features['QTY_sum'] = sales_aggre['QTY']  # Total sales for the week\n",
    "\n",
    "    wallFeature_matrix = pd.concat([wallFeature_matrix, wall_features])    # matrix for store features of all salespoints\n",
    "    \n",
    "    wall_sp_num += 1\n",
    "\n",
    "del (wallFeature_matrix['Isweek 53'])"
   ]
  },
  {
   "cell_type": "code",
   "execution_count": 70,
   "metadata": {},
   "outputs": [
    {
     "name": "stdout",
     "output_type": "stream",
     "text": [
      "[[2.46229444e+03 5.64842289e+02 7.12712210e+01 ... 8.49824421e+03\n",
      "  7.90065707e+00 1.34795971e+03]\n",
      " [8.88961461e+01 3.49886242e+00 0.00000000e+00 ... 5.29600518e+02\n",
      "  0.00000000e+00 0.00000000e+00]\n",
      " [2.86208876e+01 0.00000000e+00 0.00000000e+00 ... 2.80741672e+02\n",
      "  0.00000000e+00 0.00000000e+00]\n",
      " ...\n",
      " [1.07653091e+04 3.46160090e+02 0.00000000e+00 ... 7.92045742e+03\n",
      "  9.79710090e+02 0.00000000e+00]\n",
      " [2.45375751e+02 5.64332648e-02 0.00000000e+00 ... 1.46435042e+03\n",
      "  0.00000000e+00 0.00000000e+00]\n",
      " [3.73751739e+04 5.19093916e+02 7.96810965e-02 ... 8.64590106e+04\n",
      "  4.72111533e+03 2.74697619e+00]]\n"
     ]
    }
   ],
   "source": [
    "'''\n",
    "numpy_fullArr = np.array(fullArr)\n",
    "print (numpy_fullArr)\n",
    "numpy_fullArrVar = np.array(fullArrVar)\n",
    "print (numpy_fullArrVar)\n",
    "\n",
    "l = [i for i in range(1,91)]\n",
    "for i in range(21):\n",
    "    plt.plot(l, numpy_fullArr[:,i])\n",
    "    plt.show()\n",
    "'''"
   ]
  },
  {
   "cell_type": "code",
   "execution_count": 15,
   "metadata": {},
   "outputs": [],
   "source": [
    "############### Salespoint columns ###############\n",
    "\n",
    "walldf_sp = pd.DataFrame(wallFeature_matrix['Salespoint'].values)\n",
    "onehotencoder2 = OneHotEncoder(categorical_features = [0])\n",
    "wallarray_sp = onehotencoder2.fit_transform(walldf_sp).toarray()  # One hot encoded the salespoint column\n",
    "walldf_sp = pd.DataFrame(wallarray_sp, columns=add_list).astype('int')\n",
    "walldf_sp.index = wallFeature_matrix.index\n",
    "wallFeature_matrix = pd.concat([wallFeature_matrix, walldf_sp], axis=1)\n",
    "del wallFeature_matrix['Salespoint']\n",
    "\n",
    "##################################################\n",
    "\n",
    "wallLabel_matrix.index = wallFeature_matrix.index\n",
    "#print (wallFeature_matrix)\n",
    "#print (wallLabel_matrix)\n",
    "#print (label_matrix.loc[:, 'ACCESSORIES':'TIMBER - PARQUE'])\n",
    "#print (label_matrix.loc[:, 'FloorTiles A':'FloorTiles Y'])\n",
    "#print (label_matrix.loc[:, 'WallTiles A':'WallTiles Y'])"
   ]
  },
  {
   "cell_type": "code",
   "execution_count": 120,
   "metadata": {},
   "outputs": [
    {
     "name": "stdout",
     "output_type": "stream",
     "text": [
      "            WallTiles A  WallTiles B  WallTiles C  WallTiles D  WallTiles E  \\\n",
      "2013-01-06          0.0          0.0         30.0       5613.0          0.0   \n",
      "2013-01-13          0.0          0.0          0.0       6487.0          0.0   \n",
      "2013-01-20          0.0          0.0          0.0       4396.0          0.0   \n",
      "2013-01-27          0.0          0.0          0.0       3589.0          0.0   \n",
      "2013-02-03          0.0          0.0          0.0       4690.0          0.0   \n",
      "...                 ...          ...          ...          ...          ...   \n",
      "2018-12-09          0.0          0.0          0.0          0.0          0.0   \n",
      "2018-12-16          0.0          0.0          0.0          0.0          0.0   \n",
      "2018-12-23          0.0          0.0          0.0          0.0          0.0   \n",
      "2018-12-30          0.0          0.0          0.0          0.0          0.0   \n",
      "2019-01-06          0.0          0.0          0.0          0.0          0.0   \n",
      "\n",
      "            WallTiles F  WallTiles G  WallTiles H  WallTiles I  WallTiles K  \\\n",
      "2013-01-06          0.0        147.0          0.0          0.0          0.0   \n",
      "2013-01-13          0.0          7.0         75.0        130.0          0.0   \n",
      "2013-01-20          0.0       1174.0          0.0        159.0          0.0   \n",
      "2013-01-27          0.0        422.0        438.0          0.0          0.0   \n",
      "2013-02-03          0.0        521.0          0.0          0.0          0.0   \n",
      "...                 ...          ...          ...          ...          ...   \n",
      "2018-12-09          0.0          0.0          0.0          0.0          0.0   \n",
      "2018-12-16          0.0          0.0          0.0          0.0          0.0   \n",
      "2018-12-23          0.0          0.0          0.0          0.0          0.0   \n",
      "2018-12-30          0.0          0.0          0.0          0.0          0.0   \n",
      "2019-01-06          0.0          0.0          0.0          0.0          0.0   \n",
      "\n",
      "            WallTiles L  WallTiles P  WallTiles Q  WallTiles R  WallTiles S  \\\n",
      "2013-01-06          0.0          0.0            0          0.0        720.0   \n",
      "2013-01-13        110.0          0.0            0          3.0        355.0   \n",
      "2013-01-20        108.0        114.0            0          0.0        500.0   \n",
      "2013-01-27          5.0        118.0            0          0.0        855.0   \n",
      "2013-02-03        100.0        176.0            0          0.0       1267.0   \n",
      "...                 ...          ...          ...          ...          ...   \n",
      "2018-12-09          0.0          0.0            0          0.0          0.0   \n",
      "2018-12-16          0.0          0.0            0          0.0          0.0   \n",
      "2018-12-23          0.0          0.0            0          0.0          0.0   \n",
      "2018-12-30          0.0          0.0            0          0.0          0.0   \n",
      "2019-01-06          0.0          0.0            0          0.0          0.0   \n",
      "\n",
      "            WallTiles T  WallTiles V  WallTiles W  WallTiles Y  \n",
      "2013-01-06          0.0         45.0          0.0          0.0  \n",
      "2013-01-13          0.0       1545.0          0.0          0.0  \n",
      "2013-01-20          0.0        627.0          0.0          0.0  \n",
      "2013-01-27          0.0        114.0          0.0          0.0  \n",
      "2013-02-03          0.0       2515.0          0.0          0.0  \n",
      "...                 ...          ...          ...          ...  \n",
      "2018-12-09          0.0          0.0          0.0          0.0  \n",
      "2018-12-16          0.0          0.0          0.0          0.0  \n",
      "2018-12-23          0.0          0.0          0.0          0.0  \n",
      "2018-12-30          0.0          0.0          0.0          0.0  \n",
      "2019-01-06          0.0          0.0          0.0          0.0  \n",
      "\n",
      "[27632 rows x 19 columns]\n"
     ]
    }
   ],
   "source": [
    "print (wallLabel_matrix)"
   ]
  },
  {
   "cell_type": "code",
   "execution_count": 16,
   "metadata": {},
   "outputs": [],
   "source": [
    "wall_df_old = pd.concat([wallFeature_matrix, wallLabel_matrix], axis=1)\n",
    "#print (wall_df_old)\n",
    "#print ((wall_df_old['QTY_sum'] != 0).sum())\n",
    "wall_df0 = wall_df_old[wall_df_old.QTY_sum != 0]  # Remove the data points which have 0 sales for the week\n",
    "#print (wall_df0)\n",
    "del wall_df0['QTY_sum']\n",
    "wall_df0 = wall_df0.reset_index(drop=True)\n",
    "wall_df = wall_df0.sample(frac=1).reset_index(drop=True)     # shuffled\n",
    "#print (wall_df)"
   ]
  },
  {
   "cell_type": "code",
   "execution_count": 85,
   "metadata": {},
   "outputs": [
    {
     "name": "stdout",
     "output_type": "stream",
     "text": [
      "4.359068945911009\n"
     ]
    }
   ],
   "source": [
    "print (wall_df['Invoice Discount'].mean())"
   ]
  },
  {
   "cell_type": "code",
   "execution_count": 22,
   "metadata": {},
   "outputs": [
    {
     "data": {
      "text/plain": [
       "[Text(0.5, 0, 'Year'),\n",
       " Text(3.5, 0, 'IsMar'),\n",
       " Text(6.5, 0, 'IsJun'),\n",
       " Text(9.5, 0, 'IsSep'),\n",
       " Text(12.5, 0, 'IsDec'),\n",
       " Text(15.5, 0, 'Isweek 3'),\n",
       " Text(18.5, 0, 'Isweek 6'),\n",
       " Text(21.5, 0, 'Isweek 9'),\n",
       " Text(24.5, 0, 'Isweek 12'),\n",
       " Text(27.5, 0, 'Isweek 15'),\n",
       " Text(30.5, 0, 'Isweek 18'),\n",
       " Text(33.5, 0, 'Isweek 21'),\n",
       " Text(36.5, 0, 'Isweek 24'),\n",
       " Text(39.5, 0, 'Isweek 27'),\n",
       " Text(42.5, 0, 'Isweek 30'),\n",
       " Text(45.5, 0, 'Isweek 33'),\n",
       " Text(48.5, 0, 'Isweek 36'),\n",
       " Text(51.5, 0, 'Isweek 39'),\n",
       " Text(54.5, 0, 'Isweek 42'),\n",
       " Text(57.5, 0, 'Isweek 45'),\n",
       " Text(60.5, 0, 'Isweek 48'),\n",
       " Text(63.5, 0, 'Isweek 51'),\n",
       " Text(66.5, 0, 'WeeksToChristmas'),\n",
       " Text(69.5, 0, 'Distributors'),\n",
       " Text(72.5, 0, 'Projects'),\n",
       " Text(75.5, 0, 'IsCABLM'),\n",
       " Text(78.5, 0, 'IsCAGOG'),\n",
       " Text(81.5, 0, 'IsCAMTG'),\n",
       " Text(84.5, 0, 'IsDBALU'),\n",
       " Text(87.5, 0, 'IsDBBAN'),\n",
       " Text(90.5, 0, 'IsDBDIG'),\n",
       " Text(93.5, 0, 'IsDBHOR'),\n",
       " Text(96.5, 0, 'IsDBKEG'),\n",
       " Text(99.5, 0, 'IsDBMAT'),\n",
       " Text(102.5, 0, 'IsDBNAR'),\n",
       " Text(105.5, 0, 'IsDBPER'),\n",
       " Text(108.5, 0, 'IsDBSAM'),\n",
       " Text(111.5, 0, 'IsFDALU'),\n",
       " Text(114.5, 0, 'IsFDAMT'),\n",
       " Text(117.5, 0, 'IsFDBA1'),\n",
       " Text(120.5, 0, 'IsFDBAL'),\n",
       " Text(123.5, 0, 'IsFDCHW'),\n",
       " Text(126.5, 0, 'IsFDGAL'),\n",
       " Text(129.5, 0, 'IsFDHOR'),\n",
       " Text(132.5, 0, 'IsFDJEL'),\n",
       " Text(135.5, 0, 'IsFDKAL'),\n",
       " Text(138.5, 0, 'IsFDKEG'),\n",
       " Text(141.5, 0, 'IsFDMAG'),\n",
       " Text(144.5, 0, 'IsFDMHI'),\n",
       " Text(147.5, 0, 'IsFDMOT'),\n",
       " Text(150.5, 0, 'IsFDNEG'),\n",
       " Text(153.5, 0, 'IsFDPND'),\n",
       " Text(156.5, 0, 'IsFDWAP'),\n",
       " Text(159.5, 0, 'IsFDWEL'),\n",
       " Text(162.5, 0, 'IsKDSR ')]"
      ]
     },
     "execution_count": 22,
     "metadata": {},
     "output_type": "execute_result"
    },
    {
     "data": {
      "image/png": "[encoded data removed]",
      "text/plain": [
       "<Figure size 1080x576 with 2 Axes>"
      ]
     },
     "metadata": {
      "needs_background": "light"
     },
     "output_type": "display_data"
    }
   ],
   "source": [
    "#################### Heat map ####################\n",
    "  \n",
    "corr = wallFeature_matrix.corr()           \n",
    "#print (corr) \n",
    "#corr.style.background_gradient(cmap='coolwarm')\n",
    "#plt.show()\n",
    "fig, ax = plt.subplots(figsize=(15,8))\n",
    "ax = sns.heatmap(corr, vmin=-1, vmax=1, center=0, cmap=sns.diverging_palette(20, 220, n=200), square=True)\n",
    "ax.set_xticklabels(ax.get_xticklabels(), rotation=45, horizontalalignment='right')\n",
    "\n",
    "##################################################"
   ]
  },
  {
   "cell_type": "code",
   "execution_count": 24,
   "metadata": {},
   "outputs": [
    {
     "data": {
      "text/plain": [
       "<Figure size 10800x8400 with 0 Axes>"
      ]
     },
     "metadata": {},
     "output_type": "display_data"
    },
    {
     "data": {
      "image/png": "[encoded data removed]",
      "text/plain": [
       "<Figure size 900x1000 with 4 Axes>"
      ]
     },
     "metadata": {
      "needs_background": "light"
     },
     "output_type": "display_data"
    }
   ],
   "source": [
    "############# Feature importance #############\n",
    "\n",
    "rcParams.update({'figure.autolayout': True})\n",
    "plt.figure(figsize=(18,14), dpi=600)\n",
    "\n",
    "array = wall_df.values\n",
    "X = array[:,0:167]\n",
    "y = array[:,167:]\n",
    "\n",
    "model = RandomForestRegressor(n_estimators=100, random_state=1)\n",
    "model.fit(X, y)\n",
    "#print(model.feature_importances_)\n",
    "values = model.feature_importances_\n",
    "\n",
    "Names = wall_df.columns.values[0:167]\n",
    "\n",
    "N=42\n",
    "sublists_names = [Names[x:x+N] for x in range(0, len(Names), N)]\n",
    "sublists_values = [values[x:x+N] for x in range(0, len(values), N)]\n",
    "\n",
    "size = int(len(values))\n",
    "fig, axs = plt.subplots(nrows=size//N+1, sharey=True, figsize=(18,20), dpi=50)\n",
    "\n",
    "#fig.suptitle('Graph', \n",
    "#          **{'family': 'Arial Black', 'size': 22, 'weight': 'bold'})\n",
    "\n",
    "for ax, fea_names, imp_values in zip(axs, sublists_names, sublists_values):\n",
    "    ax.bar(range(len(imp_values)), imp_values, align='center')\n",
    "    ax.set_xlabel('Features')\n",
    "    ax.set_ylabel('Importance')\n",
    "    ax.set_xticks(range(len(fea_names)))\n",
    "    ax.set_xticklabels(fea_names, rotation='vertical')\n",
    "    ax.set_xlim(0, len(fea_names))\n",
    "\n",
    "fig.subplots_adjust(bottom=0.00, top=0.95)\n",
    "plt.show()\n",
    "\n",
    "###############################################"
   ]
  },
  {
   "cell_type": "code",
   "execution_count": 87,
   "metadata": {},
   "outputs": [
    {
     "name": "stdout",
     "output_type": "stream",
     "text": [
      "[0.5759161815653925, 2209.566561326155, 3966.4240838184346, 238.25310890743066, 12030.039060220766, 63.14126954564691]\n",
      "1.0\n",
      "[3.1117148344791035e-05, 0.11938440465345553, 0.2143086278268011, 0.012872979733489878, 0.6499913043127711, 0.0034115663251376113]\n"
     ]
    },
    {
     "data": {
      "image/png": "[encoded data removed]",
      "text/plain": [
       "<Figure size 936x504 with 1 Axes>"
      ]
     },
     "metadata": {
      "needs_background": "light"
     },
     "output_type": "display_data"
    },
    {
     "data": {
      "text/plain": [
       "Text(0, 0.5, 'Distribution')"
      ]
     },
     "execution_count": 87,
     "metadata": {},
     "output_type": "execute_result"
    },
    {
     "data": {
      "image/png": "[encoded data removed]",
      "text/plain": [
       "<Figure size 936x504 with 1 Axes>"
      ]
     },
     "metadata": {
      "needs_background": "light"
     },
     "output_type": "display_data"
    }
   ],
   "source": [
    "########## Channel distribution ##########\n",
    "from matplotlib.pylab import rcParams\n",
    "rcParams['figure.figsize'] = 13, 7\n",
    "\n",
    "sales_channels = ['Other','Consignment Agent','Distributors','Direct Sales','Franchise Dealers','Projects']\n",
    "\n",
    "total = list()\n",
    "for i in sales_channels:\n",
    "    total.append(wall_df[i].sum())\n",
    "    \n",
    "print (total)\n",
    "distribution = [x/sum(total) for x in total]\n",
    "print (sum(distribution))\n",
    "print (distribution)\n",
    "plt.bar(sales_channels, distribution)\n",
    "plt.xlabel('Channels')\n",
    "plt.ylabel('Distribution')\n",
    "plt.bar(sales_channels, total)\n",
    "plt.show()\n",
    "\n",
    "plt.bar(sales_channels, distribution)\n",
    "plt.xlabel('Channels')\n",
    "plt.ylabel('Distribution')\n",
    "##########################################"
   ]
  },
  {
   "cell_type": "code",
   "execution_count": 54,
   "metadata": {},
   "outputs": [
    {
     "name": "stdout",
     "output_type": "stream",
     "text": [
      "[0.5759161815653925, 2207.5665613261554, 3908.424083818434, 0.0, 238.25310890743066, 12024.039060220766, 63.14126954564691, 0.0]\n",
      "[3.122851000788377e-05, 0.11970320796693175, 0.21193059775612375, 0.0, 0.012919049393093518, 0.6519921407776145, 0.003423775596228549, 0.0]\n"
     ]
    },
    {
     "data": {
      "text/plain": [
       "Text(0, 0.5, 'Distribution')"
      ]
     },
     "execution_count": 54,
     "metadata": {},
     "output_type": "execute_result"
    },
    {
     "data": {
      "image/png": "[encoded data removed]",
      "text/plain": [
       "<Figure size 1080x576 with 1 Axes>"
      ]
     },
     "metadata": {
      "needs_background": "light"
     },
     "output_type": "display_data"
    }
   ],
   "source": [
    "########## Channel distribution ##########\n",
    "from matplotlib.pylab import rcParams\n",
    "rcParams['figure.figsize'] = 15, 8\n",
    "\n",
    "sales_channels = ['Other','Consignment Agent','Distributors','Direct Dealers/Colombo Dealers','Direct Sales','Franchise Dealers',\n",
    "                  'Projects','Regional Sales']\n",
    "\n",
    "total = list()\n",
    "for i in sales_channels:\n",
    "    total.append(wall_df[i].sum())\n",
    "    \n",
    "print (total)\n",
    "distribution = [x/sum(total) for x in total]\n",
    "print (distribution)\n",
    "plt.bar(sales_channels, distribution)\n",
    "plt.xlabel('Channels')\n",
    "plt.ylabel('Distribution')\n",
    "##########################################"
   ]
  },
  {
   "cell_type": "code",
   "execution_count": 89,
   "metadata": {},
   "outputs": [
    {
     "data": {
      "image/png": "[encoded data removed]",
      "text/plain": [
       "<Figure size 936x504 with 1 Axes>"
      ]
     },
     "metadata": {
      "needs_background": "light"
     },
     "output_type": "display_data"
    }
   ],
   "source": [
    "######### Histogram for invoice discount #########\n",
    "rcParams['figure.figsize'] = 13, 7\n",
    "\n",
    "di=pd.DataFrame()\n",
    "di['Discount'] = wall_df['Invoice Discount']\n",
    "y = di[di.Discount != 0]\n",
    "x = y['Discount']\n",
    "plt.hist(x, range=[0,41], bins=41) \n",
    "#plt.title(channel) \n",
    "plt.xlabel('Invoice Discount') \n",
    "plt.ylabel(\"Count\")\n",
    "plt.show()\n",
    "###################################################   "
   ]
  },
  {
   "cell_type": "code",
   "execution_count": 18,
   "metadata": {},
   "outputs": [
    {
     "name": "stdout",
     "output_type": "stream",
     "text": [
      "163\n",
      "19\n"
     ]
    }
   ],
   "source": [
    "print (len(wallFeature_matrix.columns))\n",
    "print (len(wallLabel_matrix.columns))"
   ]
  },
  {
   "cell_type": "code",
   "execution_count": 20,
   "metadata": {},
   "outputs": [],
   "source": [
    "from sklearn.model_selection import train_test_split \n",
    "\n",
    "array = wall_df.values\n",
    "X = array[:,0:162]\n",
    "y = array[:,162:]\n",
    "\n",
    "X_train, X_val, y_train, y_val = train_test_split(X, y, test_size=0.1, random_state=0)        "
   ]
  },
  {
   "cell_type": "code",
   "execution_count": 123,
   "metadata": {},
   "outputs": [
    {
     "name": "stdout",
     "output_type": "stream",
     "text": [
      "(18508, 163)\n"
     ]
    }
   ],
   "source": [
    "print (X.shape)"
   ]
  },
  {
   "cell_type": "code",
   "execution_count": 21,
   "metadata": {},
   "outputs": [
    {
     "ename": "ValueError",
     "evalue": "Number of features of the model must match the input. Model n_features is 164 and input n_features is 162 ",
     "output_type": "error",
     "traceback": [
      "\u001b[1;31m---------------------------------------------------------------------------\u001b[0m",
      "\u001b[1;31mValueError\u001b[0m                                Traceback (most recent call last)",
      "\u001b[1;32m<ipython-input-21-780ac625aae1>\u001b[0m in \u001b[0;36m<module>\u001b[1;34m\u001b[0m\n\u001b[0;32m      8\u001b[0m \u001b[1;33m\u001b[0m\u001b[0m\n\u001b[0;32m      9\u001b[0m \u001b[1;31m#X_test = X_val[1].reshape(1, -1)\u001b[0m\u001b[1;33m\u001b[0m\u001b[1;33m\u001b[0m\u001b[1;33m\u001b[0m\u001b[0m\n\u001b[1;32m---> 10\u001b[1;33m \u001b[0my_pred_val\u001b[0m \u001b[1;33m=\u001b[0m \u001b[0mRandomForest\u001b[0m\u001b[1;33m.\u001b[0m\u001b[0mpredict\u001b[0m\u001b[1;33m(\u001b[0m\u001b[0mX_val\u001b[0m\u001b[1;33m)\u001b[0m\u001b[1;33m\u001b[0m\u001b[1;33m\u001b[0m\u001b[0m\n\u001b[0m\u001b[0;32m     11\u001b[0m \u001b[0mprint\u001b[0m\u001b[1;33m(\u001b[0m\u001b[1;34m'Root Mean Squared Error:'\u001b[0m\u001b[1;33m,\u001b[0m \u001b[0mnp\u001b[0m\u001b[1;33m.\u001b[0m\u001b[0msqrt\u001b[0m\u001b[1;33m(\u001b[0m\u001b[0mmetrics\u001b[0m\u001b[1;33m.\u001b[0m\u001b[0mmean_squared_error\u001b[0m\u001b[1;33m(\u001b[0m\u001b[0my_val\u001b[0m\u001b[1;33m,\u001b[0m \u001b[0my_pred_val\u001b[0m\u001b[1;33m)\u001b[0m\u001b[1;33m)\u001b[0m\u001b[1;33m)\u001b[0m\u001b[1;33m\u001b[0m\u001b[1;33m\u001b[0m\u001b[0m\n\u001b[0;32m     12\u001b[0m \u001b[1;31m#print (y_pred)\u001b[0m\u001b[1;33m\u001b[0m\u001b[1;33m\u001b[0m\u001b[1;33m\u001b[0m\u001b[0m\n",
      "\u001b[1;32mC:\\ProgramData\\Anaconda3\\lib\\site-packages\\sklearn\\ensemble\\forest.py\u001b[0m in \u001b[0;36mpredict\u001b[1;34m(self, X)\u001b[0m\n\u001b[0;32m    691\u001b[0m         \u001b[0mcheck_is_fitted\u001b[0m\u001b[1;33m(\u001b[0m\u001b[0mself\u001b[0m\u001b[1;33m,\u001b[0m \u001b[1;34m'estimators_'\u001b[0m\u001b[1;33m)\u001b[0m\u001b[1;33m\u001b[0m\u001b[1;33m\u001b[0m\u001b[0m\n\u001b[0;32m    692\u001b[0m         \u001b[1;31m# Check data\u001b[0m\u001b[1;33m\u001b[0m\u001b[1;33m\u001b[0m\u001b[1;33m\u001b[0m\u001b[0m\n\u001b[1;32m--> 693\u001b[1;33m         \u001b[0mX\u001b[0m \u001b[1;33m=\u001b[0m \u001b[0mself\u001b[0m\u001b[1;33m.\u001b[0m\u001b[0m_validate_X_predict\u001b[0m\u001b[1;33m(\u001b[0m\u001b[0mX\u001b[0m\u001b[1;33m)\u001b[0m\u001b[1;33m\u001b[0m\u001b[1;33m\u001b[0m\u001b[0m\n\u001b[0m\u001b[0;32m    694\u001b[0m \u001b[1;33m\u001b[0m\u001b[0m\n\u001b[0;32m    695\u001b[0m         \u001b[1;31m# Assign chunk of trees to jobs\u001b[0m\u001b[1;33m\u001b[0m\u001b[1;33m\u001b[0m\u001b[1;33m\u001b[0m\u001b[0m\n",
      "\u001b[1;32mC:\\ProgramData\\Anaconda3\\lib\\site-packages\\sklearn\\ensemble\\forest.py\u001b[0m in \u001b[0;36m_validate_X_predict\u001b[1;34m(self, X)\u001b[0m\n\u001b[0;32m    357\u001b[0m                                  \"call `fit` before exploiting the model.\")\n\u001b[0;32m    358\u001b[0m \u001b[1;33m\u001b[0m\u001b[0m\n\u001b[1;32m--> 359\u001b[1;33m         \u001b[1;32mreturn\u001b[0m \u001b[0mself\u001b[0m\u001b[1;33m.\u001b[0m\u001b[0mestimators_\u001b[0m\u001b[1;33m[\u001b[0m\u001b[1;36m0\u001b[0m\u001b[1;33m]\u001b[0m\u001b[1;33m.\u001b[0m\u001b[0m_validate_X_predict\u001b[0m\u001b[1;33m(\u001b[0m\u001b[0mX\u001b[0m\u001b[1;33m,\u001b[0m \u001b[0mcheck_input\u001b[0m\u001b[1;33m=\u001b[0m\u001b[1;32mTrue\u001b[0m\u001b[1;33m)\u001b[0m\u001b[1;33m\u001b[0m\u001b[1;33m\u001b[0m\u001b[0m\n\u001b[0m\u001b[0;32m    360\u001b[0m \u001b[1;33m\u001b[0m\u001b[0m\n\u001b[0;32m    361\u001b[0m     \u001b[1;33m@\u001b[0m\u001b[0mproperty\u001b[0m\u001b[1;33m\u001b[0m\u001b[1;33m\u001b[0m\u001b[0m\n",
      "\u001b[1;32mC:\\ProgramData\\Anaconda3\\lib\\site-packages\\sklearn\\tree\\tree.py\u001b[0m in \u001b[0;36m_validate_X_predict\u001b[1;34m(self, X, check_input)\u001b[0m\n\u001b[0;32m    400\u001b[0m                              \u001b[1;34m\"match the input. Model n_features is %s and \"\u001b[0m\u001b[1;33m\u001b[0m\u001b[1;33m\u001b[0m\u001b[0m\n\u001b[0;32m    401\u001b[0m                              \u001b[1;34m\"input n_features is %s \"\u001b[0m\u001b[1;33m\u001b[0m\u001b[1;33m\u001b[0m\u001b[0m\n\u001b[1;32m--> 402\u001b[1;33m                              % (self.n_features_, n_features))\n\u001b[0m\u001b[0;32m    403\u001b[0m \u001b[1;33m\u001b[0m\u001b[0m\n\u001b[0;32m    404\u001b[0m         \u001b[1;32mreturn\u001b[0m \u001b[0mX\u001b[0m\u001b[1;33m\u001b[0m\u001b[1;33m\u001b[0m\u001b[0m\n",
      "\u001b[1;31mValueError\u001b[0m: Number of features of the model must match the input. Model n_features is 164 and input n_features is 162 "
     ]
    }
   ],
   "source": [
    "######### Use the saved model and predict #########\n",
    "from sklearn import metrics\n",
    "from matplotlib.pylab import rcParams\n",
    "rcParams['figure.figsize'] = 14, 8\n",
    "from sklearn.externals import joblib \n",
    "\n",
    "RandomForest = joblib.load('C:/Users/ChamithM/Desktop/Bestmodels/Walltiles_RFmodelNew.pkl')  \n",
    "\n",
    "#X_test = X_val[1].reshape(1, -1)\n",
    "y_pred_val = RandomForest.predict(X_val)\n",
    "print('Root Mean Squared Error:', np.sqrt(metrics.mean_squared_error(y_val, y_pred_val)))\n",
    "#print (y_pred)\n",
    "#y_pred_arr = y_pred.tolist()\n",
    "\n",
    "dic_val = {'Actual':y_val[500:601,5], 'Predicted':y_pred_val[500:601,5]}\n",
    "df_val = pd.DataFrame(dic_val)\n",
    "\n",
    "#df_val=df_val.drop([4])\n",
    "#print (df_val[0:50])\n",
    "#print (df_val[50:101])\n",
    "\n",
    "plt.plot(df_val['Actual'], label='Actual')\n",
    "plt.plot(df_val['Predicted'], color='red', label='Predicted')\n",
    "plt.title('Validation Set')\n",
    "plt.xlabel('data points')\n",
    "plt.ylabel('Actual and Predicted')\n",
    "plt.legend()\n",
    "plt.show()\n",
    "##################################################"
   ]
  },
  {
   "cell_type": "code",
   "execution_count": 187,
   "metadata": {},
   "outputs": [],
   "source": [
    "#wall_df.to_pickle(\"./Walltiles_df.pkl\")"
   ]
  },
  {
   "cell_type": "code",
   "execution_count": null,
   "metadata": {},
   "outputs": [],
   "source": [
    "############## Linear Regression ##############\n",
    "'''\n",
    "from sklearn.linear_model import LinearRegression\n",
    "from sklearn import metrics\n",
    "from matplotlib.pylab import rcParams\n",
    "rcParams['figure.figsize'] = 14, 8\n",
    "\n",
    "regressor = LinearRegression()  \n",
    "regressor.fit(X_train, y_train)\n",
    "\n",
    "y_pred_train = regressor.predict(X_train)\n",
    "y_pred_val = regressor.predict(X_val)\n",
    "\n",
    "dic_train = {'Actual':y_train[0:50,1], 'Predicted':y_pred_train[0:50,1]}\n",
    "dic_val = {'Actual':y_val[0:50,0], 'Predicted':y_pred_val[0:50,0]}\n",
    "\n",
    "df_train = pd.DataFrame(dic_train)\n",
    "#print (df_train)\n",
    "print('Root Mean Squared Error:', np.sqrt(metrics.mean_squared_error(y_train, y_pred_train)))\n",
    "\n",
    "df_val = pd.DataFrame(dic_val)\n",
    "#print (df_val)\n",
    "print('Root Mean Squared Error:', np.sqrt(metrics.mean_squared_error(y_val, y_pred_val)))\n",
    "\n",
    "plt.plot(df_train['Actual'])\n",
    "plt.plot(df_train['Predicted'], color='red')\n",
    "plt.show()\n",
    "\n",
    "plt.plot(df_val['Actual'])\n",
    "plt.plot(df_val['Predicted'], color='red')\n",
    "plt.show()\n",
    "'''\n",
    "################################################"
   ]
  },
  {
   "cell_type": "code",
   "execution_count": 146,
   "metadata": {},
   "outputs": [
    {
     "name": "stdout",
     "output_type": "stream",
     "text": [
      "num_of_trees: 10\n",
      "Root Mean Squared Error: 582.0672556275977\n",
      "Root Mean Squared Error: 1184.301934606077\n",
      "[582.0672556275977]\n",
      "[1184.301934606077]\n",
      "\n",
      "\n",
      "num_of_trees: 20\n",
      "Root Mean Squared Error: 537.2843425662834\n",
      "Root Mean Squared Error: 1177.6526596222798\n",
      "[582.0672556275977, 537.2843425662834]\n",
      "[1184.301934606077, 1177.6526596222798]\n",
      "\n",
      "\n"
     ]
    },
    {
     "ename": "KeyboardInterrupt",
     "evalue": "",
     "output_type": "error",
     "traceback": [
      "\u001b[1;31m---------------------------------------------------------------------------\u001b[0m",
      "\u001b[1;31mKeyboardInterrupt\u001b[0m                         Traceback (most recent call last)",
      "\u001b[1;32m<ipython-input-146-988ca58449b7>\u001b[0m in \u001b[0;36m<module>\u001b[1;34m\u001b[0m\n\u001b[0;32m     18\u001b[0m \u001b[1;32mfor\u001b[0m \u001b[0mx\u001b[0m \u001b[1;32min\u001b[0m \u001b[0mnum_of_trees\u001b[0m\u001b[1;33m:\u001b[0m\u001b[1;33m\u001b[0m\u001b[1;33m\u001b[0m\u001b[0m\n\u001b[0;32m     19\u001b[0m     \u001b[0mregressor\u001b[0m \u001b[1;33m=\u001b[0m \u001b[0mRandomForestRegressor\u001b[0m\u001b[1;33m(\u001b[0m\u001b[0mn_estimators\u001b[0m\u001b[1;33m=\u001b[0m\u001b[0mx\u001b[0m\u001b[1;33m)\u001b[0m\u001b[1;33m\u001b[0m\u001b[1;33m\u001b[0m\u001b[0m\n\u001b[1;32m---> 20\u001b[1;33m     \u001b[0mregressor\u001b[0m\u001b[1;33m.\u001b[0m\u001b[0mfit\u001b[0m\u001b[1;33m(\u001b[0m\u001b[0mX_train\u001b[0m\u001b[1;33m,\u001b[0m \u001b[0my_train\u001b[0m\u001b[1;33m)\u001b[0m\u001b[1;33m\u001b[0m\u001b[1;33m\u001b[0m\u001b[0m\n\u001b[0m\u001b[0;32m     21\u001b[0m \u001b[1;33m\u001b[0m\u001b[0m\n\u001b[0;32m     22\u001b[0m     \u001b[0my_pred_train\u001b[0m \u001b[1;33m=\u001b[0m \u001b[0mregressor\u001b[0m\u001b[1;33m.\u001b[0m\u001b[0mpredict\u001b[0m\u001b[1;33m(\u001b[0m\u001b[0mX_train\u001b[0m\u001b[1;33m)\u001b[0m\u001b[1;33m\u001b[0m\u001b[1;33m\u001b[0m\u001b[0m\n",
      "\u001b[1;32m~\\.conda\\envs\\opencv\\lib\\site-packages\\sklearn\\ensemble\\forest.py\u001b[0m in \u001b[0;36mfit\u001b[1;34m(self, X, y, sample_weight)\u001b[0m\n\u001b[0;32m    328\u001b[0m                     \u001b[0mt\u001b[0m\u001b[1;33m,\u001b[0m \u001b[0mself\u001b[0m\u001b[1;33m,\u001b[0m \u001b[0mX\u001b[0m\u001b[1;33m,\u001b[0m \u001b[0my\u001b[0m\u001b[1;33m,\u001b[0m \u001b[0msample_weight\u001b[0m\u001b[1;33m,\u001b[0m \u001b[0mi\u001b[0m\u001b[1;33m,\u001b[0m \u001b[0mlen\u001b[0m\u001b[1;33m(\u001b[0m\u001b[0mtrees\u001b[0m\u001b[1;33m)\u001b[0m\u001b[1;33m,\u001b[0m\u001b[1;33m\u001b[0m\u001b[1;33m\u001b[0m\u001b[0m\n\u001b[0;32m    329\u001b[0m                     verbose=self.verbose, class_weight=self.class_weight)\n\u001b[1;32m--> 330\u001b[1;33m                 for i, t in enumerate(trees))\n\u001b[0m\u001b[0;32m    331\u001b[0m \u001b[1;33m\u001b[0m\u001b[0m\n\u001b[0;32m    332\u001b[0m             \u001b[1;31m# Collect newly grown trees\u001b[0m\u001b[1;33m\u001b[0m\u001b[1;33m\u001b[0m\u001b[1;33m\u001b[0m\u001b[0m\n",
      "\u001b[1;32m~\\.conda\\envs\\opencv\\lib\\site-packages\\joblib\\parallel.py\u001b[0m in \u001b[0;36m__call__\u001b[1;34m(self, iterable)\u001b[0m\n\u001b[0;32m    922\u001b[0m                 \u001b[0mself\u001b[0m\u001b[1;33m.\u001b[0m\u001b[0m_iterating\u001b[0m \u001b[1;33m=\u001b[0m \u001b[0mself\u001b[0m\u001b[1;33m.\u001b[0m\u001b[0m_original_iterator\u001b[0m \u001b[1;32mis\u001b[0m \u001b[1;32mnot\u001b[0m \u001b[1;32mNone\u001b[0m\u001b[1;33m\u001b[0m\u001b[1;33m\u001b[0m\u001b[0m\n\u001b[0;32m    923\u001b[0m \u001b[1;33m\u001b[0m\u001b[0m\n\u001b[1;32m--> 924\u001b[1;33m             \u001b[1;32mwhile\u001b[0m \u001b[0mself\u001b[0m\u001b[1;33m.\u001b[0m\u001b[0mdispatch_one_batch\u001b[0m\u001b[1;33m(\u001b[0m\u001b[0miterator\u001b[0m\u001b[1;33m)\u001b[0m\u001b[1;33m:\u001b[0m\u001b[1;33m\u001b[0m\u001b[1;33m\u001b[0m\u001b[0m\n\u001b[0m\u001b[0;32m    925\u001b[0m                 \u001b[1;32mpass\u001b[0m\u001b[1;33m\u001b[0m\u001b[1;33m\u001b[0m\u001b[0m\n\u001b[0;32m    926\u001b[0m \u001b[1;33m\u001b[0m\u001b[0m\n",
      "\u001b[1;32m~\\.conda\\envs\\opencv\\lib\\site-packages\\joblib\\parallel.py\u001b[0m in \u001b[0;36mdispatch_one_batch\u001b[1;34m(self, iterator)\u001b[0m\n\u001b[0;32m    757\u001b[0m                 \u001b[1;32mreturn\u001b[0m \u001b[1;32mFalse\u001b[0m\u001b[1;33m\u001b[0m\u001b[1;33m\u001b[0m\u001b[0m\n\u001b[0;32m    758\u001b[0m             \u001b[1;32melse\u001b[0m\u001b[1;33m:\u001b[0m\u001b[1;33m\u001b[0m\u001b[1;33m\u001b[0m\u001b[0m\n\u001b[1;32m--> 759\u001b[1;33m                 \u001b[0mself\u001b[0m\u001b[1;33m.\u001b[0m\u001b[0m_dispatch\u001b[0m\u001b[1;33m(\u001b[0m\u001b[0mtasks\u001b[0m\u001b[1;33m)\u001b[0m\u001b[1;33m\u001b[0m\u001b[1;33m\u001b[0m\u001b[0m\n\u001b[0m\u001b[0;32m    760\u001b[0m                 \u001b[1;32mreturn\u001b[0m \u001b[1;32mTrue\u001b[0m\u001b[1;33m\u001b[0m\u001b[1;33m\u001b[0m\u001b[0m\n\u001b[0;32m    761\u001b[0m \u001b[1;33m\u001b[0m\u001b[0m\n",
      "\u001b[1;32m~\\.conda\\envs\\opencv\\lib\\site-packages\\joblib\\parallel.py\u001b[0m in \u001b[0;36m_dispatch\u001b[1;34m(self, batch)\u001b[0m\n\u001b[0;32m    714\u001b[0m         \u001b[1;32mwith\u001b[0m \u001b[0mself\u001b[0m\u001b[1;33m.\u001b[0m\u001b[0m_lock\u001b[0m\u001b[1;33m:\u001b[0m\u001b[1;33m\u001b[0m\u001b[1;33m\u001b[0m\u001b[0m\n\u001b[0;32m    715\u001b[0m             \u001b[0mjob_idx\u001b[0m \u001b[1;33m=\u001b[0m \u001b[0mlen\u001b[0m\u001b[1;33m(\u001b[0m\u001b[0mself\u001b[0m\u001b[1;33m.\u001b[0m\u001b[0m_jobs\u001b[0m\u001b[1;33m)\u001b[0m\u001b[1;33m\u001b[0m\u001b[1;33m\u001b[0m\u001b[0m\n\u001b[1;32m--> 716\u001b[1;33m             \u001b[0mjob\u001b[0m \u001b[1;33m=\u001b[0m \u001b[0mself\u001b[0m\u001b[1;33m.\u001b[0m\u001b[0m_backend\u001b[0m\u001b[1;33m.\u001b[0m\u001b[0mapply_async\u001b[0m\u001b[1;33m(\u001b[0m\u001b[0mbatch\u001b[0m\u001b[1;33m,\u001b[0m \u001b[0mcallback\u001b[0m\u001b[1;33m=\u001b[0m\u001b[0mcb\u001b[0m\u001b[1;33m)\u001b[0m\u001b[1;33m\u001b[0m\u001b[1;33m\u001b[0m\u001b[0m\n\u001b[0m\u001b[0;32m    717\u001b[0m             \u001b[1;31m# A job can complete so quickly than its callback is\u001b[0m\u001b[1;33m\u001b[0m\u001b[1;33m\u001b[0m\u001b[1;33m\u001b[0m\u001b[0m\n\u001b[0;32m    718\u001b[0m             \u001b[1;31m# called before we get here, causing self._jobs to\u001b[0m\u001b[1;33m\u001b[0m\u001b[1;33m\u001b[0m\u001b[1;33m\u001b[0m\u001b[0m\n",
      "\u001b[1;32m~\\.conda\\envs\\opencv\\lib\\site-packages\\joblib\\_parallel_backends.py\u001b[0m in \u001b[0;36mapply_async\u001b[1;34m(self, func, callback)\u001b[0m\n\u001b[0;32m    180\u001b[0m     \u001b[1;32mdef\u001b[0m \u001b[0mapply_async\u001b[0m\u001b[1;33m(\u001b[0m\u001b[0mself\u001b[0m\u001b[1;33m,\u001b[0m \u001b[0mfunc\u001b[0m\u001b[1;33m,\u001b[0m \u001b[0mcallback\u001b[0m\u001b[1;33m=\u001b[0m\u001b[1;32mNone\u001b[0m\u001b[1;33m)\u001b[0m\u001b[1;33m:\u001b[0m\u001b[1;33m\u001b[0m\u001b[1;33m\u001b[0m\u001b[0m\n\u001b[0;32m    181\u001b[0m         \u001b[1;34m\"\"\"Schedule a func to be run\"\"\"\u001b[0m\u001b[1;33m\u001b[0m\u001b[1;33m\u001b[0m\u001b[0m\n\u001b[1;32m--> 182\u001b[1;33m         \u001b[0mresult\u001b[0m \u001b[1;33m=\u001b[0m \u001b[0mImmediateResult\u001b[0m\u001b[1;33m(\u001b[0m\u001b[0mfunc\u001b[0m\u001b[1;33m)\u001b[0m\u001b[1;33m\u001b[0m\u001b[1;33m\u001b[0m\u001b[0m\n\u001b[0m\u001b[0;32m    183\u001b[0m         \u001b[1;32mif\u001b[0m \u001b[0mcallback\u001b[0m\u001b[1;33m:\u001b[0m\u001b[1;33m\u001b[0m\u001b[1;33m\u001b[0m\u001b[0m\n\u001b[0;32m    184\u001b[0m             \u001b[0mcallback\u001b[0m\u001b[1;33m(\u001b[0m\u001b[0mresult\u001b[0m\u001b[1;33m)\u001b[0m\u001b[1;33m\u001b[0m\u001b[1;33m\u001b[0m\u001b[0m\n",
      "\u001b[1;32m~\\.conda\\envs\\opencv\\lib\\site-packages\\joblib\\_parallel_backends.py\u001b[0m in \u001b[0;36m__init__\u001b[1;34m(self, batch)\u001b[0m\n\u001b[0;32m    547\u001b[0m         \u001b[1;31m# Don't delay the application, to avoid keeping the input\u001b[0m\u001b[1;33m\u001b[0m\u001b[1;33m\u001b[0m\u001b[1;33m\u001b[0m\u001b[0m\n\u001b[0;32m    548\u001b[0m         \u001b[1;31m# arguments in memory\u001b[0m\u001b[1;33m\u001b[0m\u001b[1;33m\u001b[0m\u001b[1;33m\u001b[0m\u001b[0m\n\u001b[1;32m--> 549\u001b[1;33m         \u001b[0mself\u001b[0m\u001b[1;33m.\u001b[0m\u001b[0mresults\u001b[0m \u001b[1;33m=\u001b[0m \u001b[0mbatch\u001b[0m\u001b[1;33m(\u001b[0m\u001b[1;33m)\u001b[0m\u001b[1;33m\u001b[0m\u001b[1;33m\u001b[0m\u001b[0m\n\u001b[0m\u001b[0;32m    550\u001b[0m \u001b[1;33m\u001b[0m\u001b[0m\n\u001b[0;32m    551\u001b[0m     \u001b[1;32mdef\u001b[0m \u001b[0mget\u001b[0m\u001b[1;33m(\u001b[0m\u001b[0mself\u001b[0m\u001b[1;33m)\u001b[0m\u001b[1;33m:\u001b[0m\u001b[1;33m\u001b[0m\u001b[1;33m\u001b[0m\u001b[0m\n",
      "\u001b[1;32m~\\.conda\\envs\\opencv\\lib\\site-packages\\joblib\\parallel.py\u001b[0m in \u001b[0;36m__call__\u001b[1;34m(self)\u001b[0m\n\u001b[0;32m    223\u001b[0m         \u001b[1;32mwith\u001b[0m \u001b[0mparallel_backend\u001b[0m\u001b[1;33m(\u001b[0m\u001b[0mself\u001b[0m\u001b[1;33m.\u001b[0m\u001b[0m_backend\u001b[0m\u001b[1;33m,\u001b[0m \u001b[0mn_jobs\u001b[0m\u001b[1;33m=\u001b[0m\u001b[0mself\u001b[0m\u001b[1;33m.\u001b[0m\u001b[0m_n_jobs\u001b[0m\u001b[1;33m)\u001b[0m\u001b[1;33m:\u001b[0m\u001b[1;33m\u001b[0m\u001b[1;33m\u001b[0m\u001b[0m\n\u001b[0;32m    224\u001b[0m             return [func(*args, **kwargs)\n\u001b[1;32m--> 225\u001b[1;33m                     for func, args, kwargs in self.items]\n\u001b[0m\u001b[0;32m    226\u001b[0m \u001b[1;33m\u001b[0m\u001b[0m\n\u001b[0;32m    227\u001b[0m     \u001b[1;32mdef\u001b[0m \u001b[0m__len__\u001b[0m\u001b[1;33m(\u001b[0m\u001b[0mself\u001b[0m\u001b[1;33m)\u001b[0m\u001b[1;33m:\u001b[0m\u001b[1;33m\u001b[0m\u001b[1;33m\u001b[0m\u001b[0m\n",
      "\u001b[1;32m~\\.conda\\envs\\opencv\\lib\\site-packages\\joblib\\parallel.py\u001b[0m in \u001b[0;36m<listcomp>\u001b[1;34m(.0)\u001b[0m\n\u001b[0;32m    223\u001b[0m         \u001b[1;32mwith\u001b[0m \u001b[0mparallel_backend\u001b[0m\u001b[1;33m(\u001b[0m\u001b[0mself\u001b[0m\u001b[1;33m.\u001b[0m\u001b[0m_backend\u001b[0m\u001b[1;33m,\u001b[0m \u001b[0mn_jobs\u001b[0m\u001b[1;33m=\u001b[0m\u001b[0mself\u001b[0m\u001b[1;33m.\u001b[0m\u001b[0m_n_jobs\u001b[0m\u001b[1;33m)\u001b[0m\u001b[1;33m:\u001b[0m\u001b[1;33m\u001b[0m\u001b[1;33m\u001b[0m\u001b[0m\n\u001b[0;32m    224\u001b[0m             return [func(*args, **kwargs)\n\u001b[1;32m--> 225\u001b[1;33m                     for func, args, kwargs in self.items]\n\u001b[0m\u001b[0;32m    226\u001b[0m \u001b[1;33m\u001b[0m\u001b[0m\n\u001b[0;32m    227\u001b[0m     \u001b[1;32mdef\u001b[0m \u001b[0m__len__\u001b[0m\u001b[1;33m(\u001b[0m\u001b[0mself\u001b[0m\u001b[1;33m)\u001b[0m\u001b[1;33m:\u001b[0m\u001b[1;33m\u001b[0m\u001b[1;33m\u001b[0m\u001b[0m\n",
      "\u001b[1;32m~\\.conda\\envs\\opencv\\lib\\site-packages\\sklearn\\ensemble\\forest.py\u001b[0m in \u001b[0;36m_parallel_build_trees\u001b[1;34m(tree, forest, X, y, sample_weight, tree_idx, n_trees, verbose, class_weight)\u001b[0m\n\u001b[0;32m    116\u001b[0m             \u001b[0mcurr_sample_weight\u001b[0m \u001b[1;33m*=\u001b[0m \u001b[0mcompute_sample_weight\u001b[0m\u001b[1;33m(\u001b[0m\u001b[1;34m'balanced'\u001b[0m\u001b[1;33m,\u001b[0m \u001b[0my\u001b[0m\u001b[1;33m,\u001b[0m \u001b[0mindices\u001b[0m\u001b[1;33m)\u001b[0m\u001b[1;33m\u001b[0m\u001b[1;33m\u001b[0m\u001b[0m\n\u001b[0;32m    117\u001b[0m \u001b[1;33m\u001b[0m\u001b[0m\n\u001b[1;32m--> 118\u001b[1;33m         \u001b[0mtree\u001b[0m\u001b[1;33m.\u001b[0m\u001b[0mfit\u001b[0m\u001b[1;33m(\u001b[0m\u001b[0mX\u001b[0m\u001b[1;33m,\u001b[0m \u001b[0my\u001b[0m\u001b[1;33m,\u001b[0m \u001b[0msample_weight\u001b[0m\u001b[1;33m=\u001b[0m\u001b[0mcurr_sample_weight\u001b[0m\u001b[1;33m,\u001b[0m \u001b[0mcheck_input\u001b[0m\u001b[1;33m=\u001b[0m\u001b[1;32mFalse\u001b[0m\u001b[1;33m)\u001b[0m\u001b[1;33m\u001b[0m\u001b[1;33m\u001b[0m\u001b[0m\n\u001b[0m\u001b[0;32m    119\u001b[0m     \u001b[1;32melse\u001b[0m\u001b[1;33m:\u001b[0m\u001b[1;33m\u001b[0m\u001b[1;33m\u001b[0m\u001b[0m\n\u001b[0;32m    120\u001b[0m         \u001b[0mtree\u001b[0m\u001b[1;33m.\u001b[0m\u001b[0mfit\u001b[0m\u001b[1;33m(\u001b[0m\u001b[0mX\u001b[0m\u001b[1;33m,\u001b[0m \u001b[0my\u001b[0m\u001b[1;33m,\u001b[0m \u001b[0msample_weight\u001b[0m\u001b[1;33m=\u001b[0m\u001b[0msample_weight\u001b[0m\u001b[1;33m,\u001b[0m \u001b[0mcheck_input\u001b[0m\u001b[1;33m=\u001b[0m\u001b[1;32mFalse\u001b[0m\u001b[1;33m)\u001b[0m\u001b[1;33m\u001b[0m\u001b[1;33m\u001b[0m\u001b[0m\n",
      "\u001b[1;32m~\\.conda\\envs\\opencv\\lib\\site-packages\\sklearn\\tree\\tree.py\u001b[0m in \u001b[0;36mfit\u001b[1;34m(self, X, y, sample_weight, check_input, X_idx_sorted)\u001b[0m\n\u001b[0;32m   1155\u001b[0m             \u001b[0msample_weight\u001b[0m\u001b[1;33m=\u001b[0m\u001b[0msample_weight\u001b[0m\u001b[1;33m,\u001b[0m\u001b[1;33m\u001b[0m\u001b[1;33m\u001b[0m\u001b[0m\n\u001b[0;32m   1156\u001b[0m             \u001b[0mcheck_input\u001b[0m\u001b[1;33m=\u001b[0m\u001b[0mcheck_input\u001b[0m\u001b[1;33m,\u001b[0m\u001b[1;33m\u001b[0m\u001b[1;33m\u001b[0m\u001b[0m\n\u001b[1;32m-> 1157\u001b[1;33m             X_idx_sorted=X_idx_sorted)\n\u001b[0m\u001b[0;32m   1158\u001b[0m         \u001b[1;32mreturn\u001b[0m \u001b[0mself\u001b[0m\u001b[1;33m\u001b[0m\u001b[1;33m\u001b[0m\u001b[0m\n\u001b[0;32m   1159\u001b[0m \u001b[1;33m\u001b[0m\u001b[0m\n",
      "\u001b[1;32m~\\.conda\\envs\\opencv\\lib\\site-packages\\sklearn\\tree\\tree.py\u001b[0m in \u001b[0;36mfit\u001b[1;34m(self, X, y, sample_weight, check_input, X_idx_sorted)\u001b[0m\n\u001b[0;32m    378\u001b[0m                                            min_impurity_split)\n\u001b[0;32m    379\u001b[0m \u001b[1;33m\u001b[0m\u001b[0m\n\u001b[1;32m--> 380\u001b[1;33m         \u001b[0mbuilder\u001b[0m\u001b[1;33m.\u001b[0m\u001b[0mbuild\u001b[0m\u001b[1;33m(\u001b[0m\u001b[0mself\u001b[0m\u001b[1;33m.\u001b[0m\u001b[0mtree_\u001b[0m\u001b[1;33m,\u001b[0m \u001b[0mX\u001b[0m\u001b[1;33m,\u001b[0m \u001b[0my\u001b[0m\u001b[1;33m,\u001b[0m \u001b[0msample_weight\u001b[0m\u001b[1;33m,\u001b[0m \u001b[0mX_idx_sorted\u001b[0m\u001b[1;33m)\u001b[0m\u001b[1;33m\u001b[0m\u001b[1;33m\u001b[0m\u001b[0m\n\u001b[0m\u001b[0;32m    381\u001b[0m \u001b[1;33m\u001b[0m\u001b[0m\n\u001b[0;32m    382\u001b[0m         \u001b[1;32mif\u001b[0m \u001b[0mself\u001b[0m\u001b[1;33m.\u001b[0m\u001b[0mn_outputs_\u001b[0m \u001b[1;33m==\u001b[0m \u001b[1;36m1\u001b[0m\u001b[1;33m:\u001b[0m\u001b[1;33m\u001b[0m\u001b[1;33m\u001b[0m\u001b[0m\n",
      "\u001b[1;31mKeyboardInterrupt\u001b[0m: "
     ]
    }
   ],
   "source": [
    "################# Random Forest #################\n",
    "\n",
    "from sklearn.ensemble import RandomForestRegressor\n",
    "from sklearn import metrics\n",
    "from matplotlib.pylab import rcParams\n",
    "rcParams['figure.figsize'] = 14, 8\n",
    "\n",
    "rmse_train = list()\n",
    "rmse_val = list()\n",
    "num_of_trees = [10, 20, 50, 75, 100, 150, 200, 250, 300, 400, 500, 750]\n",
    "#max_features = ['auto', 'sqrt'] \n",
    "#max_depth = [int(x) for x in np.linspace(10, 110, num = 11)]         # Maximum number of levels in tree   \n",
    "#max_depth.append(None)\n",
    "#in_samples_split = [2, 5, 10]\n",
    "#in_samples_leaf = [1, 2, 4] \n",
    "#bootstrap = [True, False]\n",
    "\n",
    "for x in num_of_trees:\n",
    "    regressor = RandomForestRegressor(n_estimators=x)\n",
    "    regressor.fit(X_train, y_train)\n",
    "\n",
    "    y_pred_train = regressor.predict(X_train)\n",
    "    y_pred_val = regressor.predict(X_val)\n",
    "\n",
    "    print ('num_of_trees: '+str(x))\n",
    "    print('Root Mean Squared Error:', np.sqrt(metrics.mean_squared_error(y_train, y_pred_train)))\n",
    "    rmse_train.append(np.sqrt(metrics.mean_squared_error(y_train, y_pred_train)))\n",
    "\n",
    "    print('Root Mean Squared Error:', np.sqrt(metrics.mean_squared_error(y_val, y_pred_val)))\n",
    "    rmse_val.append(np.sqrt(metrics.mean_squared_error(y_val, y_pred_val)))\n",
    "    print (rmse_train)\n",
    "    print (rmse_val)\n",
    "    print ('\\n')\n",
    "    \n",
    "    '''\n",
    "    dic_train = {'Actual':y_train[1000:1101,3], 'Predicted':y_pred_train[1000:1101,3]}\n",
    "    dic_val = {'Actual':y_val[1000:1101,3], 'Predicted':y_pred_val[1000:1101,3]}\n",
    "\n",
    "    df_train = pd.DataFrame(dic_train)\n",
    "    df_val = pd.DataFrame(dic_val)\n",
    "\n",
    "    plt.plot(df_train['Actual'], label='Actual')\n",
    "    plt.plot(df_train['Predicted'], color='red', label='Predicted')\n",
    "    plt.title('Training Set')\n",
    "    plt.xlabel('data points')\n",
    "    plt.ylabel('Actual and Predicted')\n",
    "    plt.legend()\n",
    "    plt.show()\n",
    "\n",
    "    plt.plot(df_val['Actual'], label='Actual')\n",
    "    plt.plot(df_val['Predicted'], color='red', label='Predicted')\n",
    "    plt.title('Validation Set')\n",
    "    plt.xlabel('data points')\n",
    "    plt.ylabel('Actual and Predicted')\n",
    "    plt.legend()\n",
    "    plt.show()\n",
    "    '''\n",
    "'''\n",
    "df_RF = pd.DataFrame({'No of trees':num_of_trees, 'RMSE_train':rmse_train, 'RMSE_val':rmse_val})\n",
    "df_RF = df_RF.set_index('No of trees')\n",
    "plt.plot(df_RF['RMSE_train'], label='RMSE_train')\n",
    "plt.plot(df_RF['RMSE_val'], color='red', label='RMSE_val')\n",
    "plt.title('RMSE')\n",
    "plt.xlabel('No. of trees')\n",
    "plt.ylabel('RMSE')\n",
    "plt.legend()\n",
    "plt.show()\n",
    "'''\n",
    "#################################################"
   ]
  },
  {
   "cell_type": "code",
   "execution_count": 53,
   "metadata": {},
   "outputs": [
    {
     "name": "stdout",
     "output_type": "stream",
     "text": [
      "Training set RMSE: 474.07778792005917\n",
      "Validation set RMSE: 729.322121206984\n"
     ]
    }
   ],
   "source": [
    "######## Save the selected model as a pickle file ########\n",
    "from sklearn.ensemble import RandomForestRegressor\n",
    "from sklearn.externals import joblib \n",
    "  \n",
    "regressor = RandomForestRegressor(n_estimators=240, max_depth=60)\n",
    "regressor.fit(X_train, y_train)\n",
    "    \n",
    "# Save the model as a pickle in a file \n",
    "joblib.dump(regressor, 'C:/Users/ChamithM/Desktop/Bestmodels/Walltiles_RFmodelNew.pkl')  \n",
    "  \n",
    "# Load the model from the file \n",
    "RandomForest = joblib.load('C:/Users/ChamithM/Desktop/Bestmodels/Walltiles_RFmodelNew.pkl')\n",
    "  \n",
    "# Use the loaded model to make predictions \n",
    "y_pred_train = RandomForest.predict(X_train)\n",
    "y_pred_val = RandomForest.predict(X_val)\n",
    "\n",
    "print('Training set RMSE:', np.sqrt(metrics.mean_squared_error(y_train, y_pred_train)))\n",
    "print('Validation set RMSE:', np.sqrt(metrics.mean_squared_error(y_val, y_pred_val)))\n",
    "##########################################################"
   ]
  },
  {
   "cell_type": "code",
   "execution_count": null,
   "metadata": {},
   "outputs": [],
   "source": [
    "############# Multilayer Perceptron #############\n",
    "\n",
    "from sklearn.neural_network import MLPRegressor\n",
    "from sklearn import metrics\n",
    "from matplotlib.pylab import rcParams\n",
    "rcParams['figure.figsize'] = 14, 8\n",
    "\n",
    "rmse_train = list()\n",
    "rmse_val = list()\n",
    "num_of_neurons = [16, 32, 64, 128, 256, 512, 1024]\n",
    "\n",
    "for neurons in num_of_neurons:\n",
    "\n",
    "    mlp = MLPRegressor(hidden_layer_sizes=(neurons,), activation='relu', random_state=0)\n",
    "    mlp.fit(X_train, y_train)\n",
    "\n",
    "    y_pred_train = mlp.predict(X_train)\n",
    "    y_pred_val = mlp.predict(X_val)\n",
    " \n",
    "    print ('layer size: '+str(neurons))\n",
    "\n",
    "    print('Root Mean Squared Error:', np.sqrt(metrics.mean_squared_error(y_train, y_pred_train)))\n",
    "    rmse_train.append(np.sqrt(metrics.mean_squared_error(y_train, y_pred_train)))\n",
    "\n",
    "    print('Root Mean Squared Error:', np.sqrt(metrics.mean_squared_error(y_val, y_pred_val)))\n",
    "    print ('\\n')\n",
    "    rmse_val.append(np.sqrt(metrics.mean_squared_error(y_val, y_pred_val)))\n",
    "    print (rmse_train)\n",
    "    print (rmse_val)\n",
    "    \n",
    "    dic_train = {'Actual':y_train[1000:1101,3], 'Predicted':y_pred_train[1000:1101,3]}\n",
    "    dic_val = {'Actual':y_val[1000:1101,3], 'Predicted':y_pred_val[1000:1101,3]}\n",
    "    \n",
    "    df_train = pd.DataFrame(dic_train)\n",
    "    df_val = pd.DataFrame(dic_val)\n",
    "    df_val = df_val.drop([3])\n",
    "    df_val = df_val.drop([31])\n",
    "    \n",
    "    plt.plot(df_train['Actual'], label='Actual')\n",
    "    plt.plot(df_train['Predicted'], color='red', label='Predicted')\n",
    "    plt.title('Training Set')\n",
    "    plt.xlabel('data points')\n",
    "    plt.ylabel('Actual and Predicted')\n",
    "    plt.legend()\n",
    "    plt.show()\n",
    "\n",
    "    plt.plot(df_val['Actual'], label='Actual')\n",
    "    plt.plot(df_val['Predicted'], color='red', label='Predicted')\n",
    "    plt.title('Validation Set')\n",
    "    plt.xlabel('data points')\n",
    "    plt.ylabel('Actual and Predicted')\n",
    "    plt.legend()\n",
    "    plt.show()\n",
    "\n",
    "df_RF = pd.DataFrame({'No of neurons':num_of_neurons, 'RMSE_train':rmse_train, 'RMSE_val':rmse_val})\n",
    "df_RF = df_RF.set_index('No of neurons')\n",
    "plt.plot(df_RF['RMSE_train'], label='RMSE_train')\n",
    "plt.plot(df_RF['RMSE_val'], color='red', label='RMSE_val')\n",
    "plt.title('RMSE')\n",
    "plt.xlabel('No. of neurons')\n",
    "plt.ylabel('RMSE')\n",
    "plt.legend()\n",
    "plt.show()\n",
    "\n",
    "#################################################"
   ]
  },
  {
   "cell_type": "code",
   "execution_count": 93,
   "metadata": {},
   "outputs": [
    {
     "name": "stdout",
     "output_type": "stream",
     "text": [
      "num of trees: 10\n",
      "Root Mean Squared Error: 1089.100823023719\n",
      "Root Mean Squared Error: 1500.2069631810268\n",
      "\n",
      "\n",
      "[1500.2069631810268]\n",
      "[1089.100823023719]\n",
      "num of trees: 20\n",
      "Root Mean Squared Error: 937.9142903825185\n",
      "Root Mean Squared Error: 1461.939371635249\n",
      "\n",
      "\n",
      "[1500.2069631810268, 1461.939371635249]\n",
      "[1089.100823023719, 937.9142903825185]\n",
      "num of trees: 50\n",
      "Root Mean Squared Error: 821.9701618989209\n",
      "Root Mean Squared Error: 1440.463403679507\n",
      "\n",
      "\n",
      "[1500.2069631810268, 1461.939371635249, 1440.463403679507]\n",
      "[1089.100823023719, 937.9142903825185, 821.9701618989209]\n",
      "num of trees: 75\n",
      "Root Mean Squared Error: 786.5451020805979\n",
      "Root Mean Squared Error: 1448.8014582724254\n",
      "\n",
      "\n",
      "[1500.2069631810268, 1461.939371635249, 1440.463403679507, 1448.8014582724254]\n",
      "[1089.100823023719, 937.9142903825185, 821.9701618989209, 786.5451020805979]\n",
      "num of trees: 100\n",
      "Root Mean Squared Error: 760.8005225921856\n",
      "Root Mean Squared Error: 1448.5476369105368\n",
      "\n",
      "\n",
      "[1500.2069631810268, 1461.939371635249, 1440.463403679507, 1448.8014582724254, 1448.5476369105368]\n",
      "[1089.100823023719, 937.9142903825185, 821.9701618989209, 786.5451020805979, 760.8005225921856]\n"
     ]
    },
    {
     "ename": "KeyboardInterrupt",
     "evalue": "",
     "output_type": "error",
     "traceback": [
      "\u001b[1;31m---------------------------------------------------------------------------\u001b[0m",
      "\u001b[1;31mKeyboardInterrupt\u001b[0m                         Traceback (most recent call last)",
      "\u001b[1;32m<ipython-input-93-431af241243b>\u001b[0m in \u001b[0;36m<module>\u001b[1;34m\u001b[0m\n\u001b[0;32m     14\u001b[0m \u001b[1;33m\u001b[0m\u001b[0m\n\u001b[0;32m     15\u001b[0m     \u001b[0mgbr\u001b[0m \u001b[1;33m=\u001b[0m \u001b[0mMultiOutputRegressor\u001b[0m\u001b[1;33m(\u001b[0m\u001b[0mGradientBoostingRegressor\u001b[0m\u001b[1;33m(\u001b[0m\u001b[0mn_estimators\u001b[0m\u001b[1;33m=\u001b[0m\u001b[0mtrees\u001b[0m\u001b[1;33m)\u001b[0m\u001b[1;33m)\u001b[0m\u001b[1;33m\u001b[0m\u001b[1;33m\u001b[0m\u001b[0m\n\u001b[1;32m---> 16\u001b[1;33m     \u001b[0mgbr\u001b[0m\u001b[1;33m.\u001b[0m\u001b[0mfit\u001b[0m\u001b[1;33m(\u001b[0m\u001b[0mX_train\u001b[0m\u001b[1;33m,\u001b[0m \u001b[0my_train\u001b[0m\u001b[1;33m)\u001b[0m\u001b[1;33m\u001b[0m\u001b[1;33m\u001b[0m\u001b[0m\n\u001b[0m\u001b[0;32m     17\u001b[0m \u001b[1;33m\u001b[0m\u001b[0m\n\u001b[0;32m     18\u001b[0m     \u001b[0my_pred_train\u001b[0m \u001b[1;33m=\u001b[0m \u001b[0mgbr\u001b[0m\u001b[1;33m.\u001b[0m\u001b[0mpredict\u001b[0m\u001b[1;33m(\u001b[0m\u001b[0mX_train\u001b[0m\u001b[1;33m)\u001b[0m\u001b[1;33m\u001b[0m\u001b[1;33m\u001b[0m\u001b[0m\n",
      "\u001b[1;32m~\\.conda\\envs\\opencv\\lib\\site-packages\\sklearn\\multioutput.py\u001b[0m in \u001b[0;36mfit\u001b[1;34m(self, X, y, sample_weight)\u001b[0m\n\u001b[0;32m    167\u001b[0m             delayed(_fit_estimator)(\n\u001b[0;32m    168\u001b[0m                 self.estimator, X, y[:, i], sample_weight)\n\u001b[1;32m--> 169\u001b[1;33m             for i in range(y.shape[1]))\n\u001b[0m\u001b[0;32m    170\u001b[0m         \u001b[1;32mreturn\u001b[0m \u001b[0mself\u001b[0m\u001b[1;33m\u001b[0m\u001b[1;33m\u001b[0m\u001b[0m\n\u001b[0;32m    171\u001b[0m \u001b[1;33m\u001b[0m\u001b[0m\n",
      "\u001b[1;32m~\\.conda\\envs\\opencv\\lib\\site-packages\\joblib\\parallel.py\u001b[0m in \u001b[0;36m__call__\u001b[1;34m(self, iterable)\u001b[0m\n\u001b[0;32m    922\u001b[0m                 \u001b[0mself\u001b[0m\u001b[1;33m.\u001b[0m\u001b[0m_iterating\u001b[0m \u001b[1;33m=\u001b[0m \u001b[0mself\u001b[0m\u001b[1;33m.\u001b[0m\u001b[0m_original_iterator\u001b[0m \u001b[1;32mis\u001b[0m \u001b[1;32mnot\u001b[0m \u001b[1;32mNone\u001b[0m\u001b[1;33m\u001b[0m\u001b[1;33m\u001b[0m\u001b[0m\n\u001b[0;32m    923\u001b[0m \u001b[1;33m\u001b[0m\u001b[0m\n\u001b[1;32m--> 924\u001b[1;33m             \u001b[1;32mwhile\u001b[0m \u001b[0mself\u001b[0m\u001b[1;33m.\u001b[0m\u001b[0mdispatch_one_batch\u001b[0m\u001b[1;33m(\u001b[0m\u001b[0miterator\u001b[0m\u001b[1;33m)\u001b[0m\u001b[1;33m:\u001b[0m\u001b[1;33m\u001b[0m\u001b[1;33m\u001b[0m\u001b[0m\n\u001b[0m\u001b[0;32m    925\u001b[0m                 \u001b[1;32mpass\u001b[0m\u001b[1;33m\u001b[0m\u001b[1;33m\u001b[0m\u001b[0m\n\u001b[0;32m    926\u001b[0m \u001b[1;33m\u001b[0m\u001b[0m\n",
      "\u001b[1;32m~\\.conda\\envs\\opencv\\lib\\site-packages\\joblib\\parallel.py\u001b[0m in \u001b[0;36mdispatch_one_batch\u001b[1;34m(self, iterator)\u001b[0m\n\u001b[0;32m    757\u001b[0m                 \u001b[1;32mreturn\u001b[0m \u001b[1;32mFalse\u001b[0m\u001b[1;33m\u001b[0m\u001b[1;33m\u001b[0m\u001b[0m\n\u001b[0;32m    758\u001b[0m             \u001b[1;32melse\u001b[0m\u001b[1;33m:\u001b[0m\u001b[1;33m\u001b[0m\u001b[1;33m\u001b[0m\u001b[0m\n\u001b[1;32m--> 759\u001b[1;33m                 \u001b[0mself\u001b[0m\u001b[1;33m.\u001b[0m\u001b[0m_dispatch\u001b[0m\u001b[1;33m(\u001b[0m\u001b[0mtasks\u001b[0m\u001b[1;33m)\u001b[0m\u001b[1;33m\u001b[0m\u001b[1;33m\u001b[0m\u001b[0m\n\u001b[0m\u001b[0;32m    760\u001b[0m                 \u001b[1;32mreturn\u001b[0m \u001b[1;32mTrue\u001b[0m\u001b[1;33m\u001b[0m\u001b[1;33m\u001b[0m\u001b[0m\n\u001b[0;32m    761\u001b[0m \u001b[1;33m\u001b[0m\u001b[0m\n",
      "\u001b[1;32m~\\.conda\\envs\\opencv\\lib\\site-packages\\joblib\\parallel.py\u001b[0m in \u001b[0;36m_dispatch\u001b[1;34m(self, batch)\u001b[0m\n\u001b[0;32m    714\u001b[0m         \u001b[1;32mwith\u001b[0m \u001b[0mself\u001b[0m\u001b[1;33m.\u001b[0m\u001b[0m_lock\u001b[0m\u001b[1;33m:\u001b[0m\u001b[1;33m\u001b[0m\u001b[1;33m\u001b[0m\u001b[0m\n\u001b[0;32m    715\u001b[0m             \u001b[0mjob_idx\u001b[0m \u001b[1;33m=\u001b[0m \u001b[0mlen\u001b[0m\u001b[1;33m(\u001b[0m\u001b[0mself\u001b[0m\u001b[1;33m.\u001b[0m\u001b[0m_jobs\u001b[0m\u001b[1;33m)\u001b[0m\u001b[1;33m\u001b[0m\u001b[1;33m\u001b[0m\u001b[0m\n\u001b[1;32m--> 716\u001b[1;33m             \u001b[0mjob\u001b[0m \u001b[1;33m=\u001b[0m \u001b[0mself\u001b[0m\u001b[1;33m.\u001b[0m\u001b[0m_backend\u001b[0m\u001b[1;33m.\u001b[0m\u001b[0mapply_async\u001b[0m\u001b[1;33m(\u001b[0m\u001b[0mbatch\u001b[0m\u001b[1;33m,\u001b[0m \u001b[0mcallback\u001b[0m\u001b[1;33m=\u001b[0m\u001b[0mcb\u001b[0m\u001b[1;33m)\u001b[0m\u001b[1;33m\u001b[0m\u001b[1;33m\u001b[0m\u001b[0m\n\u001b[0m\u001b[0;32m    717\u001b[0m             \u001b[1;31m# A job can complete so quickly than its callback is\u001b[0m\u001b[1;33m\u001b[0m\u001b[1;33m\u001b[0m\u001b[1;33m\u001b[0m\u001b[0m\n\u001b[0;32m    718\u001b[0m             \u001b[1;31m# called before we get here, causing self._jobs to\u001b[0m\u001b[1;33m\u001b[0m\u001b[1;33m\u001b[0m\u001b[1;33m\u001b[0m\u001b[0m\n",
      "\u001b[1;32m~\\.conda\\envs\\opencv\\lib\\site-packages\\joblib\\_parallel_backends.py\u001b[0m in \u001b[0;36mapply_async\u001b[1;34m(self, func, callback)\u001b[0m\n\u001b[0;32m    180\u001b[0m     \u001b[1;32mdef\u001b[0m \u001b[0mapply_async\u001b[0m\u001b[1;33m(\u001b[0m\u001b[0mself\u001b[0m\u001b[1;33m,\u001b[0m \u001b[0mfunc\u001b[0m\u001b[1;33m,\u001b[0m \u001b[0mcallback\u001b[0m\u001b[1;33m=\u001b[0m\u001b[1;32mNone\u001b[0m\u001b[1;33m)\u001b[0m\u001b[1;33m:\u001b[0m\u001b[1;33m\u001b[0m\u001b[1;33m\u001b[0m\u001b[0m\n\u001b[0;32m    181\u001b[0m         \u001b[1;34m\"\"\"Schedule a func to be run\"\"\"\u001b[0m\u001b[1;33m\u001b[0m\u001b[1;33m\u001b[0m\u001b[0m\n\u001b[1;32m--> 182\u001b[1;33m         \u001b[0mresult\u001b[0m \u001b[1;33m=\u001b[0m \u001b[0mImmediateResult\u001b[0m\u001b[1;33m(\u001b[0m\u001b[0mfunc\u001b[0m\u001b[1;33m)\u001b[0m\u001b[1;33m\u001b[0m\u001b[1;33m\u001b[0m\u001b[0m\n\u001b[0m\u001b[0;32m    183\u001b[0m         \u001b[1;32mif\u001b[0m \u001b[0mcallback\u001b[0m\u001b[1;33m:\u001b[0m\u001b[1;33m\u001b[0m\u001b[1;33m\u001b[0m\u001b[0m\n\u001b[0;32m    184\u001b[0m             \u001b[0mcallback\u001b[0m\u001b[1;33m(\u001b[0m\u001b[0mresult\u001b[0m\u001b[1;33m)\u001b[0m\u001b[1;33m\u001b[0m\u001b[1;33m\u001b[0m\u001b[0m\n",
      "\u001b[1;32m~\\.conda\\envs\\opencv\\lib\\site-packages\\joblib\\_parallel_backends.py\u001b[0m in \u001b[0;36m__init__\u001b[1;34m(self, batch)\u001b[0m\n\u001b[0;32m    547\u001b[0m         \u001b[1;31m# Don't delay the application, to avoid keeping the input\u001b[0m\u001b[1;33m\u001b[0m\u001b[1;33m\u001b[0m\u001b[1;33m\u001b[0m\u001b[0m\n\u001b[0;32m    548\u001b[0m         \u001b[1;31m# arguments in memory\u001b[0m\u001b[1;33m\u001b[0m\u001b[1;33m\u001b[0m\u001b[1;33m\u001b[0m\u001b[0m\n\u001b[1;32m--> 549\u001b[1;33m         \u001b[0mself\u001b[0m\u001b[1;33m.\u001b[0m\u001b[0mresults\u001b[0m \u001b[1;33m=\u001b[0m \u001b[0mbatch\u001b[0m\u001b[1;33m(\u001b[0m\u001b[1;33m)\u001b[0m\u001b[1;33m\u001b[0m\u001b[1;33m\u001b[0m\u001b[0m\n\u001b[0m\u001b[0;32m    550\u001b[0m \u001b[1;33m\u001b[0m\u001b[0m\n\u001b[0;32m    551\u001b[0m     \u001b[1;32mdef\u001b[0m \u001b[0mget\u001b[0m\u001b[1;33m(\u001b[0m\u001b[0mself\u001b[0m\u001b[1;33m)\u001b[0m\u001b[1;33m:\u001b[0m\u001b[1;33m\u001b[0m\u001b[1;33m\u001b[0m\u001b[0m\n",
      "\u001b[1;32m~\\.conda\\envs\\opencv\\lib\\site-packages\\joblib\\parallel.py\u001b[0m in \u001b[0;36m__call__\u001b[1;34m(self)\u001b[0m\n\u001b[0;32m    223\u001b[0m         \u001b[1;32mwith\u001b[0m \u001b[0mparallel_backend\u001b[0m\u001b[1;33m(\u001b[0m\u001b[0mself\u001b[0m\u001b[1;33m.\u001b[0m\u001b[0m_backend\u001b[0m\u001b[1;33m,\u001b[0m \u001b[0mn_jobs\u001b[0m\u001b[1;33m=\u001b[0m\u001b[0mself\u001b[0m\u001b[1;33m.\u001b[0m\u001b[0m_n_jobs\u001b[0m\u001b[1;33m)\u001b[0m\u001b[1;33m:\u001b[0m\u001b[1;33m\u001b[0m\u001b[1;33m\u001b[0m\u001b[0m\n\u001b[0;32m    224\u001b[0m             return [func(*args, **kwargs)\n\u001b[1;32m--> 225\u001b[1;33m                     for func, args, kwargs in self.items]\n\u001b[0m\u001b[0;32m    226\u001b[0m \u001b[1;33m\u001b[0m\u001b[0m\n\u001b[0;32m    227\u001b[0m     \u001b[1;32mdef\u001b[0m \u001b[0m__len__\u001b[0m\u001b[1;33m(\u001b[0m\u001b[0mself\u001b[0m\u001b[1;33m)\u001b[0m\u001b[1;33m:\u001b[0m\u001b[1;33m\u001b[0m\u001b[1;33m\u001b[0m\u001b[0m\n",
      "\u001b[1;32m~\\.conda\\envs\\opencv\\lib\\site-packages\\joblib\\parallel.py\u001b[0m in \u001b[0;36m<listcomp>\u001b[1;34m(.0)\u001b[0m\n\u001b[0;32m    223\u001b[0m         \u001b[1;32mwith\u001b[0m \u001b[0mparallel_backend\u001b[0m\u001b[1;33m(\u001b[0m\u001b[0mself\u001b[0m\u001b[1;33m.\u001b[0m\u001b[0m_backend\u001b[0m\u001b[1;33m,\u001b[0m \u001b[0mn_jobs\u001b[0m\u001b[1;33m=\u001b[0m\u001b[0mself\u001b[0m\u001b[1;33m.\u001b[0m\u001b[0m_n_jobs\u001b[0m\u001b[1;33m)\u001b[0m\u001b[1;33m:\u001b[0m\u001b[1;33m\u001b[0m\u001b[1;33m\u001b[0m\u001b[0m\n\u001b[0;32m    224\u001b[0m             return [func(*args, **kwargs)\n\u001b[1;32m--> 225\u001b[1;33m                     for func, args, kwargs in self.items]\n\u001b[0m\u001b[0;32m    226\u001b[0m \u001b[1;33m\u001b[0m\u001b[0m\n\u001b[0;32m    227\u001b[0m     \u001b[1;32mdef\u001b[0m \u001b[0m__len__\u001b[0m\u001b[1;33m(\u001b[0m\u001b[0mself\u001b[0m\u001b[1;33m)\u001b[0m\u001b[1;33m:\u001b[0m\u001b[1;33m\u001b[0m\u001b[1;33m\u001b[0m\u001b[0m\n",
      "\u001b[1;32m~\\.conda\\envs\\opencv\\lib\\site-packages\\sklearn\\multioutput.py\u001b[0m in \u001b[0;36m_fit_estimator\u001b[1;34m(estimator, X, y, sample_weight)\u001b[0m\n\u001b[0;32m     37\u001b[0m         \u001b[0mestimator\u001b[0m\u001b[1;33m.\u001b[0m\u001b[0mfit\u001b[0m\u001b[1;33m(\u001b[0m\u001b[0mX\u001b[0m\u001b[1;33m,\u001b[0m \u001b[0my\u001b[0m\u001b[1;33m,\u001b[0m \u001b[0msample_weight\u001b[0m\u001b[1;33m=\u001b[0m\u001b[0msample_weight\u001b[0m\u001b[1;33m)\u001b[0m\u001b[1;33m\u001b[0m\u001b[1;33m\u001b[0m\u001b[0m\n\u001b[0;32m     38\u001b[0m     \u001b[1;32melse\u001b[0m\u001b[1;33m:\u001b[0m\u001b[1;33m\u001b[0m\u001b[1;33m\u001b[0m\u001b[0m\n\u001b[1;32m---> 39\u001b[1;33m         \u001b[0mestimator\u001b[0m\u001b[1;33m.\u001b[0m\u001b[0mfit\u001b[0m\u001b[1;33m(\u001b[0m\u001b[0mX\u001b[0m\u001b[1;33m,\u001b[0m \u001b[0my\u001b[0m\u001b[1;33m)\u001b[0m\u001b[1;33m\u001b[0m\u001b[1;33m\u001b[0m\u001b[0m\n\u001b[0m\u001b[0;32m     40\u001b[0m     \u001b[1;32mreturn\u001b[0m \u001b[0mestimator\u001b[0m\u001b[1;33m\u001b[0m\u001b[1;33m\u001b[0m\u001b[0m\n\u001b[0;32m     41\u001b[0m \u001b[1;33m\u001b[0m\u001b[0m\n",
      "\u001b[1;32m~\\.conda\\envs\\opencv\\lib\\site-packages\\sklearn\\ensemble\\gradient_boosting.py\u001b[0m in \u001b[0;36mfit\u001b[1;34m(self, X, y, sample_weight, monitor)\u001b[0m\n\u001b[0;32m   1544\u001b[0m         n_stages = self._fit_stages(\n\u001b[0;32m   1545\u001b[0m             \u001b[0mX\u001b[0m\u001b[1;33m,\u001b[0m \u001b[0my\u001b[0m\u001b[1;33m,\u001b[0m \u001b[0mraw_predictions\u001b[0m\u001b[1;33m,\u001b[0m \u001b[0msample_weight\u001b[0m\u001b[1;33m,\u001b[0m \u001b[0mself\u001b[0m\u001b[1;33m.\u001b[0m\u001b[0m_rng\u001b[0m\u001b[1;33m,\u001b[0m \u001b[0mX_val\u001b[0m\u001b[1;33m,\u001b[0m \u001b[0my_val\u001b[0m\u001b[1;33m,\u001b[0m\u001b[1;33m\u001b[0m\u001b[1;33m\u001b[0m\u001b[0m\n\u001b[1;32m-> 1546\u001b[1;33m             sample_weight_val, begin_at_stage, monitor, X_idx_sorted)\n\u001b[0m\u001b[0;32m   1547\u001b[0m \u001b[1;33m\u001b[0m\u001b[0m\n\u001b[0;32m   1548\u001b[0m         \u001b[1;31m# change shape of arrays after fit (early-stopping or additional ests)\u001b[0m\u001b[1;33m\u001b[0m\u001b[1;33m\u001b[0m\u001b[1;33m\u001b[0m\u001b[0m\n",
      "\u001b[1;32m~\\.conda\\envs\\opencv\\lib\\site-packages\\sklearn\\ensemble\\gradient_boosting.py\u001b[0m in \u001b[0;36m_fit_stages\u001b[1;34m(self, X, y, raw_predictions, sample_weight, random_state, X_val, y_val, sample_weight_val, begin_at_stage, monitor, X_idx_sorted)\u001b[0m\n\u001b[0;32m   1608\u001b[0m             raw_predictions = self._fit_stage(\n\u001b[0;32m   1609\u001b[0m                 \u001b[0mi\u001b[0m\u001b[1;33m,\u001b[0m \u001b[0mX\u001b[0m\u001b[1;33m,\u001b[0m \u001b[0my\u001b[0m\u001b[1;33m,\u001b[0m \u001b[0mraw_predictions\u001b[0m\u001b[1;33m,\u001b[0m \u001b[0msample_weight\u001b[0m\u001b[1;33m,\u001b[0m \u001b[0msample_mask\u001b[0m\u001b[1;33m,\u001b[0m\u001b[1;33m\u001b[0m\u001b[1;33m\u001b[0m\u001b[0m\n\u001b[1;32m-> 1610\u001b[1;33m                 random_state, X_idx_sorted, X_csc, X_csr)\n\u001b[0m\u001b[0;32m   1611\u001b[0m \u001b[1;33m\u001b[0m\u001b[0m\n\u001b[0;32m   1612\u001b[0m             \u001b[1;31m# track deviance (= loss)\u001b[0m\u001b[1;33m\u001b[0m\u001b[1;33m\u001b[0m\u001b[1;33m\u001b[0m\u001b[0m\n",
      "\u001b[1;32m~\\.conda\\envs\\opencv\\lib\\site-packages\\sklearn\\ensemble\\gradient_boosting.py\u001b[0m in \u001b[0;36m_fit_stage\u001b[1;34m(self, i, X, y, raw_predictions, sample_weight, sample_mask, random_state, X_idx_sorted, X_csc, X_csr)\u001b[0m\n\u001b[0;32m   1242\u001b[0m             \u001b[0mX\u001b[0m \u001b[1;33m=\u001b[0m \u001b[0mX_csr\u001b[0m \u001b[1;32mif\u001b[0m \u001b[0mX_csr\u001b[0m \u001b[1;32mis\u001b[0m \u001b[1;32mnot\u001b[0m \u001b[1;32mNone\u001b[0m \u001b[1;32melse\u001b[0m \u001b[0mX\u001b[0m\u001b[1;33m\u001b[0m\u001b[1;33m\u001b[0m\u001b[0m\n\u001b[0;32m   1243\u001b[0m             tree.fit(X, residual, sample_weight=sample_weight,\n\u001b[1;32m-> 1244\u001b[1;33m                      check_input=False, X_idx_sorted=X_idx_sorted)\n\u001b[0m\u001b[0;32m   1245\u001b[0m \u001b[1;33m\u001b[0m\u001b[0m\n\u001b[0;32m   1246\u001b[0m             \u001b[1;31m# update tree leaves\u001b[0m\u001b[1;33m\u001b[0m\u001b[1;33m\u001b[0m\u001b[1;33m\u001b[0m\u001b[0m\n",
      "\u001b[1;32m~\\.conda\\envs\\opencv\\lib\\site-packages\\sklearn\\tree\\tree.py\u001b[0m in \u001b[0;36mfit\u001b[1;34m(self, X, y, sample_weight, check_input, X_idx_sorted)\u001b[0m\n\u001b[0;32m   1155\u001b[0m             \u001b[0msample_weight\u001b[0m\u001b[1;33m=\u001b[0m\u001b[0msample_weight\u001b[0m\u001b[1;33m,\u001b[0m\u001b[1;33m\u001b[0m\u001b[1;33m\u001b[0m\u001b[0m\n\u001b[0;32m   1156\u001b[0m             \u001b[0mcheck_input\u001b[0m\u001b[1;33m=\u001b[0m\u001b[0mcheck_input\u001b[0m\u001b[1;33m,\u001b[0m\u001b[1;33m\u001b[0m\u001b[1;33m\u001b[0m\u001b[0m\n\u001b[1;32m-> 1157\u001b[1;33m             X_idx_sorted=X_idx_sorted)\n\u001b[0m\u001b[0;32m   1158\u001b[0m         \u001b[1;32mreturn\u001b[0m \u001b[0mself\u001b[0m\u001b[1;33m\u001b[0m\u001b[1;33m\u001b[0m\u001b[0m\n\u001b[0;32m   1159\u001b[0m \u001b[1;33m\u001b[0m\u001b[0m\n",
      "\u001b[1;32m~\\.conda\\envs\\opencv\\lib\\site-packages\\sklearn\\tree\\tree.py\u001b[0m in \u001b[0;36mfit\u001b[1;34m(self, X, y, sample_weight, check_input, X_idx_sorted)\u001b[0m\n\u001b[0;32m    378\u001b[0m                                            min_impurity_split)\n\u001b[0;32m    379\u001b[0m \u001b[1;33m\u001b[0m\u001b[0m\n\u001b[1;32m--> 380\u001b[1;33m         \u001b[0mbuilder\u001b[0m\u001b[1;33m.\u001b[0m\u001b[0mbuild\u001b[0m\u001b[1;33m(\u001b[0m\u001b[0mself\u001b[0m\u001b[1;33m.\u001b[0m\u001b[0mtree_\u001b[0m\u001b[1;33m,\u001b[0m \u001b[0mX\u001b[0m\u001b[1;33m,\u001b[0m \u001b[0my\u001b[0m\u001b[1;33m,\u001b[0m \u001b[0msample_weight\u001b[0m\u001b[1;33m,\u001b[0m \u001b[0mX_idx_sorted\u001b[0m\u001b[1;33m)\u001b[0m\u001b[1;33m\u001b[0m\u001b[1;33m\u001b[0m\u001b[0m\n\u001b[0m\u001b[0;32m    381\u001b[0m \u001b[1;33m\u001b[0m\u001b[0m\n\u001b[0;32m    382\u001b[0m         \u001b[1;32mif\u001b[0m \u001b[0mself\u001b[0m\u001b[1;33m.\u001b[0m\u001b[0mn_outputs_\u001b[0m \u001b[1;33m==\u001b[0m \u001b[1;36m1\u001b[0m\u001b[1;33m:\u001b[0m\u001b[1;33m\u001b[0m\u001b[1;33m\u001b[0m\u001b[0m\n",
      "\u001b[1;31mKeyboardInterrupt\u001b[0m: "
     ]
    }
   ],
   "source": [
    "############## Gradient Boosting ################\n",
    "\n",
    "from sklearn.multioutput import MultiOutputRegressor\n",
    "from sklearn.ensemble import GradientBoostingRegressor\n",
    "from sklearn import metrics\n",
    "from matplotlib.pylab import rcParams\n",
    "rcParams['figure.figsize'] = 14, 8\n",
    "\n",
    "rmse_train = list()\n",
    "rmse_val = list()\n",
    "num_of_trees = [10, 20, 50, 75, 100, 150, 200, 250, 300, 400, 500, 750, 1000]\n",
    "\n",
    "for trees in num_of_trees:\n",
    "\n",
    "    gbr = MultiOutputRegressor(GradientBoostingRegressor(n_estimators=trees))\n",
    "    gbr.fit(X_train, y_train)\n",
    "\n",
    "    y_pred_train = gbr.predict(X_train)\n",
    "    y_pred_val = gbr.predict(X_val)\n",
    "\n",
    "    print ('num of trees: '+str(trees))\n",
    "\n",
    "    print('Root Mean Squared Error:', np.sqrt(metrics.mean_squared_error(y_train, y_pred_train)))\n",
    "    rmse_train.append(np.sqrt(metrics.mean_squared_error(y_train, y_pred_train)))\n",
    "\n",
    "    print('Root Mean Squared Error:', np.sqrt(metrics.mean_squared_error(y_val, y_pred_val)))\n",
    "    print ('\\n')\n",
    "    rmse_val.append(np.sqrt(metrics.mean_squared_error(y_val, y_pred_val)))\n",
    "    print (rmse_val)\n",
    "    print (rmse_train)\n",
    "    '''\n",
    "    dic_train = {'Actual':y_train[1000:1101,3], 'Predicted':y_pred_train[1000:1101,3]}\n",
    "    dic_val = {'Actual':y_val[1000:1101,3], 'Predicted':y_pred_val[1000:1101,3]}\n",
    "    \n",
    "    df_train = pd.DataFrame(dic_train)\n",
    "    df_val = pd.DataFrame(dic_val)\n",
    "    df_val = df_val.drop([3])\n",
    "    df_val = df_val.drop([31])\n",
    "    #print (df_val)\n",
    "    \n",
    "    plt.plot(df_train['Actual'], label='Actual')\n",
    "    plt.plot(df_train['Predicted'], color='red', label='Predicted')\n",
    "    plt.title('Training Set')\n",
    "    plt.xlabel('data points')\n",
    "    plt.ylabel('Actual and Predicted')\n",
    "    plt.legend()\n",
    "    plt.show()\n",
    "\n",
    "    plt.plot(df_val['Actual'], label='Actual')\n",
    "    plt.plot(df_val['Predicted'], color='red', label='Predicted')\n",
    "    plt.title('Validation Set')\n",
    "    plt.xlabel('data points')\n",
    "    plt.ylabel('Actual and Predicted')\n",
    "    plt.legend()\n",
    "    plt.show()\n",
    "    '''\n",
    "'''\n",
    "df_RF = pd.DataFrame({'No of trees':num_of_trees, 'RMSE_train':rmse_train, 'RMSE_val':rmse_val})\n",
    "df_RF = df_RF.set_index('No of trees')\n",
    "plt.plot(df_RF['RMSE_train'], label='RMSE_train')\n",
    "plt.plot(df_RF['RMSE_val'], color='red', label='RMSE_val')\n",
    "plt.title('RMSE')\n",
    "plt.xlabel('No. of trees')\n",
    "plt.ylabel('RMSE')\n",
    "plt.legend()\n",
    "plt.show()\n",
    "'''\n",
    "##################################################"
   ]
  },
  {
   "cell_type": "code",
   "execution_count": 3,
   "metadata": {
    "collapsed": true,
    "jupyter": {
     "outputs_hidden": true
    }
   },
   "outputs": [
    {
     "data": {
      "image/png": "[encoded data removed]",
      "text/plain": [
       "<Figure size 1008x576 with 1 Axes>"
      ]
     },
     "metadata": {
      "needs_background": "light"
     },
     "output_type": "display_data"
    }
   ],
   "source": [
    "import numpy as np\n",
    "import pandas as pd\n",
    "import matplotlib.pylab as plt\n",
    "%matplotlib inline\n",
    "from matplotlib.pylab import rcParams\n",
    "rcParams['figure.figsize'] = 14, 8\n",
    "\n",
    "num_of_trees = [20, 50, 100, 200, 300, 500, 750]\n",
    "rmse_train = [5402, 4013, 3203, 2393, 1992, 1427, 1034]\n",
    "rmse_val = [6262.780920045128, 5863.927855939482, 5938.399435582377, 6003.073637788552, 6004.259943576276, 6045.3760860473385, 6091.385580433585]\n",
    "\n",
    "df_RF = pd.DataFrame({'No of trees':num_of_trees, 'RMSE_train':rmse_train, 'RMSE_val':rmse_val})\n",
    "df_RF = df_RF.set_index('No of trees')\n",
    "plt.plot(df_RF['RMSE_train'], label='RMSE_train')\n",
    "plt.plot(df_RF['RMSE_val'], color='red', label='RMSE_val')\n",
    "plt.title('RMSE')\n",
    "plt.xlabel('No. of trees')\n",
    "plt.ylabel('RMSE')\n",
    "plt.legend()\n",
    "plt.show()"
   ]
  },
  {
   "cell_type": "code",
   "execution_count": null,
   "metadata": {},
   "outputs": [],
   "source": [
    "############### Adaptive Boosting ################\n",
    "\n",
    "#from sklearn.tree import DecisionTreeRegressor\n",
    "from sklearn.multioutput import MultiOutputRegressor\n",
    "from sklearn.ensemble import AdaBoostRegressor\n",
    "from sklearn import metrics\n",
    "from matplotlib.pylab import rcParams\n",
    "rcParams['figure.figsize'] = 14, 8\n",
    "\n",
    "rmse_train = list()\n",
    "rmse_val = list()\n",
    "num_of_trees = [5, 10, 20, 50, 75, 100, 200, 300, 500, 750, 1000]\n",
    "\n",
    "for trees in num_of_trees:\n",
    "\n",
    "    abr = MultiOutputRegressor(AdaBoostRegressor(n_estimators=trees, random_state=0))\n",
    "    print (X_train.shape, y_train.shape)\n",
    "    abr.fit(X_train, y_train)\n",
    "\n",
    "    y_pred_train = abr.predict(X_train)\n",
    "    y_pred_val = abr.predict(X_val)\n",
    "\n",
    "    print ('layer size: '+str(trees))\n",
    "\n",
    "    print('Root Mean Squared Error:', np.sqrt(metrics.mean_squared_error(y_train, y_pred_train)))\n",
    "    rmse_train.append(np.sqrt(metrics.mean_squared_error(y_train, y_pred_train)))\n",
    "\n",
    "    print('Root Mean Squared Error:', np.sqrt(metrics.mean_squared_error(y_val, y_pred_val)))\n",
    "    print ('\\n')\n",
    "    rmse_val.append(np.sqrt(metrics.mean_squared_error(y_val, y_pred_val)))\n",
    "    print (rmse_val)\n",
    "    \n",
    "    dic_train = {'Actual':y_train[0:101,3], 'Predicted':y_pred_train[0:101,3]}\n",
    "    dic_val = {'Actual':y_val[0:101,3], 'Predicted':y_pred_val[0:101,3]}\n",
    "    \n",
    "    df_train = pd.DataFrame(dic_train)\n",
    "    df_val = pd.DataFrame(dic_val)\n",
    "    #df_val = df_val.drop([47])\n",
    "    #print (df_val)\n",
    "    \n",
    "    plt.plot(df_train['Actual'], label='Actual')\n",
    "    plt.plot(df_train['Predicted'], color='red', label='Predicted')\n",
    "    plt.title('Training Set')\n",
    "    plt.xlabel('data points')\n",
    "    plt.ylabel('Actual and Predicted')\n",
    "    plt.legend()\n",
    "    plt.show()\n",
    "\n",
    "    plt.plot(df_val['Actual'], label='Actual')\n",
    "    plt.plot(df_val['Predicted'], color='red', label='Predicted')\n",
    "    plt.title('Validation Set')\n",
    "    plt.xlabel('data points')\n",
    "    plt.ylabel('Actual and Predicted')\n",
    "    plt.legend()\n",
    "    plt.show()\n",
    "\n",
    "df_RF = pd.DataFrame({'No of trees':num_of_trees, 'RMSE_train':rmse_train, 'RMSE_val':rmse_val})\n",
    "df_RF = df_RF.set_index('No of trees')\n",
    "plt.plot(df_RF['RMSE_train'], label='RMSE_train')\n",
    "plt.plot(df_RF['RMSE_val'], color='red', label='RMSE_val')\n",
    "plt.title('RMSE')\n",
    "plt.xlabel('No. of trees')\n",
    "plt.ylabel('RMSE')\n",
    "plt.legend()\n",
    "plt.show()\n",
    "\n",
    "##################################################"
   ]
  },
  {
   "cell_type": "code",
   "execution_count": 148,
   "metadata": {},
   "outputs": [
    {
     "name": "stdout",
     "output_type": "stream",
     "text": [
      "(18508, 19)\n"
     ]
    }
   ],
   "source": [
    "print (y.shape)"
   ]
  },
  {
   "cell_type": "code",
   "execution_count": 151,
   "metadata": {},
   "outputs": [
    {
     "name": "stdout",
     "output_type": "stream",
     "text": [
      "Epoch 1/40\n",
      "16657/16657 [==============================] - 7s 402us/step - loss: 2764878.2223 - mean_squared_error: 2764878.0000\n",
      "Epoch 2/40\n",
      "16657/16657 [==============================] - 5s 277us/step - loss: 2569650.0165 - mean_squared_error: 2569651.0000\n",
      "Epoch 3/40\n",
      "16657/16657 [==============================] - 5s 312us/step - loss: 2453258.9649 - mean_squared_error: 2453258.7500\n",
      "Epoch 4/40\n",
      "16657/16657 [==============================] - 6s 333us/step - loss: 2334226.6953 - mean_squared_error: 2334227.5000\n",
      "Epoch 5/40\n",
      "16657/16657 [==============================] - 5s 313us/step - loss: 2167310.7031 - mean_squared_error: 2167311.5000\n",
      "Epoch 6/40\n",
      "16657/16657 [==============================] - 5s 277us/step - loss: 2004135.7562 - mean_squared_error: 2004135.8750\n",
      "Epoch 7/40\n",
      "16657/16657 [==============================] - 4s 268us/step - loss: 1764549.8360 - mean_squared_error: 1764549.6250\n",
      "Epoch 8/40\n",
      "16657/16657 [==============================] - 5s 274us/step - loss: 1658064.1548 - mean_squared_error: 1658063.8750\n",
      "Epoch 9/40\n",
      "16657/16657 [==============================] - 5s 283us/step - loss: 1579431.3275 - mean_squared_error: 1579432.0000\n",
      "Epoch 10/40\n",
      "16657/16657 [==============================] - 5s 273us/step - loss: 1504661.7331 - mean_squared_error: 1504661.3750\n",
      "Epoch 11/40\n",
      "16657/16657 [==============================] - 5s 281us/step - loss: 1365077.0152 - mean_squared_error: 1365077.5000\n",
      "Epoch 12/40\n",
      "16657/16657 [==============================] - 5s 284us/step - loss: 1294045.1634 - mean_squared_error: 1294045.8750\n",
      "Epoch 13/40\n",
      "16657/16657 [==============================] - 5s 285us/step - loss: 1199880.4742 - mean_squared_error: 1199880.7500\n",
      "Epoch 14/40\n",
      "16657/16657 [==============================] - 5s 280us/step - loss: 1176509.4406 - mean_squared_error: 1176508.7500\n",
      "Epoch 15/40\n",
      "16657/16657 [==============================] - 5s 278us/step - loss: 1147379.2344 - mean_squared_error: 1147379.8750\n",
      "Epoch 16/40\n",
      "16657/16657 [==============================] - 5s 294us/step - loss: 1128634.3690 - mean_squared_error: 1128634.3750\n",
      "Epoch 17/40\n",
      "16657/16657 [==============================] - 5s 285us/step - loss: 1039601.3516 - mean_squared_error: 1039601.5625\n",
      "Epoch 18/40\n",
      "16657/16657 [==============================] - 5s 293us/step - loss: 1011623.7825 - mean_squared_error: 1011624.1875\n",
      "Epoch 19/40\n",
      "16657/16657 [==============================] - 5s 294us/step - loss: 1017055.3227 - mean_squared_error: 1017055.0000\n",
      "Epoch 20/40\n",
      "16657/16657 [==============================] - 5s 273us/step - loss: 1052509.6485 - mean_squared_error: 1052509.5000\n",
      "Epoch 21/40\n",
      "16657/16657 [==============================] - 4s 265us/step - loss: 1045306.8441 - mean_squared_error: 1045306.3750\n",
      "Epoch 22/40\n",
      "16657/16657 [==============================] - 4s 270us/step - loss: 952131.2359 - mean_squared_error: 952131.0000\n",
      "Epoch 23/40\n",
      "16657/16657 [==============================] - 4s 258us/step - loss: 976122.8950 - mean_squared_error: 976123.0000\n",
      "Epoch 24/40\n",
      "16657/16657 [==============================] - 4s 249us/step - loss: 995293.9205 - mean_squared_error: 995293.7500\n",
      "Epoch 25/40\n",
      "16657/16657 [==============================] - 4s 252us/step - loss: 953128.1318 - mean_squared_error: 953128.1250\n",
      "Epoch 26/40\n",
      "16657/16657 [==============================] - 4s 269us/step - loss: 990272.0731 - mean_squared_error: 990272.4375\n",
      "Epoch 27/40\n",
      "16657/16657 [==============================] - 4s 262us/step - loss: 955429.6395 - mean_squared_error: 955429.6875\n",
      "Epoch 28/40\n",
      "16657/16657 [==============================] - 4s 265us/step - loss: 987424.3768 - mean_squared_error: 987424.0000\n",
      "Epoch 29/40\n",
      "16657/16657 [==============================] - 4s 255us/step - loss: 906216.9559 - mean_squared_error: 906217.1875\n",
      "Epoch 30/40\n",
      "16657/16657 [==============================] - 4s 264us/step - loss: 898419.0302 - mean_squared_error: 898419.3750\n",
      "Epoch 31/40\n",
      "16657/16657 [==============================] - 4s 266us/step - loss: 912745.0165 - mean_squared_error: 912745.2500\n",
      "Epoch 32/40\n",
      "16657/16657 [==============================] - 5s 272us/step - loss: 902936.0665 - mean_squared_error: 902936.4375\n",
      "Epoch 33/40\n",
      "16657/16657 [==============================] - 4s 258us/step - loss: 919879.4703 - mean_squared_error: 919880.0000\n",
      "Epoch 34/40\n",
      "16657/16657 [==============================] - 4s 253us/step - loss: 898241.1958 - mean_squared_error: 898241.2500\n",
      "Epoch 35/40\n",
      "16657/16657 [==============================] - 4s 254us/step - loss: 875429.1788 - mean_squared_error: 875429.1875\n",
      "Epoch 36/40\n",
      "16657/16657 [==============================] - 4s 252us/step - loss: 1032002.2612 - mean_squared_error: 1032002.1875\n",
      "Epoch 37/40\n",
      "16657/16657 [==============================] - 4s 259us/step - loss: 871113.5848 - mean_squared_error: 871113.1875\n",
      "Epoch 38/40\n",
      "16657/16657 [==============================] - 4s 258us/step - loss: 943775.2277 - mean_squared_error: 943775.3750\n",
      "Epoch 39/40\n",
      "16657/16657 [==============================] - 4s 260us/step - loss: 857188.0104 - mean_squared_error: 857188.5625\n",
      "Epoch 40/40\n",
      "16657/16657 [==============================] - 4s 255us/step - loss: 843886.7614 - mean_squared_error: 843887.1250\n",
      "Root Mean Squared Error: 903.1798766261885\n",
      "Root Mean Squared Error: 1197.060249954277\n"
     ]
    },
    {
     "data": {
      "text/plain": [
       "\"\\ndic_train = {'Actual':y_train[1000:1101,3], 'Predicted':y_pred_train[1000:1101,3]}\\ndic_val = {'Actual':y_val[1000:1101,3], 'Predicted':y_pred_val[1000:1101,3]}\\n    \\ndf_train = pd.DataFrame(dic_train)\\ndf_val = pd.DataFrame(dic_val)\\ndf_val = df_val.drop([3])\\ndf_val = df_val.drop([31])\\ndf_val = df_val.drop([80])\\n\\n#df_train = df_train.drop([47])\\n#df_train = df_train.drop([81])\\n#df_val = df_val.drop([65])\\n#df_val = df_val.drop([71])\\n\\n#print (df_train.iloc[80:101])\\n#print (df_val.iloc[51:101])\\n   \\nplt.plot(df_train['Actual'], label='Actual')\\nplt.plot(df_train['Predicted'], color='red', label='Predicted')\\nplt.title('Training Set')\\nplt.xlabel('data points')\\nplt.ylabel('Actual and Predicted')\\nplt.legend()\\nplt.show()\\n\\nplt.plot(df_val['Actual'], label='Actual')\\nplt.plot(df_val['Predicted'], color='red', label='Predicted')\\nplt.title('Validation Set')\\nplt.xlabel('data points')\\nplt.ylabel('Actual and Predicted')\\nplt.legend()\\nplt.show()\\n\""
      ]
     },
     "execution_count": 151,
     "metadata": {},
     "output_type": "execute_result"
    }
   ],
   "source": [
    "############ Neural Network #############\n",
    "\n",
    "from sklearn import metrics\n",
    "from matplotlib.pylab import rcParams\n",
    "rcParams['figure.figsize'] = 14, 8\n",
    "import keras\n",
    "from keras.models import Sequential\n",
    "from keras.layers import Dense, Dropout\n",
    "\n",
    "model = Sequential()\n",
    "model.add(Dense(650, input_dim=163, activation= \"relu\"))\n",
    "model.add(Dense(324, activation= \"relu\"))\n",
    "model.add(Dense(160, activation= \"relu\"))\n",
    "model.add(Dense(19))\n",
    "\n",
    "model.compile(loss= \"mean_squared_error\" , optimizer=\"adam\", metrics=[\"mean_squared_error\"])\n",
    "model.fit(X_train, y_train, epochs=40, batch_size=32, verbose=1)\n",
    "\n",
    "y_pred_train= model.predict(X_train)\n",
    "print('Root Mean Squared Error:', np.sqrt(metrics.mean_squared_error(y_train, y_pred_train)))\n",
    "\n",
    "y_pred_val= model.predict(X_val)\n",
    "print('Root Mean Squared Error:', np.sqrt(metrics.mean_squared_error(y_val, y_pred_val)))\n",
    "'''\n",
    "dic_train = {'Actual':y_train[1000:1101,3], 'Predicted':y_pred_train[1000:1101,3]}\n",
    "dic_val = {'Actual':y_val[1000:1101,3], 'Predicted':y_pred_val[1000:1101,3]}\n",
    "    \n",
    "df_train = pd.DataFrame(dic_train)\n",
    "df_val = pd.DataFrame(dic_val)\n",
    "df_val = df_val.drop([3])\n",
    "df_val = df_val.drop([31])\n",
    "df_val = df_val.drop([80])\n",
    "\n",
    "#df_train = df_train.drop([47])\n",
    "#df_train = df_train.drop([81])\n",
    "#df_val = df_val.drop([65])\n",
    "#df_val = df_val.drop([71])\n",
    "\n",
    "#print (df_train.iloc[80:101])\n",
    "#print (df_val.iloc[51:101])\n",
    "   \n",
    "plt.plot(df_train['Actual'], label='Actual')\n",
    "plt.plot(df_train['Predicted'], color='red', label='Predicted')\n",
    "plt.title('Training Set')\n",
    "plt.xlabel('data points')\n",
    "plt.ylabel('Actual and Predicted')\n",
    "plt.legend()\n",
    "plt.show()\n",
    "\n",
    "plt.plot(df_val['Actual'], label='Actual')\n",
    "plt.plot(df_val['Predicted'], color='red', label='Predicted')\n",
    "plt.title('Validation Set')\n",
    "plt.xlabel('data points')\n",
    "plt.ylabel('Actual and Predicted')\n",
    "plt.legend()\n",
    "plt.show()\n",
    "'''\n",
    "#########################################"
   ]
  },
  {
   "cell_type": "code",
   "execution_count": null,
   "metadata": {},
   "outputs": [],
   "source": []
  },
  {
   "cell_type": "code",
   "execution_count": null,
   "metadata": {},
   "outputs": [],
   "source": []
  },
  {
   "cell_type": "code",
   "execution_count": null,
   "metadata": {},
   "outputs": [],
   "source": []
  },
  {
   "cell_type": "code",
   "execution_count": null,
   "metadata": {},
   "outputs": [],
   "source": []
  },
  {
   "cell_type": "code",
   "execution_count": null,
   "metadata": {},
   "outputs": [],
   "source": []
  }
 ],
 "metadata": {
  "kernelspec": {
   "display_name": "Python 3",
   "language": "python",
   "name": "python3"
  },
  "language_info": {
   "codemirror_mode": {
    "name": "ipython",
    "version": 3
   },
   "file_extension": ".py",
   "mimetype": "text/x-python",
   "name": "python",
   "nbconvert_exporter": "python",
   "pygments_lexer": "ipython3",
   "version": "3.6.5"
  }
 },
 "nbformat": 4,
 "nbformat_minor": 4
}
